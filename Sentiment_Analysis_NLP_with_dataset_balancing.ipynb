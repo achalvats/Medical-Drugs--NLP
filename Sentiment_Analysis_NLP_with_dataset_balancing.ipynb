{
  "nbformat": 4,
  "nbformat_minor": 0,
  "metadata": {
    "colab": {
      "name": "Sentiment Analysis NLP- with dataset balancing.ipynb",
      "provenance": [],
      "collapsed_sections": [],
      "mount_file_id": "1YuOBooqmFwfNyY6mPOumLqin_t3B99Rl",
      "authorship_tag": "ABX9TyMvmiX5SDSjusBeLK3RM4Ti",
      "include_colab_link": true
    },
    "kernelspec": {
      "name": "python3",
      "display_name": "Python 3"
    }
  },
  "cells": [
    {
      "cell_type": "markdown",
      "metadata": {
        "id": "view-in-github",
        "colab_type": "text"
      },
      "source": [
        "<a href=\"https://colab.research.google.com/github/acvats/Medical-Drugs--NLP/blob/master/Sentiment_Analysis_NLP_with_dataset_balancing.ipynb\" target=\"_parent\"><img src=\"https://colab.research.google.com/assets/colab-badge.svg\" alt=\"Open In Colab\"/></a>"
      ]
    },
    {
      "cell_type": "code",
      "metadata": {
        "id": "ZAAaSa81HDLQ",
        "colab_type": "code",
        "colab": {}
      },
      "source": [
        "import os\n",
        "os.environ['KAGGLE_CONFIG_DIR'] = \"/content/.kaggle\""
      ],
      "execution_count": 2,
      "outputs": []
    },
    {
      "cell_type": "code",
      "metadata": {
        "id": "CJ5cW5p2Jpdy",
        "colab_type": "code",
        "colab": {
          "base_uri": "https://localhost:8080/",
          "height": 230
        },
        "outputId": "80c2c834-cf5d-4383-f7b7-fd41b2e37ec7"
      },
      "source": [
        "!pip install kaggle"
      ],
      "execution_count": 3,
      "outputs": [
        {
          "output_type": "stream",
          "text": [
            "Requirement already satisfied: kaggle in /usr/local/lib/python3.6/dist-packages (1.5.8)\n",
            "Requirement already satisfied: tqdm in /usr/local/lib/python3.6/dist-packages (from kaggle) (4.41.1)\n",
            "Requirement already satisfied: certifi in /usr/local/lib/python3.6/dist-packages (from kaggle) (2020.6.20)\n",
            "Requirement already satisfied: requests in /usr/local/lib/python3.6/dist-packages (from kaggle) (2.23.0)\n",
            "Requirement already satisfied: python-slugify in /usr/local/lib/python3.6/dist-packages (from kaggle) (4.0.1)\n",
            "Requirement already satisfied: six>=1.10 in /usr/local/lib/python3.6/dist-packages (from kaggle) (1.15.0)\n",
            "Requirement already satisfied: urllib3<1.25,>=1.21.1 in /usr/local/lib/python3.6/dist-packages (from kaggle) (1.24.3)\n",
            "Requirement already satisfied: python-dateutil in /usr/local/lib/python3.6/dist-packages (from kaggle) (2.8.1)\n",
            "Requirement already satisfied: slugify in /usr/local/lib/python3.6/dist-packages (from kaggle) (0.0.1)\n",
            "Requirement already satisfied: idna<3,>=2.5 in /usr/local/lib/python3.6/dist-packages (from requests->kaggle) (2.10)\n",
            "Requirement already satisfied: chardet<4,>=3.0.2 in /usr/local/lib/python3.6/dist-packages (from requests->kaggle) (3.0.4)\n",
            "Requirement already satisfied: text-unidecode>=1.3 in /usr/local/lib/python3.6/dist-packages (from python-slugify->kaggle) (1.3)\n"
          ],
          "name": "stdout"
        }
      ]
    },
    {
      "cell_type": "code",
      "metadata": {
        "id": "HOTKqLIFJqDf",
        "colab_type": "code",
        "colab": {}
      },
      "source": [
        "!mkdir .kaggle"
      ],
      "execution_count": 4,
      "outputs": []
    },
    {
      "cell_type": "code",
      "metadata": {
        "id": "ll3ZiWSrJr7u",
        "colab_type": "code",
        "colab": {}
      },
      "source": [
        "cp '/content/drive/My Drive/kaggle auth key/kaggle.json' '/content/.kaggle/kaggle.json'"
      ],
      "execution_count": 5,
      "outputs": []
    },
    {
      "cell_type": "code",
      "metadata": {
        "id": "eDQwhkKOJuEe",
        "colab_type": "code",
        "colab": {}
      },
      "source": [
        "!chmod 600 /content/.kaggle/kaggle.json"
      ],
      "execution_count": 6,
      "outputs": []
    },
    {
      "cell_type": "code",
      "metadata": {
        "id": "97lqSTziJyri",
        "colab_type": "code",
        "colab": {
          "base_uri": "https://localhost:8080/",
          "height": 35
        },
        "outputId": "36e4dc93-0c21-4f5c-f4b7-6c10de88d577"
      },
      "source": [
        "!kaggle config set -n path -v{/content}"
      ],
      "execution_count": 7,
      "outputs": [
        {
          "output_type": "stream",
          "text": [
            "- path is now set to: {/content}\n"
          ],
          "name": "stdout"
        }
      ]
    },
    {
      "cell_type": "code",
      "metadata": {
        "id": "y2aojfQ-J0N-",
        "colab_type": "code",
        "colab": {
          "base_uri": "https://localhost:8080/",
          "height": 426
        },
        "outputId": "ae9deb5d-7df2-41bb-a637-ab6532cf422e"
      },
      "source": [
        "!kaggle datasets list"
      ],
      "execution_count": 8,
      "outputs": [
        {
          "output_type": "stream",
          "text": [
            "Warning: Looks like you're using an outdated API Version, please consider updating (server 1.5.6 / client 1.5.4)\n",
            "ref                                                    title                                              size  lastUpdated          downloadCount  \n",
            "-----------------------------------------------------  ------------------------------------------------  -----  -------------------  -------------  \n",
            "shivan118/healthcare-analytics                         AV : Healthcare Analytics                           2MB  2020-09-13 17:40:05           1572  \n",
            "datatattle/covid-19-nlp-text-classification            Coronavirus tweets NLP - Text Classification        4MB  2020-09-08 11:40:11            946  \n",
            "anmolkumar/health-insurance-cross-sell-prediction      Health Insurance Cross Sell Prediction 🏠 🏥          6MB  2020-09-11 18:39:31           2037  \n",
            "Cornell-University/arxiv                               arXiv Dataset                                     888MB  2020-09-22 15:33:49           3034  \n",
            "nipunarora8/age-gender-and-ethnicity-face-data-csv     AGE, GENDER AND ETHNICITY (FACE DATA) CSV          63MB  2020-09-02 13:46:38            748  \n",
            "yoannboyere/co2-ghg-emissionsdata                      CO2_GHG_emissions-data                            147KB  2020-09-14 09:59:25            696  \n",
            "ramjidoolla/ipl-data-set                               IPL _Data_Set                                       1MB  2020-09-14 10:57:42           1290  \n",
            "anikannal/solar-power-generation-data                  Solar Power Generation Data                         2MB  2020-08-18 15:52:03           4269  \n",
            "nehaprabhavalkar/av-healthcare-analytics-ii            AV : Healthcare Analytics II                        7MB  2020-08-29 03:40:10           2031  \n",
            "imoore/60k-stack-overflow-questions-with-quality-rate  60k Stack Overflow Questions with Quality Rating   21MB  2020-09-19 20:53:26           1249  \n",
            "tunguz/us-elections-dataset                            US Elections Dataset                               16MB  2020-09-22 20:27:55           2640  \n",
            "jmmvutu/summer-products-and-sales-in-ecommerce-wish    Sales of summer clothes in E-commerce Wish        376KB  2020-08-23 15:16:46           6501  \n",
            "ruchi798/bookcrossing-dataset                          Book-Crossing: User review ratings                 25MB  2020-08-11 10:40:25           1171  \n",
            "google/tinyquickdraw                                   QuickDraw Sketches                                 11GB  2018-04-18 19:38:04           2321  \n",
            "agirlcoding/all-space-missions-from-1957               All Space Missions from 1957                      101KB  2020-08-13 16:18:58           3436  \n",
            "ihelon/lego-minifigures-classification                 LEGO Minifigures                                   19MB  2020-09-22 07:33:22           1189  \n",
            "datasnaek/youtube-new                                  Trending YouTube Video Statistics                 201MB  2019-06-03 00:56:47         105628  \n",
            "zynicide/wine-reviews                                  Wine Reviews                                       51MB  2017-11-27 17:08:04         113022  \n",
            "residentmario/ramen-ratings                            Ramen Ratings                                      40KB  2018-01-11 16:04:39          13799  \n",
            "datasnaek/chess                                        Chess Game Dataset (Lichess)                        3MB  2017-09-04 03:09:09           9051  \n"
          ],
          "name": "stdout"
        }
      ]
    },
    {
      "cell_type": "code",
      "metadata": {
        "id": "nid5vNC6J10_",
        "colab_type": "code",
        "colab": {
          "base_uri": "https://localhost:8080/",
          "height": 70
        },
        "outputId": "8377093b-31a8-4057-c820-090b4ebda0aa"
      },
      "source": [
        "!kaggle datasets download -d 'arbazkhan971/analyticvidhyadatasetsentiment'"
      ],
      "execution_count": 9,
      "outputs": [
        {
          "output_type": "stream",
          "text": [
            "Downloading analyticvidhyadatasetsentiment.zip to {/content}/datasets/arbazkhan971/analyticvidhyadatasetsentiment\n",
            "\r  0% 0.00/6.72M [00:00<?, ?B/s]\n",
            "\r100% 6.72M/6.72M [00:00<00:00, 62.0MB/s]\n"
          ],
          "name": "stdout"
        }
      ]
    },
    {
      "cell_type": "code",
      "metadata": {
        "id": "T1l_C-DVJ4ND",
        "colab_type": "code",
        "colab": {
          "base_uri": "https://localhost:8080/",
          "height": 35
        },
        "outputId": "6669edc7-1da7-49b7-e19e-76ddb04b9c11"
      },
      "source": [
        "cd {/content}/datasets/"
      ],
      "execution_count": 10,
      "outputs": [
        {
          "output_type": "stream",
          "text": [
            "/content/{/content}/datasets\n"
          ],
          "name": "stdout"
        }
      ]
    },
    {
      "cell_type": "code",
      "metadata": {
        "id": "tZiaKh6PJ6Jb",
        "colab_type": "code",
        "colab": {
          "base_uri": "https://localhost:8080/",
          "height": 35
        },
        "outputId": "1c962154-28a6-413d-ea1d-39bea0a43748"
      },
      "source": [
        "cd arbazkhan971/analyticvidhyadatasetsentiment"
      ],
      "execution_count": 11,
      "outputs": [
        {
          "output_type": "stream",
          "text": [
            "/content/{/content}/datasets/arbazkhan971/analyticvidhyadatasetsentiment\n"
          ],
          "name": "stdout"
        }
      ]
    },
    {
      "cell_type": "code",
      "metadata": {
        "id": "sU2aj1NGJ73T",
        "colab_type": "code",
        "colab": {}
      },
      "source": [
        "!mkdir data"
      ],
      "execution_count": 12,
      "outputs": []
    },
    {
      "cell_type": "code",
      "metadata": {
        "id": "dNqsvvsjJ9nu",
        "colab_type": "code",
        "colab": {
          "base_uri": "https://localhost:8080/",
          "height": 88
        },
        "outputId": "399ab4ca-5018-45a6-e81f-bb9d955f88a5"
      },
      "source": [
        "!unzip analyticvidhyadatasetsentiment.zip -d data"
      ],
      "execution_count": 13,
      "outputs": [
        {
          "output_type": "stream",
          "text": [
            "Archive:  analyticvidhyadatasetsentiment.zip\n",
            "  inflating: data/sample_submission_i5xnIZD-1.csv  \n",
            "  inflating: data/test_tOlRoBf.csv   \n",
            "  inflating: data/train_F3WbcTw.csv  \n"
          ],
          "name": "stdout"
        }
      ]
    },
    {
      "cell_type": "code",
      "metadata": {
        "id": "0K8qxhKVJ_TJ",
        "colab_type": "code",
        "colab": {
          "base_uri": "https://localhost:8080/",
          "height": 35
        },
        "outputId": "d3775a18-fc5e-4f2a-be40-b5acb261cda4"
      },
      "source": [
        "cd data"
      ],
      "execution_count": 14,
      "outputs": [
        {
          "output_type": "stream",
          "text": [
            "/content/{/content}/datasets/arbazkhan971/analyticvidhyadatasetsentiment/data\n"
          ],
          "name": "stdout"
        }
      ]
    },
    {
      "cell_type": "code",
      "metadata": {
        "id": "9wbhQ7FxKA5G",
        "colab_type": "code",
        "colab": {
          "base_uri": "https://localhost:8080/",
          "height": 35
        },
        "outputId": "608c247f-5067-4188-c4a5-e9025bc282b0"
      },
      "source": [
        "ls"
      ],
      "execution_count": 15,
      "outputs": [
        {
          "output_type": "stream",
          "text": [
            "sample_submission_i5xnIZD-1.csv  test_tOlRoBf.csv  train_F3WbcTw.csv\n"
          ],
          "name": "stdout"
        }
      ]
    },
    {
      "cell_type": "code",
      "metadata": {
        "id": "kAHEjYdiKDaM",
        "colab_type": "code",
        "colab": {}
      },
      "source": [
        "import pandas as pd\n",
        "import numpy as np\n",
        "import matplotlib.pyplot as plt"
      ],
      "execution_count": 16,
      "outputs": []
    },
    {
      "cell_type": "code",
      "metadata": {
        "id": "s_dwaXwWKFEC",
        "colab_type": "code",
        "colab": {}
      },
      "source": [
        "train = pd.read_csv(\"train_F3WbcTw.csv\")\n",
        "test = pd.read_csv(\"test_tOlRoBf.csv\")\n",
        "sample_data = pd.read_csv(\"sample_submission_i5xnIZD-1.csv\")"
      ],
      "execution_count": 17,
      "outputs": []
    },
    {
      "cell_type": "code",
      "metadata": {
        "id": "-XHECWUMKGlf",
        "colab_type": "code",
        "colab": {
          "base_uri": "https://localhost:8080/",
          "height": 200
        },
        "outputId": "322c26ae-88a5-48d4-8f2c-a1fcfc51178d"
      },
      "source": [
        "train.head()"
      ],
      "execution_count": 18,
      "outputs": [
        {
          "output_type": "execute_result",
          "data": {
            "text/html": [
              "<div>\n",
              "<style scoped>\n",
              "    .dataframe tbody tr th:only-of-type {\n",
              "        vertical-align: middle;\n",
              "    }\n",
              "\n",
              "    .dataframe tbody tr th {\n",
              "        vertical-align: top;\n",
              "    }\n",
              "\n",
              "    .dataframe thead th {\n",
              "        text-align: right;\n",
              "    }\n",
              "</style>\n",
              "<table border=\"1\" class=\"dataframe\">\n",
              "  <thead>\n",
              "    <tr style=\"text-align: right;\">\n",
              "      <th></th>\n",
              "      <th>unique_hash</th>\n",
              "      <th>text</th>\n",
              "      <th>drug</th>\n",
              "      <th>sentiment</th>\n",
              "    </tr>\n",
              "  </thead>\n",
              "  <tbody>\n",
              "    <tr>\n",
              "      <th>0</th>\n",
              "      <td>2e180be4c9214c1f5ab51fd8cc32bc80c9f612e0</td>\n",
              "      <td>Autoimmune diseases tend to come in clusters. ...</td>\n",
              "      <td>gilenya</td>\n",
              "      <td>2</td>\n",
              "    </tr>\n",
              "    <tr>\n",
              "      <th>1</th>\n",
              "      <td>9eba8f80e7e20f3a2f48685530748fbfa95943e4</td>\n",
              "      <td>I can completely understand why you’d want to ...</td>\n",
              "      <td>gilenya</td>\n",
              "      <td>2</td>\n",
              "    </tr>\n",
              "    <tr>\n",
              "      <th>2</th>\n",
              "      <td>fe809672251f6bd0d986e00380f48d047c7e7b76</td>\n",
              "      <td>Interesting that it only targets S1P-1/5 recep...</td>\n",
              "      <td>fingolimod</td>\n",
              "      <td>2</td>\n",
              "    </tr>\n",
              "    <tr>\n",
              "      <th>3</th>\n",
              "      <td>bd22104dfa9ec80db4099523e03fae7a52735eb6</td>\n",
              "      <td>Very interesting, grand merci. Now I wonder wh...</td>\n",
              "      <td>ocrevus</td>\n",
              "      <td>2</td>\n",
              "    </tr>\n",
              "    <tr>\n",
              "      <th>4</th>\n",
              "      <td>b227688381f9b25e5b65109dd00f7f895e838249</td>\n",
              "      <td>Hi everybody, My latest MRI results for Brain ...</td>\n",
              "      <td>gilenya</td>\n",
              "      <td>1</td>\n",
              "    </tr>\n",
              "  </tbody>\n",
              "</table>\n",
              "</div>"
            ],
            "text/plain": [
              "                                unique_hash  ... sentiment\n",
              "0  2e180be4c9214c1f5ab51fd8cc32bc80c9f612e0  ...         2\n",
              "1  9eba8f80e7e20f3a2f48685530748fbfa95943e4  ...         2\n",
              "2  fe809672251f6bd0d986e00380f48d047c7e7b76  ...         2\n",
              "3  bd22104dfa9ec80db4099523e03fae7a52735eb6  ...         2\n",
              "4  b227688381f9b25e5b65109dd00f7f895e838249  ...         1\n",
              "\n",
              "[5 rows x 4 columns]"
            ]
          },
          "metadata": {
            "tags": []
          },
          "execution_count": 18
        }
      ]
    },
    {
      "cell_type": "code",
      "metadata": {
        "id": "xONLuwfHKICI",
        "colab_type": "code",
        "colab": {
          "base_uri": "https://localhost:8080/",
          "height": 106
        },
        "outputId": "5b00ebc9-3a3c-42c6-fd65-61f6d7b9e1ee"
      },
      "source": [
        "train.isnull().sum()"
      ],
      "execution_count": 19,
      "outputs": [
        {
          "output_type": "execute_result",
          "data": {
            "text/plain": [
              "unique_hash    0\n",
              "text           0\n",
              "drug           0\n",
              "sentiment      0\n",
              "dtype: int64"
            ]
          },
          "metadata": {
            "tags": []
          },
          "execution_count": 19
        }
      ]
    },
    {
      "cell_type": "code",
      "metadata": {
        "id": "68xvmzZkKPYd",
        "colab_type": "code",
        "colab": {
          "base_uri": "https://localhost:8080/",
          "height": 161
        },
        "outputId": "1bc43539-b379-4a59-93db-fb00e59929f2"
      },
      "source": [
        "train['text'].unique()"
      ],
      "execution_count": 20,
      "outputs": [
        {
          "output_type": "execute_result",
          "data": {
            "text/plain": [
              "array(['Autoimmune diseases tend to come in clusters. As for Gilenya – if you feel good, don’t think about it, it won’t change anything but waste your time and energy. I’m taking Tysabri and feel amazing, no symptoms (other than dodgy color vision, but I’ve had it since always, so, don’t know) and I don’t know if it will last a month, a year, a decade, ive just decided to enjoy the ride, no point in worrying.',\n",
              "       'I can completely understand why you’d want to try it. But, results reported in lectures don’t always stand up to the scrutiny of peer-review during publication. There so much still to do before this is convincing. I hope that it does work out, I really do. And if you’re aware of and happy with the risks, then that’s great. I just think it’s important to present this in a balanced way, and to understand why we don’t move straight from the first show of promise in an animal study to using drugs on humans. There’s still a lot of animal data to gather, and human data to gather before anyone can tell if it’s safe or effective. I can’t tell you how many times animal studies don’t follow through to humans, but it’s one of the major attrition points in drug development. You’ve been through some of the unpredictability issues with Cladribine/Gilenya, where there was an interaction that wasn’t predicted. But once people try it, the doctors can see patterns and work out what’s going on. Clemastine/metformin is very exciting, and given what you’ve said about your current condition and your personal risk tolerance it makes sense to try it. It definitely wouldn’t be for everyone.',\n",
              "       'Interesting that it only targets S1P-1/5 receptors rather than 1-5 like Fingolimod. Hoping to soon see what the AEs and SAEs were Yes. I\\'m not sure what this means, exactly:  Quote Nine patients reported serious adverse events (2 mg: 3/29 [10.3%], 1.25 mg: 1/43 [2.3%], 0.5 mg: 4/29 [13.8%], and 0.25 mg: 1/50 [2.0%]; no serious adverse event was reported for more than 1 patient and no new safety signals occurred compared with the BOLD Study. If there were 9 patients reporting SAEs, how can it be stated that \"no serious adverse event was reported for more than 1 patient...\"? Maybe I haven\\'t read this right, or maybe there\\'s a misprint. I\\'m very pleased that something is being developed for SPMS, and it\\'s encouraging that siponimod doesn\\'t linger for very long in the body.',\n",
              "       ..., ' All the best to your husband and family.',\n",
              "       \"Hi bazza, luckily my eyes aren't so badly affected ( I just get headaches and eye strain) so I can't help you with how to cope with the kind of difference you currently have. I do however have macular oedema following branch retinal vein occlusion. I'm in year 3 of treatment. Don't despair yet. There is every chance the next two Lucentis inj will do the trick. I had them bring my vision back from a big grey blob on more than one occasion. They will give you more inj as you need them, aiming to lengthen time between. Best of luck going forward, this is a great support forum, let us know how you get on.\",\n",
              "       'Well, my MS appeared to be very mild for a number of years, no relapses while taking copaxone. It didn’t stop the progression, I’m pretty disabled after 3 decades. I tend to now favor the newer drugs, especially cladribine and rituximab / ocrevus. Whether they are good enough is still an open question. Some people will want to hit the MS hard (HSCT is very popular), while many want to use milder or no drugs to deal with it. The various health systems should be more flexible. Once things are damaged, there’s no going back.'],\n",
              "      dtype=object)"
            ]
          },
          "metadata": {
            "tags": []
          },
          "execution_count": 20
        }
      ]
    },
    {
      "cell_type": "code",
      "metadata": {
        "id": "xOhyEY0LKSpe",
        "colab_type": "code",
        "colab": {
          "base_uri": "https://localhost:8080/",
          "height": 444
        },
        "outputId": "1ccf2c13-c720-4c0a-f5cb-3e952e418d7d"
      },
      "source": [
        "train['drug'].unique()"
      ],
      "execution_count": 21,
      "outputs": [
        {
          "output_type": "execute_result",
          "data": {
            "text/plain": [
              "array(['gilenya', 'fingolimod', 'ocrevus', 'cladribine', 'humira',\n",
              "       'tagrisso', 'lucentis', 'pan-retinal photocoagulation', 'remicade',\n",
              "       'stelara', 'ocrelizumab', 'dexamethasone', 'pemetrexed', 'cimzia',\n",
              "       'tarceva', 'nivolumab', 'tecentriq', 'ipilimumab', 'mekinist',\n",
              "       'opdivo', 'dexamethasone implant', 'eylea', 'erlotinib',\n",
              "       'alectinib', 'entyvio', 'crizotinib', 'keytruda', 'mavenclad',\n",
              "       'osimertinib', 'vedolizumab', 'atezolizumab', 'durvalumab',\n",
              "       'alimta', 'tysabri', 'avastin', 'golimumab', 'tofacitinib',\n",
              "       'ixifi', 'teriflunomide', 'ranibizumab', 'afatinib',\n",
              "       'upadacitinib', 'zykadia', 'ustekinumab', 'xalkori',\n",
              "       'pembrolizumab', 'lemtrada', 'siponimod', 'simponi', 'inflectra',\n",
              "       'entrectinib', 'yervoy', 'vitrectomy', 'bevacizumab', 'gefitinib',\n",
              "       'amjevita', 'lorlatinib', 'pemrolizumab', 'tafinlar',\n",
              "       'infliximab-dyyb', 'ozurdex', 'gilotrif', 'imfinzi', 'iressa',\n",
              "       'laser photocoagulation', 'renflexis', 'alecensa', 'pf-00547659',\n",
              "       'cyltezo', 'almita', 'macugen', 'remsima', 'necitumumab',\n",
              "       'panretinal photocoagulation', 'alunbrig', 'aflibercept',\n",
              "       'ceritinib', 'ketruda', 'certolizumab pegol', 'nivolumabb',\n",
              "       'photodynamic therapy', 'geftinib', 'trametinib', 'aubagio',\n",
              "       'ofatumumab', 'movectro', 'portrazza', 'pemetrexed disodium',\n",
              "       'arzerra', 'dabrafenib', 'giotrif', 'brigatinib', 'brolucizumab',\n",
              "       'pegaptanib', 'alemtuzumab', 'rhumab 2h7', 'filgotinib',\n",
              "       'alectnib', 'crizotnib', 'ct-p13', 'guselkumab', 'cyramza'],\n",
              "      dtype=object)"
            ]
          },
          "metadata": {
            "tags": []
          },
          "execution_count": 21
        }
      ]
    },
    {
      "cell_type": "code",
      "metadata": {
        "id": "VClKnOurKU9W",
        "colab_type": "code",
        "colab": {
          "base_uri": "https://localhost:8080/",
          "height": 35
        },
        "outputId": "0f8154e9-7bfa-480d-fdc2-df8cdec333ff"
      },
      "source": [
        "train['sentiment'].unique()"
      ],
      "execution_count": 22,
      "outputs": [
        {
          "output_type": "execute_result",
          "data": {
            "text/plain": [
              "array([2, 1, 0])"
            ]
          },
          "metadata": {
            "tags": []
          },
          "execution_count": 22
        }
      ]
    },
    {
      "cell_type": "code",
      "metadata": {
        "id": "Pb4U5rNsKXZK",
        "colab_type": "code",
        "colab": {}
      },
      "source": [
        "import re\n",
        "# Dictionary of English Contractions\n",
        "contractions_dict = { \"ain't\": \"are not\",\"'s\":\" is\",\"aren't\": \"are not\",\n",
        "                     \"can't\": \"cannot\",\"can't've\": \"cannot have\",\n",
        "                     \"'cause\": \"because\",\"could've\": \"could have\",\"couldn't\": \"could not\",\n",
        "                     \"couldn't've\": \"could not have\", \"didn't\": \"did not\",\"doesn't\": \"does not\",\n",
        "                     \"don't\": \"do not\",\"hadn't\": \"had not\",\"hadn't've\": \"had not have\",\n",
        "                     \"hasn't\": \"has not\",\"haven't\": \"have not\",\"he'd\": \"he would\",\n",
        "                     \"he'd've\": \"he would have\",\"he'll\": \"he will\", \"he'll've\": \"he will have\",\n",
        "                     \"how'd\": \"how did\",\"how'd'y\": \"how do you\",\"how'll\": \"how will\",\n",
        "                     \"I'd\": \"I would\", \"I'd've\": \"I would have\",\"I'll\": \"I will\",\n",
        "                     \"I'll've\": \"I will have\",\"I'm\": \"I am\",\"I've\": \"I have\", \"isn't\": \"is not\",\n",
        "                     \"it'd\": \"it would\",\"it'd've\": \"it would have\",\"it'll\": \"it will\",\n",
        "                     \"it'll've\": \"it will have\", \"let's\": \"let us\",\"ma'am\": \"madam\",\n",
        "                     \"mayn't\": \"may not\",\"might've\": \"might have\",\"mightn't\": \"might not\", \n",
        "                     \"mightn't've\": \"might not have\",\"must've\": \"must have\",\"mustn't\": \"must not\",\n",
        "                     \"mustn't've\": \"must not have\", \"needn't\": \"need not\",\n",
        "                     \"needn't've\": \"need not have\",\"o'clock\": \"of the clock\",\"oughtn't\": \"ought not\",\n",
        "                     \"oughtn't've\": \"ought not have\",\"shan't\": \"shall not\",\"sha'n't\": \"shall not\",\n",
        "                     \"shan't've\": \"shall not have\",\"she'd\": \"she would\",\"she'd've\": \"she would have\",\n",
        "                     \"she'll\": \"she will\", \"she'll've\": \"she will have\",\"should've\": \"should have\",\n",
        "                     \"shouldn't\": \"should not\", \"shouldn't've\": \"should not have\",\"so've\": \"so have\",\n",
        "                     \"that'd\": \"that would\",\"that'd've\": \"that would have\", \"there'd\": \"there would\",\n",
        "                     \"there'd've\": \"there would have\", \"they'd\": \"they would\",\n",
        "                     \"they'd've\": \"they would have\",\"they'll\": \"they will\",\n",
        "                     \"they'll've\": \"they will have\", \"they're\": \"they are\",\"they've\": \"they have\",\n",
        "                     \"to've\": \"to have\",\"wasn't\": \"was not\",\"we'd\": \"we would\",\n",
        "                     \"we'd've\": \"we would have\",\"we'll\": \"we will\",\"we'll've\": \"we will have\",\n",
        "                     \"we're\": \"we are\",\"we've\": \"we have\", \"weren't\": \"were not\",\"what'll\": \"what will\",\n",
        "                     \"what'll've\": \"what will have\",\"what're\": \"what are\", \"what've\": \"what have\",\n",
        "                     \"when've\": \"when have\",\"where'd\": \"where did\", \"where've\": \"where have\",\n",
        "                     \"who'll\": \"who will\",\"who'll've\": \"who will have\",\"who've\": \"who have\",\n",
        "                     \"why've\": \"why have\",\"will've\": \"will have\",\"won't\": \"will not\",\n",
        "                     \"won't've\": \"will not have\", \"would've\": \"would have\",\"wouldn't\": \"would not\",\n",
        "                     \"wouldn't've\": \"would not have\",\"y'all\": \"you all\", \"y'all'd\": \"you all would\",\n",
        "                     \"y'all'd've\": \"you all would have\",\"y'all're\": \"you all are\",\n",
        "                     \"y'all've\": \"you all have\", \"you'd\": \"you would\",\"you'd've\": \"you would have\",\n",
        "                     \"you'll\": \"you will\",\"you'll've\": \"you will have\", \"you're\": \"you are\",\n",
        "                     \"you've\": \"you have\"}\n",
        "\n",
        "# Regular expression for finding contractions\n",
        "contractions_re=re.compile('(%s)' % '|'.join(contractions_dict.keys()))\n",
        "\n",
        "# Function for expanding contractions\n",
        "def expand_contractions(text,contractions_dict=contractions_dict):\n",
        "  def replace(match):\n",
        "    return contractions_dict[match.group(0)]\n",
        "  return contractions_re.sub(replace, text)\n",
        "\n",
        "# Expanding Contractions in the reviews\n",
        "train['text']=train['text'].apply(lambda x:expand_contractions(x))"
      ],
      "execution_count": 23,
      "outputs": []
    },
    {
      "cell_type": "code",
      "metadata": {
        "id": "vNYQ2cVEKeDX",
        "colab_type": "code",
        "colab": {
          "base_uri": "https://localhost:8080/",
          "height": 200
        },
        "outputId": "d5548211-b3eb-4ecd-c8d5-a0b6ad9cfc83"
      },
      "source": [
        "train.head()"
      ],
      "execution_count": 24,
      "outputs": [
        {
          "output_type": "execute_result",
          "data": {
            "text/html": [
              "<div>\n",
              "<style scoped>\n",
              "    .dataframe tbody tr th:only-of-type {\n",
              "        vertical-align: middle;\n",
              "    }\n",
              "\n",
              "    .dataframe tbody tr th {\n",
              "        vertical-align: top;\n",
              "    }\n",
              "\n",
              "    .dataframe thead th {\n",
              "        text-align: right;\n",
              "    }\n",
              "</style>\n",
              "<table border=\"1\" class=\"dataframe\">\n",
              "  <thead>\n",
              "    <tr style=\"text-align: right;\">\n",
              "      <th></th>\n",
              "      <th>unique_hash</th>\n",
              "      <th>text</th>\n",
              "      <th>drug</th>\n",
              "      <th>sentiment</th>\n",
              "    </tr>\n",
              "  </thead>\n",
              "  <tbody>\n",
              "    <tr>\n",
              "      <th>0</th>\n",
              "      <td>2e180be4c9214c1f5ab51fd8cc32bc80c9f612e0</td>\n",
              "      <td>Autoimmune diseases tend to come in clusters. ...</td>\n",
              "      <td>gilenya</td>\n",
              "      <td>2</td>\n",
              "    </tr>\n",
              "    <tr>\n",
              "      <th>1</th>\n",
              "      <td>9eba8f80e7e20f3a2f48685530748fbfa95943e4</td>\n",
              "      <td>I can completely understand why you’d want to ...</td>\n",
              "      <td>gilenya</td>\n",
              "      <td>2</td>\n",
              "    </tr>\n",
              "    <tr>\n",
              "      <th>2</th>\n",
              "      <td>fe809672251f6bd0d986e00380f48d047c7e7b76</td>\n",
              "      <td>Interesting that it only targets S1P-1/5 recep...</td>\n",
              "      <td>fingolimod</td>\n",
              "      <td>2</td>\n",
              "    </tr>\n",
              "    <tr>\n",
              "      <th>3</th>\n",
              "      <td>bd22104dfa9ec80db4099523e03fae7a52735eb6</td>\n",
              "      <td>Very interesting, grand merci. Now I wonder wh...</td>\n",
              "      <td>ocrevus</td>\n",
              "      <td>2</td>\n",
              "    </tr>\n",
              "    <tr>\n",
              "      <th>4</th>\n",
              "      <td>b227688381f9b25e5b65109dd00f7f895e838249</td>\n",
              "      <td>Hi everybody, My latest MRI results for Brain ...</td>\n",
              "      <td>gilenya</td>\n",
              "      <td>1</td>\n",
              "    </tr>\n",
              "  </tbody>\n",
              "</table>\n",
              "</div>"
            ],
            "text/plain": [
              "                                unique_hash  ... sentiment\n",
              "0  2e180be4c9214c1f5ab51fd8cc32bc80c9f612e0  ...         2\n",
              "1  9eba8f80e7e20f3a2f48685530748fbfa95943e4  ...         2\n",
              "2  fe809672251f6bd0d986e00380f48d047c7e7b76  ...         2\n",
              "3  bd22104dfa9ec80db4099523e03fae7a52735eb6  ...         2\n",
              "4  b227688381f9b25e5b65109dd00f7f895e838249  ...         1\n",
              "\n",
              "[5 rows x 4 columns]"
            ]
          },
          "metadata": {
            "tags": []
          },
          "execution_count": 24
        }
      ]
    },
    {
      "cell_type": "code",
      "metadata": {
        "id": "OAzOinHtKgWd",
        "colab_type": "code",
        "colab": {}
      },
      "source": [
        "train['cleaned']=train['text'].apply(lambda x: x.lower())"
      ],
      "execution_count": 25,
      "outputs": []
    },
    {
      "cell_type": "code",
      "metadata": {
        "id": "5pk6MaKHKjsy",
        "colab_type": "code",
        "colab": {
          "base_uri": "https://localhost:8080/",
          "height": 200
        },
        "outputId": "4151cef0-2bfb-4eee-c106-afceebb5613c"
      },
      "source": [
        "train.head()"
      ],
      "execution_count": 26,
      "outputs": [
        {
          "output_type": "execute_result",
          "data": {
            "text/html": [
              "<div>\n",
              "<style scoped>\n",
              "    .dataframe tbody tr th:only-of-type {\n",
              "        vertical-align: middle;\n",
              "    }\n",
              "\n",
              "    .dataframe tbody tr th {\n",
              "        vertical-align: top;\n",
              "    }\n",
              "\n",
              "    .dataframe thead th {\n",
              "        text-align: right;\n",
              "    }\n",
              "</style>\n",
              "<table border=\"1\" class=\"dataframe\">\n",
              "  <thead>\n",
              "    <tr style=\"text-align: right;\">\n",
              "      <th></th>\n",
              "      <th>unique_hash</th>\n",
              "      <th>text</th>\n",
              "      <th>drug</th>\n",
              "      <th>sentiment</th>\n",
              "      <th>cleaned</th>\n",
              "    </tr>\n",
              "  </thead>\n",
              "  <tbody>\n",
              "    <tr>\n",
              "      <th>0</th>\n",
              "      <td>2e180be4c9214c1f5ab51fd8cc32bc80c9f612e0</td>\n",
              "      <td>Autoimmune diseases tend to come in clusters. ...</td>\n",
              "      <td>gilenya</td>\n",
              "      <td>2</td>\n",
              "      <td>autoimmune diseases tend to come in clusters. ...</td>\n",
              "    </tr>\n",
              "    <tr>\n",
              "      <th>1</th>\n",
              "      <td>9eba8f80e7e20f3a2f48685530748fbfa95943e4</td>\n",
              "      <td>I can completely understand why you’d want to ...</td>\n",
              "      <td>gilenya</td>\n",
              "      <td>2</td>\n",
              "      <td>i can completely understand why you’d want to ...</td>\n",
              "    </tr>\n",
              "    <tr>\n",
              "      <th>2</th>\n",
              "      <td>fe809672251f6bd0d986e00380f48d047c7e7b76</td>\n",
              "      <td>Interesting that it only targets S1P-1/5 recep...</td>\n",
              "      <td>fingolimod</td>\n",
              "      <td>2</td>\n",
              "      <td>interesting that it only targets s1p-1/5 recep...</td>\n",
              "    </tr>\n",
              "    <tr>\n",
              "      <th>3</th>\n",
              "      <td>bd22104dfa9ec80db4099523e03fae7a52735eb6</td>\n",
              "      <td>Very interesting, grand merci. Now I wonder wh...</td>\n",
              "      <td>ocrevus</td>\n",
              "      <td>2</td>\n",
              "      <td>very interesting, grand merci. now i wonder wh...</td>\n",
              "    </tr>\n",
              "    <tr>\n",
              "      <th>4</th>\n",
              "      <td>b227688381f9b25e5b65109dd00f7f895e838249</td>\n",
              "      <td>Hi everybody, My latest MRI results for Brain ...</td>\n",
              "      <td>gilenya</td>\n",
              "      <td>1</td>\n",
              "      <td>hi everybody, my latest mri results for brain ...</td>\n",
              "    </tr>\n",
              "  </tbody>\n",
              "</table>\n",
              "</div>"
            ],
            "text/plain": [
              "                                unique_hash  ...                                            cleaned\n",
              "0  2e180be4c9214c1f5ab51fd8cc32bc80c9f612e0  ...  autoimmune diseases tend to come in clusters. ...\n",
              "1  9eba8f80e7e20f3a2f48685530748fbfa95943e4  ...  i can completely understand why you’d want to ...\n",
              "2  fe809672251f6bd0d986e00380f48d047c7e7b76  ...  interesting that it only targets s1p-1/5 recep...\n",
              "3  bd22104dfa9ec80db4099523e03fae7a52735eb6  ...  very interesting, grand merci. now i wonder wh...\n",
              "4  b227688381f9b25e5b65109dd00f7f895e838249  ...  hi everybody, my latest mri results for brain ...\n",
              "\n",
              "[5 rows x 5 columns]"
            ]
          },
          "metadata": {
            "tags": []
          },
          "execution_count": 26
        }
      ]
    },
    {
      "cell_type": "code",
      "metadata": {
        "id": "uKzKtCKMKnFr",
        "colab_type": "code",
        "colab": {}
      },
      "source": [
        "import string\n",
        "train['cleaned']=train['cleaned'].apply(lambda x: re.sub('[%s]' % re.escape(string.punctuation), '', x))"
      ],
      "execution_count": 27,
      "outputs": []
    },
    {
      "cell_type": "code",
      "metadata": {
        "id": "AVAfeyiyKrtu",
        "colab_type": "code",
        "colab": {}
      },
      "source": [
        "# Removing extra spaces\n",
        "train['cleaned']=train['cleaned'].apply(lambda x: re.sub(' +',' ',x))"
      ],
      "execution_count": 28,
      "outputs": []
    },
    {
      "cell_type": "code",
      "metadata": {
        "id": "lzcPJhY9Kv9R",
        "colab_type": "code",
        "colab": {
          "base_uri": "https://localhost:8080/",
          "height": 200
        },
        "outputId": "844bb5d8-0cf3-4e81-9945-5f966d9961f2"
      },
      "source": [
        "train.head()"
      ],
      "execution_count": 29,
      "outputs": [
        {
          "output_type": "execute_result",
          "data": {
            "text/html": [
              "<div>\n",
              "<style scoped>\n",
              "    .dataframe tbody tr th:only-of-type {\n",
              "        vertical-align: middle;\n",
              "    }\n",
              "\n",
              "    .dataframe tbody tr th {\n",
              "        vertical-align: top;\n",
              "    }\n",
              "\n",
              "    .dataframe thead th {\n",
              "        text-align: right;\n",
              "    }\n",
              "</style>\n",
              "<table border=\"1\" class=\"dataframe\">\n",
              "  <thead>\n",
              "    <tr style=\"text-align: right;\">\n",
              "      <th></th>\n",
              "      <th>unique_hash</th>\n",
              "      <th>text</th>\n",
              "      <th>drug</th>\n",
              "      <th>sentiment</th>\n",
              "      <th>cleaned</th>\n",
              "    </tr>\n",
              "  </thead>\n",
              "  <tbody>\n",
              "    <tr>\n",
              "      <th>0</th>\n",
              "      <td>2e180be4c9214c1f5ab51fd8cc32bc80c9f612e0</td>\n",
              "      <td>Autoimmune diseases tend to come in clusters. ...</td>\n",
              "      <td>gilenya</td>\n",
              "      <td>2</td>\n",
              "      <td>autoimmune diseases tend to come in clusters a...</td>\n",
              "    </tr>\n",
              "    <tr>\n",
              "      <th>1</th>\n",
              "      <td>9eba8f80e7e20f3a2f48685530748fbfa95943e4</td>\n",
              "      <td>I can completely understand why you’d want to ...</td>\n",
              "      <td>gilenya</td>\n",
              "      <td>2</td>\n",
              "      <td>i can completely understand why you’d want to ...</td>\n",
              "    </tr>\n",
              "    <tr>\n",
              "      <th>2</th>\n",
              "      <td>fe809672251f6bd0d986e00380f48d047c7e7b76</td>\n",
              "      <td>Interesting that it only targets S1P-1/5 recep...</td>\n",
              "      <td>fingolimod</td>\n",
              "      <td>2</td>\n",
              "      <td>interesting that it only targets s1p15 recepto...</td>\n",
              "    </tr>\n",
              "    <tr>\n",
              "      <th>3</th>\n",
              "      <td>bd22104dfa9ec80db4099523e03fae7a52735eb6</td>\n",
              "      <td>Very interesting, grand merci. Now I wonder wh...</td>\n",
              "      <td>ocrevus</td>\n",
              "      <td>2</td>\n",
              "      <td>very interesting grand merci now i wonder wher...</td>\n",
              "    </tr>\n",
              "    <tr>\n",
              "      <th>4</th>\n",
              "      <td>b227688381f9b25e5b65109dd00f7f895e838249</td>\n",
              "      <td>Hi everybody, My latest MRI results for Brain ...</td>\n",
              "      <td>gilenya</td>\n",
              "      <td>1</td>\n",
              "      <td>hi everybody my latest mri results for brain a...</td>\n",
              "    </tr>\n",
              "  </tbody>\n",
              "</table>\n",
              "</div>"
            ],
            "text/plain": [
              "                                unique_hash  ...                                            cleaned\n",
              "0  2e180be4c9214c1f5ab51fd8cc32bc80c9f612e0  ...  autoimmune diseases tend to come in clusters a...\n",
              "1  9eba8f80e7e20f3a2f48685530748fbfa95943e4  ...  i can completely understand why you’d want to ...\n",
              "2  fe809672251f6bd0d986e00380f48d047c7e7b76  ...  interesting that it only targets s1p15 recepto...\n",
              "3  bd22104dfa9ec80db4099523e03fae7a52735eb6  ...  very interesting grand merci now i wonder wher...\n",
              "4  b227688381f9b25e5b65109dd00f7f895e838249  ...  hi everybody my latest mri results for brain a...\n",
              "\n",
              "[5 rows x 5 columns]"
            ]
          },
          "metadata": {
            "tags": []
          },
          "execution_count": 29
        }
      ]
    },
    {
      "cell_type": "code",
      "metadata": {
        "id": "nOwdM81DKxcD",
        "colab_type": "code",
        "colab": {}
      },
      "source": [
        "# Importing spacy\n",
        "import spacy\n",
        "\n",
        "# Loading model\n",
        "nlp = spacy.load('en_core_web_sm',disable=['parser', 'ner'])\n",
        "\n",
        "# Lemmatization with stopwords removal\n",
        "train['lemmatized']=train['cleaned'].apply(lambda x: ' '.join([token.lemma_ for token in list(nlp(x)) if (token.is_stop==False)]))\n"
      ],
      "execution_count": 30,
      "outputs": []
    },
    {
      "cell_type": "code",
      "metadata": {
        "id": "XoE511bjK2gF",
        "colab_type": "code",
        "colab": {
          "base_uri": "https://localhost:8080/",
          "height": 285
        },
        "outputId": "6c7c38d2-03c9-4ba9-d80e-85d6a201d740"
      },
      "source": [
        "train.head()"
      ],
      "execution_count": 31,
      "outputs": [
        {
          "output_type": "execute_result",
          "data": {
            "text/html": [
              "<div>\n",
              "<style scoped>\n",
              "    .dataframe tbody tr th:only-of-type {\n",
              "        vertical-align: middle;\n",
              "    }\n",
              "\n",
              "    .dataframe tbody tr th {\n",
              "        vertical-align: top;\n",
              "    }\n",
              "\n",
              "    .dataframe thead th {\n",
              "        text-align: right;\n",
              "    }\n",
              "</style>\n",
              "<table border=\"1\" class=\"dataframe\">\n",
              "  <thead>\n",
              "    <tr style=\"text-align: right;\">\n",
              "      <th></th>\n",
              "      <th>unique_hash</th>\n",
              "      <th>text</th>\n",
              "      <th>drug</th>\n",
              "      <th>sentiment</th>\n",
              "      <th>cleaned</th>\n",
              "      <th>lemmatized</th>\n",
              "    </tr>\n",
              "  </thead>\n",
              "  <tbody>\n",
              "    <tr>\n",
              "      <th>0</th>\n",
              "      <td>2e180be4c9214c1f5ab51fd8cc32bc80c9f612e0</td>\n",
              "      <td>Autoimmune diseases tend to come in clusters. ...</td>\n",
              "      <td>gilenya</td>\n",
              "      <td>2</td>\n",
              "      <td>autoimmune diseases tend to come in clusters a...</td>\n",
              "      <td>autoimmune disease tend come cluster gilenya –...</td>\n",
              "    </tr>\n",
              "    <tr>\n",
              "      <th>1</th>\n",
              "      <td>9eba8f80e7e20f3a2f48685530748fbfa95943e4</td>\n",
              "      <td>I can completely understand why you’d want to ...</td>\n",
              "      <td>gilenya</td>\n",
              "      <td>2</td>\n",
              "      <td>i can completely understand why you’d want to ...</td>\n",
              "      <td>completely understand want try result report l...</td>\n",
              "    </tr>\n",
              "    <tr>\n",
              "      <th>2</th>\n",
              "      <td>fe809672251f6bd0d986e00380f48d047c7e7b76</td>\n",
              "      <td>Interesting that it only targets S1P-1/5 recep...</td>\n",
              "      <td>fingolimod</td>\n",
              "      <td>2</td>\n",
              "      <td>interesting that it only targets s1p15 recepto...</td>\n",
              "      <td>interesting target s1p15 receptor 15 like fing...</td>\n",
              "    </tr>\n",
              "    <tr>\n",
              "      <th>3</th>\n",
              "      <td>bd22104dfa9ec80db4099523e03fae7a52735eb6</td>\n",
              "      <td>Very interesting, grand merci. Now I wonder wh...</td>\n",
              "      <td>ocrevus</td>\n",
              "      <td>2</td>\n",
              "      <td>very interesting grand merci now i wonder wher...</td>\n",
              "      <td>interesting grand merci wonder lemtrada ocrevu...</td>\n",
              "    </tr>\n",
              "    <tr>\n",
              "      <th>4</th>\n",
              "      <td>b227688381f9b25e5b65109dd00f7f895e838249</td>\n",
              "      <td>Hi everybody, My latest MRI results for Brain ...</td>\n",
              "      <td>gilenya</td>\n",
              "      <td>1</td>\n",
              "      <td>hi everybody my latest mri results for brain a...</td>\n",
              "      <td>hi everybody late mri result brain cervical co...</td>\n",
              "    </tr>\n",
              "  </tbody>\n",
              "</table>\n",
              "</div>"
            ],
            "text/plain": [
              "                                unique_hash  ...                                         lemmatized\n",
              "0  2e180be4c9214c1f5ab51fd8cc32bc80c9f612e0  ...  autoimmune disease tend come cluster gilenya –...\n",
              "1  9eba8f80e7e20f3a2f48685530748fbfa95943e4  ...  completely understand want try result report l...\n",
              "2  fe809672251f6bd0d986e00380f48d047c7e7b76  ...  interesting target s1p15 receptor 15 like fing...\n",
              "3  bd22104dfa9ec80db4099523e03fae7a52735eb6  ...  interesting grand merci wonder lemtrada ocrevu...\n",
              "4  b227688381f9b25e5b65109dd00f7f895e838249  ...  hi everybody late mri result brain cervical co...\n",
              "\n",
              "[5 rows x 6 columns]"
            ]
          },
          "metadata": {
            "tags": []
          },
          "execution_count": 31
        }
      ]
    },
    {
      "cell_type": "code",
      "metadata": {
        "id": "cULz3d3nLEGQ",
        "colab_type": "code",
        "colab": {}
      },
      "source": [
        "from textblob import TextBlob\n",
        "train['polarity']=train['lemmatized'].apply(lambda x:TextBlob(x).sentiment.polarity)"
      ],
      "execution_count": 32,
      "outputs": []
    },
    {
      "cell_type": "code",
      "metadata": {
        "id": "IVb4mxshLHAr",
        "colab_type": "code",
        "colab": {
          "base_uri": "https://localhost:8080/",
          "height": 161
        },
        "outputId": "ceb5c5ff-23bf-41a5-ff80-a03ace8d4c40"
      },
      "source": [
        "print(\"3 Random Reviews with Lowest Polarity:\")\n",
        "for index,review in enumerate(train.iloc[train['polarity'].sort_values(ascending=True)[:3].index]['text']):\n",
        "  print('Review {}:\\n'.format(index+1),review)"
      ],
      "execution_count": 33,
      "outputs": [
        {
          "output_type": "stream",
          "text": [
            "3 Random Reviews with Lowest Polarity:\n",
            "Review 1:\n",
            " Hi Jamie, Your experiences with Ocrevus since you began this DMT have been horrible. Have you talked about this with the nurses at Biogen’s support service, Above MS? Also, I’d like to use excerpts from some of your posts in my column on MS News Today to illustrate this lack of communication problem. May I? Ed\n",
            "Review 2:\n",
            " My memory is so crap that I forgot to take mine quite a few times. I’ve come off it now in preparation for starting Gilenya in May (I stopped Tec about a fortnight ago) and I haven’t noticed any change whatsoever so I wouldn’t worry! Hope you get better soon.x\n",
            "Review 3:\n",
            " Thank you for writing this post. I am sick for the first time since being on Ocrevus and it is taking a hefty toll. I myself prefer see barrel proof bourbon to knock the crud out (and myself)!\n"
          ],
          "name": "stdout"
        }
      ]
    },
    {
      "cell_type": "code",
      "metadata": {
        "id": "Io6bcuKhLUHg",
        "colab_type": "code",
        "colab": {
          "base_uri": "https://localhost:8080/",
          "height": 161
        },
        "outputId": "ca8e84ed-8c56-456e-ca1a-58ad3b904e0b"
      },
      "source": [
        "\n",
        "print(\"3 Random Reviews with Highest Polarity:\")\n",
        "for index,review in enumerate(train.iloc[train['polarity'].sort_values(ascending=False)[:3].index]['text']):\n",
        "  print('Review {}:\\n'.format(index+1),review)"
      ],
      "execution_count": 34,
      "outputs": [
        {
          "output_type": "stream",
          "text": [
            "3 Random Reviews with Highest Polarity:\n",
            "Review 1:\n",
            " If you haven’t yet done this, I suggest you join the Ocrevus group on Facebook. It’s an excellent source of information from other people who are using Ocrevus. https://www.facebook.com/groups/653313891487070/\n",
            "Review 2:\n",
            " Back in December 2017, BioPharmaDive regarded Ocrevus as the most impressive drug launch of 2017--\"Most Impressive Drug Launch: Roche is Ocrevus.\"\n",
            "Review 3:\n",
            " Awesome to hear! Get some rest!! Diagnosed Nov 2012 after birth of first child, Left sided UC Remicade, 6mp Visbiome 450 billion, prenatal vitamin, vit D, biotin, fiber, enemas only if needed You gotta learn to dance in the rain\n"
          ],
          "name": "stdout"
        }
      ]
    },
    {
      "cell_type": "code",
      "metadata": {
        "id": "tNTnUusCLakm",
        "colab_type": "code",
        "colab": {
          "base_uri": "https://localhost:8080/",
          "height": 285
        },
        "outputId": "ce24d67b-0e97-403e-adb3-f2e6d8784425"
      },
      "source": [
        "train.head()"
      ],
      "execution_count": 35,
      "outputs": [
        {
          "output_type": "execute_result",
          "data": {
            "text/html": [
              "<div>\n",
              "<style scoped>\n",
              "    .dataframe tbody tr th:only-of-type {\n",
              "        vertical-align: middle;\n",
              "    }\n",
              "\n",
              "    .dataframe tbody tr th {\n",
              "        vertical-align: top;\n",
              "    }\n",
              "\n",
              "    .dataframe thead th {\n",
              "        text-align: right;\n",
              "    }\n",
              "</style>\n",
              "<table border=\"1\" class=\"dataframe\">\n",
              "  <thead>\n",
              "    <tr style=\"text-align: right;\">\n",
              "      <th></th>\n",
              "      <th>unique_hash</th>\n",
              "      <th>text</th>\n",
              "      <th>drug</th>\n",
              "      <th>sentiment</th>\n",
              "      <th>cleaned</th>\n",
              "      <th>lemmatized</th>\n",
              "      <th>polarity</th>\n",
              "    </tr>\n",
              "  </thead>\n",
              "  <tbody>\n",
              "    <tr>\n",
              "      <th>0</th>\n",
              "      <td>2e180be4c9214c1f5ab51fd8cc32bc80c9f612e0</td>\n",
              "      <td>Autoimmune diseases tend to come in clusters. ...</td>\n",
              "      <td>gilenya</td>\n",
              "      <td>2</td>\n",
              "      <td>autoimmune diseases tend to come in clusters a...</td>\n",
              "      <td>autoimmune disease tend come cluster gilenya –...</td>\n",
              "      <td>0.375000</td>\n",
              "    </tr>\n",
              "    <tr>\n",
              "      <th>1</th>\n",
              "      <td>9eba8f80e7e20f3a2f48685530748fbfa95943e4</td>\n",
              "      <td>I can completely understand why you’d want to ...</td>\n",
              "      <td>gilenya</td>\n",
              "      <td>2</td>\n",
              "      <td>i can completely understand why you’d want to ...</td>\n",
              "      <td>completely understand want try result report l...</td>\n",
              "      <td>0.250694</td>\n",
              "    </tr>\n",
              "    <tr>\n",
              "      <th>2</th>\n",
              "      <td>fe809672251f6bd0d986e00380f48d047c7e7b76</td>\n",
              "      <td>Interesting that it only targets S1P-1/5 recep...</td>\n",
              "      <td>fingolimod</td>\n",
              "      <td>2</td>\n",
              "      <td>interesting that it only targets s1p15 recepto...</td>\n",
              "      <td>interesting target s1p15 receptor 15 like fing...</td>\n",
              "      <td>0.238101</td>\n",
              "    </tr>\n",
              "    <tr>\n",
              "      <th>3</th>\n",
              "      <td>bd22104dfa9ec80db4099523e03fae7a52735eb6</td>\n",
              "      <td>Very interesting, grand merci. Now I wonder wh...</td>\n",
              "      <td>ocrevus</td>\n",
              "      <td>2</td>\n",
              "      <td>very interesting grand merci now i wonder wher...</td>\n",
              "      <td>interesting grand merci wonder lemtrada ocrevu...</td>\n",
              "      <td>0.500000</td>\n",
              "    </tr>\n",
              "    <tr>\n",
              "      <th>4</th>\n",
              "      <td>b227688381f9b25e5b65109dd00f7f895e838249</td>\n",
              "      <td>Hi everybody, My latest MRI results for Brain ...</td>\n",
              "      <td>gilenya</td>\n",
              "      <td>1</td>\n",
              "      <td>hi everybody my latest mri results for brain a...</td>\n",
              "      <td>hi everybody late mri result brain cervical co...</td>\n",
              "      <td>0.247727</td>\n",
              "    </tr>\n",
              "  </tbody>\n",
              "</table>\n",
              "</div>"
            ],
            "text/plain": [
              "                                unique_hash  ...  polarity\n",
              "0  2e180be4c9214c1f5ab51fd8cc32bc80c9f612e0  ...  0.375000\n",
              "1  9eba8f80e7e20f3a2f48685530748fbfa95943e4  ...  0.250694\n",
              "2  fe809672251f6bd0d986e00380f48d047c7e7b76  ...  0.238101\n",
              "3  bd22104dfa9ec80db4099523e03fae7a52735eb6  ...  0.500000\n",
              "4  b227688381f9b25e5b65109dd00f7f895e838249  ...  0.247727\n",
              "\n",
              "[5 rows x 7 columns]"
            ]
          },
          "metadata": {
            "tags": []
          },
          "execution_count": 35
        }
      ]
    },
    {
      "cell_type": "code",
      "metadata": {
        "id": "00jBczOaLdnG",
        "colab_type": "code",
        "colab": {}
      },
      "source": [
        "train_orginal_data = pd.read_csv(\"train_F3WbcTw.csv\")"
      ],
      "execution_count": 36,
      "outputs": []
    },
    {
      "cell_type": "code",
      "metadata": {
        "id": "eaqoCltWLfz7",
        "colab_type": "code",
        "colab": {
          "base_uri": "https://localhost:8080/",
          "height": 266
        },
        "outputId": "2a51493f-376b-4b86-fa9a-18819f84f4f6"
      },
      "source": [
        "train_orginal_data.count"
      ],
      "execution_count": 37,
      "outputs": [
        {
          "output_type": "execute_result",
          "data": {
            "text/plain": [
              "<bound method DataFrame.count of                                    unique_hash  ... sentiment\n",
              "0     2e180be4c9214c1f5ab51fd8cc32bc80c9f612e0  ...         2\n",
              "1     9eba8f80e7e20f3a2f48685530748fbfa95943e4  ...         2\n",
              "2     fe809672251f6bd0d986e00380f48d047c7e7b76  ...         2\n",
              "3     bd22104dfa9ec80db4099523e03fae7a52735eb6  ...         2\n",
              "4     b227688381f9b25e5b65109dd00f7f895e838249  ...         1\n",
              "...                                        ...  ...       ...\n",
              "5274  5b5d129f3bab30fbb4740540a16856907657f005  ...         0\n",
              "5275  1aa7dde5dc5249ebc3490c1fbac6ca6df48753a2  ...         2\n",
              "5276  e9159c3f836f453f5f133008d40b7e65f9e70a42  ...         2\n",
              "5277  63d57717bd0cf650f91a5137bd1b427ba922edea  ...         2\n",
              "5278  c29143e9c1c299847e437412649b5738d861b9d0  ...         0\n",
              "\n",
              "[5279 rows x 4 columns]>"
            ]
          },
          "metadata": {
            "tags": []
          },
          "execution_count": 37
        }
      ]
    },
    {
      "cell_type": "code",
      "metadata": {
        "id": "rqdl58v4LhnM",
        "colab_type": "code",
        "colab": {
          "base_uri": "https://localhost:8080/",
          "height": 70
        },
        "outputId": "9b3eb859-1a73-44e7-8b40-9d0d3a651990"
      },
      "source": [
        "sentiment_count = train_orginal_data.sentiment.value_counts()\n",
        "print('Class 0:', sentiment_count[0])\n",
        "print('Class 1:', sentiment_count[1])\n",
        "print('Class 2:', sentiment_count[2])"
      ],
      "execution_count": 38,
      "outputs": [
        {
          "output_type": "stream",
          "text": [
            "Class 0: 617\n",
            "Class 1: 837\n",
            "Class 2: 3825\n"
          ],
          "name": "stdout"
        }
      ]
    },
    {
      "cell_type": "code",
      "metadata": {
        "id": "ihxZEPuvLjVO",
        "colab_type": "code",
        "colab": {
          "base_uri": "https://localhost:8080/",
          "height": 310
        },
        "outputId": "d0ae4675-41f5-4144-eb48-f81934ae3e5f"
      },
      "source": [
        "sentiment_count.plot(kind='bar', title='Count (sentiment)');\n",
        "plt.xlabel('Review Sentiments')\n",
        "plt.ylabel('Number of Review')"
      ],
      "execution_count": 39,
      "outputs": [
        {
          "output_type": "execute_result",
          "data": {
            "text/plain": [
              "Text(0, 0.5, 'Number of Review')"
            ]
          },
          "metadata": {
            "tags": []
          },
          "execution_count": 39
        },
        {
          "output_type": "display_data",
          "data": {
            "image/png": "[encoded data removed]",
            "text/plain": [
              "<Figure size 432x288 with 1 Axes>"
            ]
          },
          "metadata": {
            "tags": [],
            "needs_background": "light"
          }
        }
      ]
    },
    {
      "cell_type": "code",
      "metadata": {
        "id": "MEFZ66lvLlNe",
        "colab_type": "code",
        "colab": {
          "base_uri": "https://localhost:8080/",
          "height": 70
        },
        "outputId": "43dca577-1819-4adb-f38d-ced02a0c4cf8"
      },
      "source": [
        "train.columns"
      ],
      "execution_count": 40,
      "outputs": [
        {
          "output_type": "execute_result",
          "data": {
            "text/plain": [
              "Index(['unique_hash', 'text', 'drug', 'sentiment', 'cleaned', 'lemmatized',\n",
              "       'polarity'],\n",
              "      dtype='object')"
            ]
          },
          "metadata": {
            "tags": []
          },
          "execution_count": 40
        }
      ]
    },
    {
      "cell_type": "code",
      "metadata": {
        "id": "HR3RVTLfLnUP",
        "colab_type": "code",
        "colab": {}
      },
      "source": [
        "train_y = train['sentiment']"
      ],
      "execution_count": 41,
      "outputs": []
    },
    {
      "cell_type": "code",
      "metadata": {
        "id": "4zvnV3TNLsVx",
        "colab_type": "code",
        "colab": {
          "base_uri": "https://localhost:8080/",
          "height": 230
        },
        "outputId": "8469e86d-49f2-4bba-c21c-72e91b1c6fde"
      },
      "source": [
        "train_y.head"
      ],
      "execution_count": 42,
      "outputs": [
        {
          "output_type": "execute_result",
          "data": {
            "text/plain": [
              "<bound method NDFrame.head of 0       2\n",
              "1       2\n",
              "2       2\n",
              "3       2\n",
              "4       1\n",
              "       ..\n",
              "5274    0\n",
              "5275    2\n",
              "5276    2\n",
              "5277    2\n",
              "5278    0\n",
              "Name: sentiment, Length: 5279, dtype: int64>"
            ]
          },
          "metadata": {
            "tags": []
          },
          "execution_count": 42
        }
      ]
    },
    {
      "cell_type": "code",
      "metadata": {
        "id": "Of2FGZHiLuj2",
        "colab_type": "code",
        "colab": {}
      },
      "source": [
        "train_X = train.drop(['sentiment'], axis =1)"
      ],
      "execution_count": 43,
      "outputs": []
    },
    {
      "cell_type": "code",
      "metadata": {
        "id": "CC8jylPVLyKG",
        "colab_type": "code",
        "colab": {
          "base_uri": "https://localhost:8080/",
          "height": 266
        },
        "outputId": "0c467ea6-bed7-4396-9caa-2dc40c5fef8f"
      },
      "source": [
        "train_X.head"
      ],
      "execution_count": 44,
      "outputs": [
        {
          "output_type": "execute_result",
          "data": {
            "text/plain": [
              "<bound method NDFrame.head of                                    unique_hash  ...  polarity\n",
              "0     2e180be4c9214c1f5ab51fd8cc32bc80c9f612e0  ...  0.375000\n",
              "1     9eba8f80e7e20f3a2f48685530748fbfa95943e4  ...  0.250694\n",
              "2     fe809672251f6bd0d986e00380f48d047c7e7b76  ...  0.238101\n",
              "3     bd22104dfa9ec80db4099523e03fae7a52735eb6  ...  0.500000\n",
              "4     b227688381f9b25e5b65109dd00f7f895e838249  ...  0.247727\n",
              "...                                        ...  ...       ...\n",
              "5274  5b5d129f3bab30fbb4740540a16856907657f005  ...  0.271825\n",
              "5275  1aa7dde5dc5249ebc3490c1fbac6ca6df48753a2  ...  0.101042\n",
              "5276  e9159c3f836f453f5f133008d40b7e65f9e70a42  ...  0.700000\n",
              "5277  63d57717bd0cf650f91a5137bd1b427ba922edea  ...  0.210417\n",
              "5278  c29143e9c1c299847e437412649b5738d861b9d0  ...  0.169781\n",
              "\n",
              "[5279 rows x 6 columns]>"
            ]
          },
          "metadata": {
            "tags": []
          },
          "execution_count": 44
        }
      ]
    },
    {
      "cell_type": "code",
      "metadata": {
        "id": "u1bKlEP1L2P5",
        "colab_type": "code",
        "colab": {
          "base_uri": "https://localhost:8080/",
          "height": 35
        },
        "outputId": "294a2b77-4880-486b-a8c2-eec3c74b92a7"
      },
      "source": [
        "train_X.columns"
      ],
      "execution_count": 45,
      "outputs": [
        {
          "output_type": "execute_result",
          "data": {
            "text/plain": [
              "Index(['unique_hash', 'text', 'drug', 'cleaned', 'lemmatized', 'polarity'], dtype='object')"
            ]
          },
          "metadata": {
            "tags": []
          },
          "execution_count": 45
        }
      ]
    },
    {
      "cell_type": "code",
      "metadata": {
        "id": "A7lDaYc4L4wn",
        "colab_type": "code",
        "colab": {
          "base_uri": "https://localhost:8080/",
          "height": 144
        },
        "outputId": "5b42e4c0-6a79-45da-d4bb-92366d47dbc1"
      },
      "source": [
        "from imblearn.over_sampling import RandomOverSampler\n",
        "\n",
        "ros = RandomOverSampler()\n",
        "x_ros,y_ros = ros.fit_sample(train_X,train_y)"
      ],
      "execution_count": 46,
      "outputs": [
        {
          "output_type": "stream",
          "text": [
            "/usr/local/lib/python3.6/dist-packages/sklearn/externals/six.py:31: FutureWarning: The module is deprecated in version 0.21 and will be removed in version 0.23 since we've dropped support for Python 2.7. Please rely on the official version of six (https://pypi.org/project/six/).\n",
            "  \"(https://pypi.org/project/six/).\", FutureWarning)\n",
            "/usr/local/lib/python3.6/dist-packages/sklearn/utils/deprecation.py:144: FutureWarning: The sklearn.neighbors.base module is  deprecated in version 0.22 and will be removed in version 0.24. The corresponding classes / functions should instead be imported from sklearn.neighbors. Anything that cannot be imported from sklearn.neighbors is now part of the private API.\n",
            "  warnings.warn(message, FutureWarning)\n",
            "/usr/local/lib/python3.6/dist-packages/sklearn/utils/deprecation.py:87: FutureWarning: Function safe_indexing is deprecated; safe_indexing is deprecated in version 0.22 and will be removed in version 0.24.\n",
            "  warnings.warn(msg, category=FutureWarning)\n"
          ],
          "name": "stderr"
        }
      ]
    },
    {
      "cell_type": "code",
      "metadata": {
        "id": "q-LuiIC9L7uh",
        "colab_type": "code",
        "colab": {
          "base_uri": "https://localhost:8080/",
          "height": 52
        },
        "outputId": "a634da2c-f881-48cf-dc1a-805429fa06ed"
      },
      "source": [
        "from collections import Counter\n",
        "print('Original dataset Shape {}'.format(Counter(train_orginal_data['sentiment'])))\n",
        "print('Resampled dataset Shape {}'.format(Counter(y_ros)))"
      ],
      "execution_count": 47,
      "outputs": [
        {
          "output_type": "stream",
          "text": [
            "Original dataset Shape Counter({2: 3825, 1: 837, 0: 617})\n",
            "Resampled dataset Shape Counter({2: 3825, 1: 3825, 0: 3825})\n"
          ],
          "name": "stdout"
        }
      ]
    },
    {
      "cell_type": "code",
      "metadata": {
        "id": "0KMuY2TOL-y4",
        "colab_type": "code",
        "colab": {
          "base_uri": "https://localhost:8080/",
          "height": 695
        },
        "outputId": "021343b4-ddcf-4424-f817-f14fc76dc787"
      },
      "source": [
        "x_ros"
      ],
      "execution_count": 48,
      "outputs": [
        {
          "output_type": "execute_result",
          "data": {
            "text/plain": [
              "array([['2e180be4c9214c1f5ab51fd8cc32bc80c9f612e0',\n",
              "        'Autoimmune diseases tend to come in clusters. As for Gilenya – if you feel good, don’t think about it, it won’t change anything but waste your time and energy. I’m taking Tysabri and feel amazing, no symptoms (other than dodgy color vision, but I’ve had it since always, so, don’t know) and I don’t know if it will last a month, a year, a decade, ive just decided to enjoy the ride, no point in worrying.',\n",
              "        'gilenya',\n",
              "        'autoimmune diseases tend to come in clusters as for gilenya – if you feel good don’t think about it it won’t change anything but waste your time and energy i’m taking tysabri and feel amazing no symptoms other than dodgy color vision but i’ve had it since always so don’t know and i don’t know if it will last a month a year a decade ive just decided to enjoy the ride no point in worrying',\n",
              "        'autoimmune disease tend come cluster gilenya – feel good think will change waste time energy take tysabri feel amazing symptom dodgy color vision know know month year decade have decide enjoy ride point worry',\n",
              "        0.375],\n",
              "       ['9eba8f80e7e20f3a2f48685530748fbfa95943e4',\n",
              "        'I can completely understand why you’d want to try it. But, results reported in lectures don’t always stand up to the scrutiny of peer-review during publication. There so much still to do before this is convincing. I hope that it does work out, I really do. And if you’re aware of and happy with the risks, then that’s great. I just think it’s important to present this in a balanced way, and to understand why we don’t move straight from the first show of promise in an animal study to using drugs on humans. There’s still a lot of animal data to gather, and human data to gather before anyone can tell if it’s safe or effective. I can’t tell you how many times animal studies don’t follow through to humans, but it’s one of the major attrition points in drug development. You’ve been through some of the unpredictability issues with Cladribine/Gilenya, where there was an interaction that wasn’t predicted. But once people try it, the doctors can see patterns and work out what’s going on. Clemastine/metformin is very exciting, and given what you’ve said about your current condition and your personal risk tolerance it makes sense to try it. It definitely wouldn’t be for everyone.',\n",
              "        'gilenya',\n",
              "        'i can completely understand why you’d want to try it but results reported in lectures don’t always stand up to the scrutiny of peerreview during publication there so much still to do before this is convincing i hope that it does work out i really do and if you’re aware of and happy with the risks then that’s great i just think it’s important to present this in a balanced way and to understand why we don’t move straight from the first show of promise in an animal study to using drugs on humans there’s still a lot of animal data to gather and human data to gather before anyone can tell if it’s safe or effective i can’t tell you how many times animal studies don’t follow through to humans but it’s one of the major attrition points in drug development you’ve been through some of the unpredictability issues with cladribinegilenya where there was an interaction that wasn’t predicted but once people try it the doctors can see patterns and work out what’s going on clemastinemetformin is very exciting and given what you’ve said about your current condition and your personal risk tolerance it makes sense to try it it definitely wouldn’t be for everyone',\n",
              "        'completely understand want try result report lecture stand scrutiny peerreview publication convincing hope work aware happy risk great think important present balanced way understand straight promise animal study drug human lot animal datum gather human datum gather tell safe effective tell time animal study follow human major attrition point drug development unpredictability issue cladribinegilenya interaction predict people try doctor pattern work go clemastinemetformin exciting give say current condition personal risk tolerance make sense try definitely',\n",
              "        0.25069444444444444],\n",
              "       ['fe809672251f6bd0d986e00380f48d047c7e7b76',\n",
              "        'Interesting that it only targets S1P-1/5 receptors rather than 1-5 like Fingolimod. Hoping to soon see what the AEs and SAEs were Yes. I am not sure what this means, exactly:  Quote Nine patients reported serious adverse events (2 mg: 3/29 [10.3%], 1.25 mg: 1/43 [2.3%], 0.5 mg: 4/29 [13.8%], and 0.25 mg: 1/50 [2.0%]; no serious adverse event was reported for more than 1 patient and no new safety signals occurred compared with the BOLD Study. If there were 9 patients reporting SAEs, how can it be stated that \"no serious adverse event was reported for more than 1 patient...\"? Maybe I have not read this right, or maybe there is a misprint. I am very pleased that something is being developed for SPMS, and it is encouraging that siponimod does not linger for very long in the body.',\n",
              "        'fingolimod',\n",
              "        'interesting that it only targets s1p15 receptors rather than 15 like fingolimod hoping to soon see what the aes and saes were yes i am not sure what this means exactly quote nine patients reported serious adverse events 2 mg 329 103 125 mg 143 23 05 mg 429 138 and 025 mg 150 20 no serious adverse event was reported for more than 1 patient and no new safety signals occurred compared with the bold study if there were 9 patients reporting saes how can it be stated that no serious adverse event was reported for more than 1 patient maybe i have not read this right or maybe there is a misprint i am very pleased that something is being developed for spms and it is encouraging that siponimod does not linger for very long in the body',\n",
              "        'interesting target s1p15 receptor 15 like fingolimod hope soon aes sae yes sure mean exactly quote patient report adverse event 2 mg 329 103 125 mg 143 23 05 mg 429 138 025 mg 150 20 adverse event report 1 patient new safety signal occur compare bold study 9 patient report sae state adverse event report 1 patient maybe read right maybe misprint pleased develop spms encourage siponimod linger long body',\n",
              "        0.23810125060125062],\n",
              "       ...,\n",
              "       ['6b6ff5190767bef38cca1c8e1f3a6693ed7cc615',\n",
              "        'Hi dar, Go back up and look at my post (#4 above in this thread) so, I have been on rituxan for several years now. If you read what I posted you will see that ocrelizumab and rituximab are the same drug. People have few bad reactions. It has certainly worked for me. And it has a good safety record. Good luck and ask any questions you have...really, it is quite helpful. I am lucky in that sense. I hope you are too.  Last edited by Lazarus; 04-05-2017 at 01:51 PM . Linda~~~~ Be the kind of woman that when your feet hit the floor each morning the devil says:\"Oh Crap, She is up!\"   Reply With Quote The following 7 users say \"thanks\" agate ,  Howie ,  Jeanie Z ,  jendie ,  Parsi ,  stillstANNding ,',\n",
              "        'ocrelizumab',\n",
              "        'hi dar go back up and look at my post 4 above in this thread so i have been on rituxan for several years now if you read what i posted you will see that ocrelizumab and rituximab are the same drug people have few bad reactions it has certainly worked for me and it has a good safety record good luck and ask any questions you havereally it is quite helpful i am lucky in that sense i hope you are too last edited by lazarus 04052017 at 0151 pm linda be the kind of woman that when your feet hit the floor each morning the devil saysoh crap she is up reply with quote the following 7 users say thanks agate howie jeanie z jendie parsi stillstannding ',\n",
              "        'hi dar look post 4 thread rituxan year read post ocrelizumab rituximab drug people bad reaction certainly work good safety record good luck ask question havereally helpful lucky sense hope edit lazarus 04052017 0151 pm linda kind woman foot hit floor morning devil saysoh crap reply quote follow 7 user thank agate howie jeanie z jendie parsi stillstannde',\n",
              "        0.14965986394557823],\n",
              "       ['2fa7c64509872b68ed2b49dbc99d70ddbeea8082',\n",
              "        'Hello Getting that diagnosis is like a bullet to the heart. I sobbed like a baby, immediately feared the \"end of life\" worst, tried to get my boyfriend to leave me and looked up Dignatas to make sure I had an exit route planned - so please know that you are not alone - and please know the fact that you made it here and typed the message above means that you are brave (even if you do not feel it yet). I am still getting my head into my own diagnosis (formalised on 13 June 2016, suspect from March that year) - but what I have learnt is that my own reaction, whilst understandable, was one driven from a lack of knowledge or understanding of the disease. What I tell myself to keep up the hope is the following: (i) MS is not necessarily a fast track to a wheelchair / life of pain. 10% of people with MS have \"benign\" MS, 80% of people with MS do not need a wheel chair 20 years after diagnosis. (ii) Improvements in technology (MRIs only started being widely used in the 1980s - and are improving all the time) and drugs (first DMDs came out in the 1990s, Lemtrada (most effective first line drug) was licensed in the UK in December 2014) will move the stats above further in our favour. If you have RRMS (c.80% diagnosed with MS do) disease modifying drugs could be a game changer. If it is PPMS new drugs are being trilled in the UK (Ocrelizumab) and have been licenced in the US to provide further cause for hope. There are more and better drugs and treatments in development in the pipeline too (iii) There are also drugs and treatments to help with MS symptoms - so do not suffer them in silence - everything from physio to steroids, oxygen chambers to neuropathic pain relief. (iv) Even if things do progress, there are brilliant people with MS living and loving life and cruising about in souped up wheelchairs (v) There are things we can do today to better look after ourselves for tomorrow - brain health is important - take supplements (Vit D), eat healthily, exercise and build a good core, sleep properly, avoid stress and, above all, be kind to yourself and try to appreciate and enjoy the wellness you have. (And do not get too drunk - this last is a note for myself as I have a hangover - oops) For now, do whatever you need to help yourself over this shock - wine, chocolate, tears, screaming, punching things (I took up boxing! - cardio, core and cognative work out - and I like punching things!) Who gave you your diagnosis? This should normally be done by a neuro rather than a GP I think - as they are best placed to confirm the details of the diagnosis and put your in contact re. next steps. Do you have access to an MS nurse yet? If so, hopefully you will have an appointment with them ahead of September. If not, perhaps talk to your Dr about getting put in touch with your local team. If you have any on-going symptoms the MS nurse should also be able to help with these I hope some of that is helpful. Please feel free to drop me a message if it would be helpful to talk. K xx',\n",
              "        'ocrelizumab',\n",
              "        'hello getting that diagnosis is like a bullet to the heart i sobbed like a baby immediately feared the end of life worst tried to get my boyfriend to leave me and looked up dignatas to make sure i had an exit route planned so please know that you are not alone and please know the fact that you made it here and typed the message above means that you are brave even if you do not feel it yet i am still getting my head into my own diagnosis formalised on 13 june 2016 suspect from march that year but what i have learnt is that my own reaction whilst understandable was one driven from a lack of knowledge or understanding of the disease what i tell myself to keep up the hope is the following i ms is not necessarily a fast track to a wheelchair life of pain 10 of people with ms have benign ms 80 of people with ms do not need a wheel chair 20 years after diagnosis ii improvements in technology mris only started being widely used in the 1980s and are improving all the time and drugs first dmds came out in the 1990s lemtrada most effective first line drug was licensed in the uk in december 2014 will move the stats above further in our favour if you have rrms c80 diagnosed with ms do disease modifying drugs could be a game changer if it is ppms new drugs are being trilled in the uk ocrelizumab and have been licenced in the us to provide further cause for hope there are more and better drugs and treatments in development in the pipeline too iii there are also drugs and treatments to help with ms symptoms so do not suffer them in silence everything from physio to steroids oxygen chambers to neuropathic pain relief iv even if things do progress there are brilliant people with ms living and loving life and cruising about in souped up wheelchairs v there are things we can do today to better look after ourselves for tomorrow brain health is important take supplements vit d eat healthily exercise and build a good core sleep properly avoid stress and above all be kind to yourself and try to appreciate and enjoy the wellness you have and do not get too drunk this last is a note for myself as i have a hangover oops for now do whatever you need to help yourself over this shock wine chocolate tears screaming punching things i took up boxing cardio core and cognative work out and i like punching things who gave you your diagnosis this should normally be done by a neuro rather than a gp i think as they are best placed to confirm the details of the diagnosis and put your in contact re next steps do you have access to an ms nurse yet if so hopefully you will have an appointment with them ahead of september if not perhaps talk to your dr about getting put in touch with your local team if you have any ongoing symptoms the ms nurse should also be able to help with these i hope some of that is helpful please feel free to drop me a message if it would be helpful to talk k xx',\n",
              "        'hello get diagnosis like bullet heart sob like baby immediately fear end life worst try boyfriend leave look dignata sure exit route plan know know fact type message mean brave feel get head diagnosis formalise 13 june 2016 suspect march year learn reaction whilst understandable drive lack knowledge understanding disease tell hope follow ms necessarily fast track wheelchair life pain 10 people ms benign ms 80 people ms need wheel chair 20 year diagnosis ii improvement technology mris start widely 1980 improve time drug dmds come 1990s lemtrada effective line drug license uk december 2014 stat favour rrm c80 diagnose ms disease modifying drug game changer ppms new drug trill uk ocrelizumab licence provide cause hope well drug treatment development pipeline iii drug treatment help ms symptom suffer silence physio steroid oxygen chamber neuropathic pain relief iv thing progress brilliant people ms live love life cruise soup wheelchair v thing today better look tomorrow brain health important supplement vit d eat healthily exercise build good core sleep properly avoid stress kind try appreciate enjoy wellness drunk note hangover oop need help shock wine chocolate tear scream punch thing take box cardio core cognative work like punch thing give diagnosis normally neuro gp think best place confirm detail diagnosis contact step access ms nurse hopefully appointment ahead september talk dr get touch local team ongoing symptom ms nurse able help hope helpful feel free drop message helpful talk k xx',\n",
              "        0.2644090909090909],\n",
              "       ['b227688381f9b25e5b65109dd00f7f895e838249',\n",
              "        'Hi everybody, My latest MRI results for Brain and Cervical Cord are in and my next Neurologist appointment is in the next couple of weeks. There’re no new lesions in Brain/Cord and I’ve had no relapses while I was on Gilenya. This was a good sign. But there was one line in the cervical cord review that concerned me. It goes : “Lesions at C2-3 and T2 now show hypointensity on the post gadolinium T1 images only. This could represent artifact or early axonal loss.” That was bothersome to read. What are the kind of symptoms from C2-C3 lesion should I be aware of ? Would it result in change of my DMT ? Thanks.',\n",
              "        'gilenya',\n",
              "        'hi everybody my latest mri results for brain and cervical cord are in and my next neurologist appointment is in the next couple of weeks there’re no new lesions in braincord and i’ve had no relapses while i was on gilenya this was a good sign but there was one line in the cervical cord review that concerned me it goes “lesions at c23 and t2 now show hypointensity on the post gadolinium t1 images only this could represent artifact or early axonal loss” that was bothersome to read what are the kind of symptoms from c2c3 lesion should i be aware of would it result in change of my dmt thanks',\n",
              "        'hi everybody late mri result brain cervical cord neurologist appointment couple week new lesion braincord relapse gilenya good sign line cervical cord review concern go \" lesion c23 t2 hypointensity post gadolinium t1 image represent artifact early axonal loss \" bothersome read kind symptom c2c3 lesion aware result change dmt thank',\n",
              "        0.2477272727272727]], dtype=object)"
            ]
          },
          "metadata": {
            "tags": []
          },
          "execution_count": 48
        }
      ]
    },
    {
      "cell_type": "code",
      "metadata": {
        "id": "VGGjqEDuWfRz",
        "colab_type": "code",
        "colab": {}
      },
      "source": [
        "X_balcd_final = pd.DataFrame({'unique_hash': x_ros[:, 0], 'text': x_ros[:, 1], 'drug': x_ros[:, 2], 'cleaned': x_ros[:, 3], 'lemmatized': x_ros[:, 4], 'polarity': x_ros[:, 5]})"
      ],
      "execution_count": 49,
      "outputs": []
    },
    {
      "cell_type": "code",
      "metadata": {
        "id": "MH7GkxubWkVn",
        "colab_type": "code",
        "colab": {
          "base_uri": "https://localhost:8080/",
          "height": 266
        },
        "outputId": "41790751-094d-4cd5-a729-b0566c95f454"
      },
      "source": [
        "X_balcd_final.head"
      ],
      "execution_count": 50,
      "outputs": [
        {
          "output_type": "execute_result",
          "data": {
            "text/plain": [
              "<bound method NDFrame.head of                                     unique_hash  ...   polarity\n",
              "0      2e180be4c9214c1f5ab51fd8cc32bc80c9f612e0  ...      0.375\n",
              "1      9eba8f80e7e20f3a2f48685530748fbfa95943e4  ...   0.250694\n",
              "2      fe809672251f6bd0d986e00380f48d047c7e7b76  ...   0.238101\n",
              "3      bd22104dfa9ec80db4099523e03fae7a52735eb6  ...        0.5\n",
              "4      b227688381f9b25e5b65109dd00f7f895e838249  ...   0.247727\n",
              "...                                         ...  ...        ...\n",
              "11470  bf7926f93d634b54b56e0fd326922657712add97  ...  0.0192236\n",
              "11471  420f8aec0f88b2e0367345e7750cee8b9305bd40  ...      0.175\n",
              "11472  6b6ff5190767bef38cca1c8e1f3a6693ed7cc615  ...    0.14966\n",
              "11473  2fa7c64509872b68ed2b49dbc99d70ddbeea8082  ...   0.264409\n",
              "11474  b227688381f9b25e5b65109dd00f7f895e838249  ...   0.247727\n",
              "\n",
              "[11475 rows x 6 columns]>"
            ]
          },
          "metadata": {
            "tags": []
          },
          "execution_count": 50
        }
      ]
    },
    {
      "cell_type": "code",
      "metadata": {
        "id": "GPW7v2DQWmWE",
        "colab_type": "code",
        "colab": {
          "base_uri": "https://localhost:8080/",
          "height": 35
        },
        "outputId": "900b1181-67a0-4506-cf5d-574677ccc92c"
      },
      "source": [
        "X_balcd_final.columns"
      ],
      "execution_count": 51,
      "outputs": [
        {
          "output_type": "execute_result",
          "data": {
            "text/plain": [
              "Index(['unique_hash', 'text', 'drug', 'cleaned', 'lemmatized', 'polarity'], dtype='object')"
            ]
          },
          "metadata": {
            "tags": []
          },
          "execution_count": 51
        }
      ]
    },
    {
      "cell_type": "code",
      "metadata": {
        "id": "-rlDaOMRWox0",
        "colab_type": "code",
        "colab": {
          "base_uri": "https://localhost:8080/",
          "height": 52
        },
        "outputId": "b0bf418b-ab47-40ed-c7d8-0351c10ec408"
      },
      "source": [
        "x_unique = X_balcd_final.lemmatized.unique()\n",
        "x_unique = pd.DataFrame(x_unique)\n",
        "x_unique.nunique()"
      ],
      "execution_count": 52,
      "outputs": [
        {
          "output_type": "execute_result",
          "data": {
            "text/plain": [
              "0    5180\n",
              "dtype: int64"
            ]
          },
          "metadata": {
            "tags": []
          },
          "execution_count": 52
        }
      ]
    },
    {
      "cell_type": "code",
      "metadata": {
        "id": "uMko9y8IWrPU",
        "colab_type": "code",
        "colab": {
          "base_uri": "https://localhost:8080/",
          "height": 141
        },
        "outputId": "f435e50b-6e18-423e-b935-c7a7c99f1f2b"
      },
      "source": [
        "duplicate = X_balcd_final[X_balcd_final.duplicated('text')]\n",
        "duplicate.nunique()"
      ],
      "execution_count": 53,
      "outputs": [
        {
          "output_type": "execute_result",
          "data": {
            "text/plain": [
              "unique_hash    1519\n",
              "text           1509\n",
              "drug             78\n",
              "cleaned        1509\n",
              "lemmatized     1509\n",
              "polarity       1251\n",
              "dtype: int64"
            ]
          },
          "metadata": {
            "tags": []
          },
          "execution_count": 53
        }
      ]
    },
    {
      "cell_type": "code",
      "metadata": {
        "id": "LcsqyWcUW8Ec",
        "colab_type": "code",
        "colab": {
          "base_uri": "https://localhost:8080/",
          "height": 35
        },
        "outputId": "89805dda-2937-4c10-f3ac-5777c94f492e"
      },
      "source": [
        "y_ros"
      ],
      "execution_count": 54,
      "outputs": [
        {
          "output_type": "execute_result",
          "data": {
            "text/plain": [
              "array([2, 2, 2, ..., 1, 1, 1])"
            ]
          },
          "metadata": {
            "tags": []
          },
          "execution_count": 54
        }
      ]
    },
    {
      "cell_type": "code",
      "metadata": {
        "id": "vAFLOPcvW-rN",
        "colab_type": "code",
        "colab": {}
      },
      "source": [
        "y_balcd_final = pd.DataFrame({'sentiment': y_ros})"
      ],
      "execution_count": 55,
      "outputs": []
    },
    {
      "cell_type": "code",
      "metadata": {
        "id": "IsMDt-wpXAyV",
        "colab_type": "code",
        "colab": {
          "base_uri": "https://localhost:8080/",
          "height": 266
        },
        "outputId": "c872673f-c21a-4472-9ecf-3c8ee38b60bf"
      },
      "source": [
        "y_balcd_final.head"
      ],
      "execution_count": 56,
      "outputs": [
        {
          "output_type": "execute_result",
          "data": {
            "text/plain": [
              "<bound method NDFrame.head of        sentiment\n",
              "0              2\n",
              "1              2\n",
              "2              2\n",
              "3              2\n",
              "4              1\n",
              "...          ...\n",
              "11470          1\n",
              "11471          1\n",
              "11472          1\n",
              "11473          1\n",
              "11474          1\n",
              "\n",
              "[11475 rows x 1 columns]>"
            ]
          },
          "metadata": {
            "tags": []
          },
          "execution_count": 56
        }
      ]
    },
    {
      "cell_type": "code",
      "metadata": {
        "id": "cFgAI2nwXCUe",
        "colab_type": "code",
        "colab": {}
      },
      "source": [
        "X_balcd_final_lemmatized = X_balcd_final['lemmatized']"
      ],
      "execution_count": 57,
      "outputs": []
    },
    {
      "cell_type": "code",
      "metadata": {
        "id": "CCOMoJGZXEcS",
        "colab_type": "code",
        "colab": {
          "base_uri": "https://localhost:8080/",
          "height": 230
        },
        "outputId": "9efa467f-833b-4255-8ab0-e02752e2528a"
      },
      "source": [
        "X_balcd_final_lemmatized.head"
      ],
      "execution_count": 58,
      "outputs": [
        {
          "output_type": "execute_result",
          "data": {
            "text/plain": [
              "<bound method NDFrame.head of 0        autoimmune disease tend come cluster gilenya –...\n",
              "1        completely understand want try result report l...\n",
              "2        interesting target s1p15 receptor 15 like fing...\n",
              "3        interesting grand merci wonder lemtrada ocrevu...\n",
              "4        hi everybody late mri result brain cervical co...\n",
              "                               ...                        \n",
              "11470    hey everybody wonder anybody think deal fertil...\n",
              "11471    gilenya 3 year prior tysabri trial stop jvc wb...\n",
              "11472    hi dar look post 4 thread rituxan year read po...\n",
              "11473    hello get diagnosis like bullet heart sob like...\n",
              "11474    hi everybody late mri result brain cervical co...\n",
              "Name: lemmatized, Length: 11475, dtype: object>"
            ]
          },
          "metadata": {
            "tags": []
          },
          "execution_count": 58
        }
      ]
    },
    {
      "cell_type": "code",
      "metadata": {
        "id": "edgmuZfgYLv_",
        "colab_type": "code",
        "colab": {}
      },
      "source": [
        "def multiclass_logloss(actual, predicted, eps=1e-15):\n",
        "    \"\"\"Multi class version of Logarithmic Loss metric.\n",
        "    :param actual: Array containing the actual target classes\n",
        "    :param predicted: Matrix with class predictions, one probability per class\n",
        "    \"\"\"\n",
        "    # Convert 'actual' to a binary array if it's not already:\n",
        "    if len(actual.shape) == 1:\n",
        "        actual2 = np.zeros((actual.shape[0], predicted.shape[1]))\n",
        "        for i, val in enumerate(actual):\n",
        "            actual2[i, val] = 1\n",
        "        actual = actual2\n",
        "\n",
        "    clip = np.clip(predicted, eps, 1 - eps)\n",
        "    rows = actual.shape[0]\n",
        "    vsota = np.sum(actual * np.log(clip))\n",
        "    return -1.0 / rows * vsota"
      ],
      "execution_count": 59,
      "outputs": []
    },
    {
      "cell_type": "code",
      "metadata": {
        "id": "adu0YXrNXGVH",
        "colab_type": "code",
        "colab": {}
      },
      "source": [
        "from sklearn.metrics import confusion_matrix \n",
        "\n",
        "def CN(ytest, ypred):\n",
        "  model_perforamnce = confusion_matrix(ytest, ypred)\n",
        "  return model_perforamnce"
      ],
      "execution_count": 60,
      "outputs": []
    },
    {
      "cell_type": "code",
      "metadata": {
        "id": "ZCbonApgXH7J",
        "colab_type": "code",
        "colab": {}
      },
      "source": [
        "from sklearn.metrics import classification_report \n",
        "\n",
        "def CR(ytest, ypred):\n",
        "  classification = classification_report(ytest, ypred)\n",
        "  return classification"
      ],
      "execution_count": 61,
      "outputs": []
    },
    {
      "cell_type": "code",
      "metadata": {
        "id": "TqTQb6dgXLBf",
        "colab_type": "code",
        "colab": {}
      },
      "source": [
        "from sklearn.metrics import accuracy_score\n",
        "\n",
        "def acc(ytest, ypred):\n",
        "  model_accuracy = accuracy_score(ytest, ypred)\n",
        "  return model_accuracy"
      ],
      "execution_count": 62,
      "outputs": []
    },
    {
      "cell_type": "code",
      "metadata": {
        "id": "KDTO3JScXMyI",
        "colab_type": "code",
        "colab": {}
      },
      "source": [
        "from sklearn.metrics import r2_score\n",
        "\n",
        "def r2(ytest, ypred):\n",
        "  r2s= r2_score(ytest, ypred)\n",
        "  return r2s"
      ],
      "execution_count": 63,
      "outputs": []
    },
    {
      "cell_type": "code",
      "metadata": {
        "id": "X6TAZc9cZ4uy",
        "colab_type": "code",
        "colab": {
          "base_uri": "https://localhost:8080/",
          "height": 72
        },
        "outputId": "861ed376-b3a5-4d46-9e8a-71809b38ab9e"
      },
      "source": [
        "import seaborn as sns\n",
        "import numpy as np\n",
        "from sklearn.metrics import precision_recall_fscore_support\n",
        "import matplotlib.pyplot as plt\n",
        "\n",
        "y = np.random.randint(low=0, high=10, size=100)\n",
        "y_p = np.random.randint(low=0, high=10, size=100)\n",
        "\n",
        "def plot_classification_report(y_tru, y_prd, figsize=(10, 10), ax=None):\n",
        "\n",
        "    plt.figure(figsize=figsize)\n",
        "\n",
        "    xticks = ['precision', 'recall', 'f1-score', 'support']\n",
        "    yticks = list(np.unique(y_tru))\n",
        "    yticks += ['avg']\n",
        "\n",
        "    rep = np.array(precision_recall_fscore_support(y_tru, y_prd)).T\n",
        "    avg = np.mean(rep, axis=0)\n",
        "    avg[-1] = np.sum(rep[:, -1])\n",
        "    rep = np.insert(rep, rep.shape[0], avg, axis=0)\n",
        "\n",
        "    sns.heatmap(rep,\n",
        "                annot=True, \n",
        "                cbar=True, \n",
        "                xticklabels=xticks, \n",
        "                yticklabels=yticks,\n",
        "                ax=ax, cmap='coolwarm',vmin=0, vmax=1)"
      ],
      "execution_count": 64,
      "outputs": [
        {
          "output_type": "stream",
          "text": [
            "/usr/local/lib/python3.6/dist-packages/statsmodels/tools/_testing.py:19: FutureWarning: pandas.util.testing is deprecated. Use the functions in the public API at pandas.testing instead.\n",
            "  import pandas.util.testing as tm\n"
          ],
          "name": "stderr"
        }
      ]
    },
    {
      "cell_type": "code",
      "metadata": {
        "id": "ME3Ugsw0XPm7",
        "colab_type": "code",
        "colab": {}
      },
      "source": [
        "from sklearn.feature_extraction.text import TfidfVectorizer\n",
        "\n",
        "tfv_bal = TfidfVectorizer( stop_words = 'english', max_features = 25684)\n",
        "\n",
        "# Fitting TF-IDF to both training and test sets (semi-supervised learning)\n",
        "tfv_bal.fit(list(X_balcd_final_lemmatized))\n",
        "X_balcd_tfv =  tfv_bal.transform(X_balcd_final_lemmatized)"
      ],
      "execution_count": 65,
      "outputs": []
    },
    {
      "cell_type": "code",
      "metadata": {
        "id": "_1N32gfaXRgM",
        "colab_type": "code",
        "colab": {
          "base_uri": "https://localhost:8080/",
          "height": 52
        },
        "outputId": "6783af60-9b9c-4176-8850-585d27bc4d59"
      },
      "source": [
        "X_balcd_tfv "
      ],
      "execution_count": 66,
      "outputs": [
        {
          "output_type": "execute_result",
          "data": {
            "text/plain": [
              "<11475x25684 sparse matrix of type '<class 'numpy.float64'>'\n",
              "\twith 987431 stored elements in Compressed Sparse Row format>"
            ]
          },
          "metadata": {
            "tags": []
          },
          "execution_count": 66
        }
      ]
    },
    {
      "cell_type": "code",
      "metadata": {
        "id": "brKX62D5XmMO",
        "colab_type": "code",
        "colab": {}
      },
      "source": [
        "from sklearn.model_selection import train_test_split\n",
        "(X_train_bal, X_test_bal, y_train_bal, y_test_bal) = train_test_split(X_balcd_tfv, y_ros, test_size =.25, random_state =52)"
      ],
      "execution_count": 67,
      "outputs": []
    },
    {
      "cell_type": "code",
      "metadata": {
        "id": "u3nqnvGEXp2E",
        "colab_type": "code",
        "colab": {
          "base_uri": "https://localhost:8080/",
          "height": 35
        },
        "outputId": "c1d39292-03a9-4e09-8768-35c30193f65c"
      },
      "source": [
        "print(X_train_bal.shape, X_test_bal.shape, y_train_bal.shape, y_test_bal.shape,y_ros.shape)"
      ],
      "execution_count": 75,
      "outputs": [
        {
          "output_type": "stream",
          "text": [
            "(8606, 25684) (2869, 25684) (8606,) (2869,) (11475,)\n"
          ],
          "name": "stdout"
        }
      ]
    },
    {
      "cell_type": "code",
      "metadata": {
        "id": "IJNONv8HX_-s",
        "colab_type": "code",
        "colab": {
          "base_uri": "https://localhost:8080/",
          "height": 1000
        },
        "outputId": "91d4348f-b2f4-4c9d-f666-689228599ddd"
      },
      "source": [
        "from sklearn.linear_model import LogisticRegression\n",
        "from yellowbrick.classifier import ClassificationReport\n",
        "\n",
        "target_names = list(\"012\")\n",
        "\n",
        "# Fitting a simple Logistic Regression on TFIDF\n",
        "clfLR = LogisticRegression(C=1.0)\n",
        "clfLR.fit(X_train_bal, y_train_bal)\n",
        "predictions = clfLR.predict(X_test_bal)\n",
        "\n",
        "print(\"confusion matrix :\"+str(CN(y_test_bal, predictions)))\n",
        "print(\"accuracy :\"+str(acc(y_test_bal, predictions)))\n",
        "print(\"classification report :\"+str(CR(y_test_bal, predictions)))\n",
        "print(\"r2 score :\"+str(r2(y_test_bal, predictions)))\n",
        "plot_classification_report(y_test_bal, predictions)"
      ],
      "execution_count": 71,
      "outputs": [
        {
          "output_type": "stream",
          "text": [
            "/usr/local/lib/python3.6/dist-packages/sklearn/linear_model/_logistic.py:940: ConvergenceWarning: lbfgs failed to converge (status=1):\n",
            "STOP: TOTAL NO. of ITERATIONS REACHED LIMIT.\n",
            "\n",
            "Increase the number of iterations (max_iter) or scale the data as shown in:\n",
            "    https://scikit-learn.org/stable/modules/preprocessing.html\n",
            "Please also refer to the documentation for alternative solver options:\n",
            "    https://scikit-learn.org/stable/modules/linear_model.html#logistic-regression\n",
            "  extra_warning_msg=_LOGISTIC_SOLVER_CONVERGENCE_MSG)\n"
          ],
          "name": "stderr"
        },
        {
          "output_type": "stream",
          "text": [
            "confusion matrix :[[913  12  53]\n",
            " [ 15 843  60]\n",
            " [144 118 711]]\n",
            "accuracy :0.8598814918089926\n",
            "classification report :              precision    recall  f1-score   support\n",
            "\n",
            "           0       0.85      0.93      0.89       978\n",
            "           1       0.87      0.92      0.89       918\n",
            "           2       0.86      0.73      0.79       973\n",
            "\n",
            "    accuracy                           0.86      2869\n",
            "   macro avg       0.86      0.86      0.86      2869\n",
            "weighted avg       0.86      0.86      0.86      2869\n",
            "\n",
            "r2 score :0.49102796765780654\n"
          ],
          "name": "stdout"
        },
        {
          "output_type": "display_data",
          "data": {
            "image/png": "[encoded data removed]",
            "text/plain": [
              "<Figure size 720x720 with 2 Axes>"
            ]
          },
          "metadata": {
            "tags": []
          }
        }
      ]
    },
    {
      "cell_type": "code",
      "metadata": {
        "id": "E4PWAhLPYBx1",
        "colab_type": "code",
        "colab": {
          "base_uri": "https://localhost:8080/",
          "height": 212
        },
        "outputId": "3a5defbd-4db6-4bb0-9b36-1d0a05b26f27"
      },
      "source": [
        "predictionsLR = clfLR.predict_proba(X_test_bal)\n",
        "print(predictionsLR.shape)\n",
        "print(y_test_bal.shape)\n",
        "\n",
        "print (\"logloss: %0.3f \" % multiclass_logloss(y_test_bal, predictionsLR))\n",
        "print(predictionsLR.shape)\n",
        "predictionsLR"
      ],
      "execution_count": 74,
      "outputs": [
        {
          "output_type": "stream",
          "text": [
            "(2869, 3)\n",
            "(2869,)\n",
            "logloss: 0.534 \n",
            "(2869, 3)\n"
          ],
          "name": "stdout"
        },
        {
          "output_type": "execute_result",
          "data": {
            "text/plain": [
              "array([[0.04901829, 0.80696582, 0.14401589],\n",
              "       [0.20376517, 0.59095269, 0.20528213],\n",
              "       [0.71737555, 0.09109604, 0.19152841],\n",
              "       ...,\n",
              "       [0.10698332, 0.48204111, 0.41097557],\n",
              "       [0.1044372 , 0.04754666, 0.84801614],\n",
              "       [0.20444673, 0.16147344, 0.63407983]])"
            ]
          },
          "metadata": {
            "tags": []
          },
          "execution_count": 74
        }
      ]
    },
    {
      "cell_type": "code",
      "metadata": {
        "id": "YwmfNKdoYD2i",
        "colab_type": "code",
        "colab": {
          "base_uri": "https://localhost:8080/",
          "height": 863
        },
        "outputId": "e291d453-3204-4bcf-ab2b-21db2f08dde9"
      },
      "source": [
        " from sklearn.naive_bayes import MultinomialNB\n",
        "\n",
        "clfMNB = MultinomialNB()\n",
        "clfMNB.fit(X_train_bal, y_train_bal)\n",
        "predictions = clfMNB.predict(X_test_bal)\n",
        "\n",
        "\n",
        "print(\"confusion matrix :\"+str(CN(y_test_bal, predictions)))\n",
        "print(\"accuracy :\"+str(acc(y_test_bal, predictions)))\n",
        "print(\"classification report :\"+str(CR(y_test_bal, predictions)))\n",
        "print(\"r2 score :\"+str(r2(y_test_bal, predictions)))\n",
        "plot_classification_report(y_test_bal, predictions)"
      ],
      "execution_count": null,
      "outputs": [
        {
          "output_type": "stream",
          "text": [
            "confusion matrix :[[790 117  71]\n",
            " [ 44 787  87]\n",
            " [190 245 538]]\n",
            "accuracy :0.7371906587661206\n",
            "classification report :              precision    recall  f1-score   support\n",
            "\n",
            "           0       0.77      0.81      0.79       978\n",
            "           1       0.68      0.86      0.76       918\n",
            "           2       0.77      0.55      0.64       973\n",
            "\n",
            "    accuracy                           0.74      2869\n",
            "   macro avg       0.74      0.74      0.73      2869\n",
            "weighted avg       0.74      0.74      0.73      2869\n",
            "\n",
            "r2 score :0.21219535376641352\n"
          ],
          "name": "stdout"
        },
        {
          "output_type": "display_data",
          "data": {
            "image/png": "[encoded data removed]",
            "text/plain": [
              "<Figure size 720x720 with 2 Axes>"
            ]
          },
          "metadata": {
            "tags": []
          }
        }
      ]
    },
    {
      "cell_type": "code",
      "metadata": {
        "id": "qQUlp5skYekB",
        "colab_type": "code",
        "colab": {
          "base_uri": "https://localhost:8080/",
          "height": 177
        },
        "outputId": "2b787650-364f-430a-e58a-6259f969d1dd"
      },
      "source": [
        "predictionsMNB = clfMNB.predict_proba(X_test_bal)\n",
        "print (\"logloss: %0.3f \" % multiclass_logloss(y_test_bal, predictionsMNB))\n",
        "print(predictionsMNB.shape)\n",
        "predictionsMNB"
      ],
      "execution_count": null,
      "outputs": [
        {
          "output_type": "stream",
          "text": [
            "logloss: 0.664 \n",
            "(2869, 3)\n"
          ],
          "name": "stdout"
        },
        {
          "output_type": "execute_result",
          "data": {
            "text/plain": [
              "array([[0.03335494, 0.74834916, 0.2182959 ],\n",
              "       [0.23017275, 0.57634705, 0.1934802 ],\n",
              "       [0.54600297, 0.01079425, 0.44320278],\n",
              "       ...,\n",
              "       [0.32819113, 0.27483141, 0.39697746],\n",
              "       [0.02320135, 0.02438972, 0.95240893],\n",
              "       [0.24962441, 0.39588041, 0.35449518]])"
            ]
          },
          "metadata": {
            "tags": []
          },
          "execution_count": 72
        }
      ]
    },
    {
      "cell_type": "code",
      "metadata": {
        "id": "clGkkjliYgZI",
        "colab_type": "code",
        "colab": {
          "base_uri": "https://localhost:8080/",
          "height": 863
        },
        "outputId": "13720b65-6807-46e6-f690-2ce20c665f14"
      },
      "source": [
        "from sklearn.svm import SVC\n",
        "# Fitting a simple SVM\n",
        "clfSVC = SVC(C=1.0, probability=True) # since we need probabilities\n",
        "clfSVC.fit(X_train_bal, y_train_bal)\n",
        "predictions = clfSVC.predict(X_test_bal)\n",
        "\n",
        "print(\"confusion matrix :\"+str(CN(y_test_bal, predictions)))\n",
        "print(\"accuracy :\"+str(acc(y_test_bal, predictions)))\n",
        "print(\"classification report :\"+str(CR(y_test_bal, predictions)))\n",
        "print(\"r2 score :\"+str(r2(y_test_bal, predictions)))\n",
        "plot_classification_report(y_test_bal, predictions)"
      ],
      "execution_count": null,
      "outputs": [
        {
          "output_type": "stream",
          "text": [
            "confusion matrix :[[945   1  32]\n",
            " [  0 894  24]\n",
            " [ 20  38 915]]\n",
            "accuracy :0.959916347159289\n",
            "classification report :              precision    recall  f1-score   support\n",
            "\n",
            "           0       0.98      0.97      0.97       978\n",
            "           1       0.96      0.97      0.97       918\n",
            "           2       0.94      0.94      0.94       973\n",
            "\n",
            "    accuracy                           0.96      2869\n",
            "   macro avg       0.96      0.96      0.96      2869\n",
            "weighted avg       0.96      0.96      0.96      2869\n",
            "\n",
            "r2 score :0.8610962530063098\n"
          ],
          "name": "stdout"
        },
        {
          "output_type": "display_data",
          "data": {
            "image/png": "[encoded data removed]",
            "text/plain": [
              "<Figure size 720x720 with 2 Axes>"
            ]
          },
          "metadata": {
            "tags": []
          }
        }
      ]
    },
    {
      "cell_type": "code",
      "metadata": {
        "id": "Y0ekTzhTYiO5",
        "colab_type": "code",
        "colab": {
          "base_uri": "https://localhost:8080/",
          "height": 177
        },
        "outputId": "39a9af17-3bda-4d8d-df36-3bf79141cc4d"
      },
      "source": [
        "predictionsSVC = clfSVC.predict_proba(X_test_bal)\n",
        "\n",
        "print (\"logloss: %0.3f \" % multiclass_logloss(y_test_bal, predictionsSVC))\n",
        "print(predictionsSVC.shape)\n",
        "predictionsSVC"
      ],
      "execution_count": null,
      "outputs": [
        {
          "output_type": "stream",
          "text": [
            "logloss: 0.126 \n",
            "(2869, 3)\n"
          ],
          "name": "stdout"
        },
        {
          "output_type": "execute_result",
          "data": {
            "text/plain": [
              "array([[1.18550819e-04, 9.87855809e-01, 1.20256403e-02],\n",
              "       [1.23175468e-03, 9.86895044e-01, 1.18732013e-02],\n",
              "       [9.95241165e-01, 1.35054054e-03, 3.40829436e-03],\n",
              "       ...,\n",
              "       [1.24175533e-03, 6.80916038e-01, 3.17842207e-01],\n",
              "       [1.53740062e-03, 1.95718511e-03, 9.96505414e-01],\n",
              "       [6.01223000e-03, 2.55229763e-02, 9.68464794e-01]])"
            ]
          },
          "metadata": {
            "tags": []
          },
          "execution_count": 74
        }
      ]
    },
    {
      "cell_type": "code",
      "metadata": {
        "id": "Yj31-xOLYj85",
        "colab_type": "code",
        "colab": {
          "base_uri": "https://localhost:8080/",
          "height": 863
        },
        "outputId": "0c4ea386-34cb-4a5e-96d5-557103846724"
      },
      "source": [
        "from sklearn import tree\n",
        "\n",
        "clfdt = tree.DecisionTreeClassifier()\n",
        "clfdt.fit(X_train_bal, y_train_bal)\n",
        "predictions = clfdt.predict(X_test_bal)\n",
        "\n",
        "print(\"confusion matrix :\"+str(CN(y_test_bal, predictions)))\n",
        "print(\"accuracy :\"+str(acc(y_test_bal, predictions)))\n",
        "print(\"classification report :\"+str(CR(y_test_bal, predictions)))\n",
        "print(\"r2 score :\"+str(r2(y_test_bal, predictions)))\n",
        "plot_classification_report(y_test_bal, predictions)"
      ],
      "execution_count": null,
      "outputs": [
        {
          "output_type": "stream",
          "text": [
            "confusion matrix :[[973   1   4]\n",
            " [  3 904  11]\n",
            " [152 196 625]]\n",
            "accuracy :0.8720808644126874\n",
            "classification report :              precision    recall  f1-score   support\n",
            "\n",
            "           0       0.86      0.99      0.92       978\n",
            "           1       0.82      0.98      0.90       918\n",
            "           2       0.98      0.64      0.77       973\n",
            "\n",
            "    accuracy                           0.87      2869\n",
            "   macro avg       0.89      0.87      0.86      2869\n",
            "weighted avg       0.89      0.87      0.86      2869\n",
            "\n",
            "r2 score :0.572012440074792\n"
          ],
          "name": "stdout"
        },
        {
          "output_type": "display_data",
          "data": {
            "image/png": "[encoded data removed]",
            "text/plain": [
              "<Figure size 720x720 with 2 Axes>"
            ]
          },
          "metadata": {
            "tags": []
          }
        }
      ]
    },
    {
      "cell_type": "code",
      "metadata": {
        "id": "ARt0vZ1TYmMA",
        "colab_type": "code",
        "colab": {
          "base_uri": "https://localhost:8080/",
          "height": 177
        },
        "outputId": "a166474a-6ed2-4389-ada9-27e844f54a50"
      },
      "source": [
        "predictionsDT = clfdt.predict_proba(X_test_bal)\n",
        "\n",
        "print (\"logloss: %0.3f \" % multiclass_logloss(y_test_bal, predictionsDT))\n",
        "print(predictionsDT.shape)\n",
        "predictionsDT"
      ],
      "execution_count": null,
      "outputs": [
        {
          "output_type": "stream",
          "text": [
            "logloss: 4.527 \n",
            "(2869, 3)\n"
          ],
          "name": "stdout"
        },
        {
          "output_type": "execute_result",
          "data": {
            "text/plain": [
              "array([[0., 1., 0.],\n",
              "       [0., 1., 0.],\n",
              "       [1., 0., 0.],\n",
              "       ...,\n",
              "       [0., 1., 0.],\n",
              "       [0., 0., 1.],\n",
              "       [0., 0., 1.]])"
            ]
          },
          "metadata": {
            "tags": []
          },
          "execution_count": 76
        }
      ]
    },
    {
      "cell_type": "code",
      "metadata": {
        "id": "27LHU1qRYoHX",
        "colab_type": "code",
        "colab": {
          "base_uri": "https://localhost:8080/",
          "height": 863
        },
        "outputId": "803203e1-29c9-47e4-aa9e-1431336e1923"
      },
      "source": [
        "from sklearn.naive_bayes import GaussianNB\n",
        "\n",
        "clf = GaussianNB().fit(X_train_bal.toarray(), y_train_bal)\n",
        "predictions=clf.predict(X_test_bal.toarray())\n",
        "\n",
        "\n",
        "print(\"confusion matrix :\"+str(CN(y_test_bal, predictions)))\n",
        "print(\"accuracy :\"+str(acc(y_test_bal, predictions)))\n",
        "print(\"classification report :\"+str(CR(y_test_bal, predictions)))\n",
        "print(\"r2 score :\"+str(r2(y_test_bal, predictions)))\n",
        "plot_classification_report(y_test_bal, predictions)"
      ],
      "execution_count": null,
      "outputs": [
        {
          "output_type": "stream",
          "text": [
            "confusion matrix :[[968   4   6]\n",
            " [ 21 886  11]\n",
            " [134 132 707]]\n",
            "accuracy :0.892645521087487\n",
            "classification report :              precision    recall  f1-score   support\n",
            "\n",
            "           0       0.86      0.99      0.92       978\n",
            "           1       0.87      0.97      0.91       918\n",
            "           2       0.98      0.73      0.83       973\n",
            "\n",
            "    accuracy                           0.89      2869\n",
            "   macro avg       0.90      0.89      0.89      2869\n",
            "weighted avg       0.90      0.89      0.89      2869\n",
            "\n",
            "r2 score :0.6268563549394593\n"
          ],
          "name": "stdout"
        },
        {
          "output_type": "display_data",
          "data": {
            "image/png": "[encoded data removed]",
            "text/plain": [
              "<Figure size 720x720 with 2 Axes>"
            ]
          },
          "metadata": {
            "tags": []
          }
        }
      ]
    },
    {
      "cell_type": "code",
      "metadata": {
        "id": "SFwbpFcsYtQ1",
        "colab_type": "code",
        "colab": {
          "base_uri": "https://localhost:8080/",
          "height": 177
        },
        "outputId": "65a96994-48e8-40a0-ea5c-8decc87c1c3b"
      },
      "source": [
        "predictionsGNB=clf.predict_proba(X_test_bal.toarray())\n",
        "\n",
        "print (\"logloss: %0.3f \" % multiclass_logloss(y_test_bal, predictionsGNB))\n",
        "print(predictionsGNB.shape)\n",
        "predictionsGNB"
      ],
      "execution_count": null,
      "outputs": [
        {
          "output_type": "stream",
          "text": [
            "logloss: 3.708 \n",
            "(2869, 3)\n"
          ],
          "name": "stdout"
        },
        {
          "output_type": "execute_result",
          "data": {
            "text/plain": [
              "array([[0., 1., 0.],\n",
              "       [0., 1., 0.],\n",
              "       [1., 0., 0.],\n",
              "       ...,\n",
              "       [0., 1., 0.],\n",
              "       [0., 0., 1.],\n",
              "       [0., 1., 0.]])"
            ]
          },
          "metadata": {
            "tags": []
          },
          "execution_count": 78
        }
      ]
    },
    {
      "cell_type": "code",
      "metadata": {
        "id": "0VnFDDxTYtyH",
        "colab_type": "code",
        "colab": {}
      },
      "source": [
        "from sklearn.metrics import make_scorer\n",
        "from sklearn.model_selection import GridSearchCV\n",
        "from sklearn.model_selection import ShuffleSplit\n",
        "\n",
        "def fit_model(X, y):\n",
        "    \"\"\" Performs grid search over the 'max_depth' parameter for a \n",
        "        decision tree regressor trained on the input data [X, y]. \"\"\"\n",
        "    \n",
        "    # Create cross-validation sets from the training data\n",
        "    # sklearn version 0.18: ShuffleSplit(n_splits=10, test_size=0.1, train_size=None, random_state=None)\n",
        "    # sklearn versiin 0.17: ShuffleSplit(n, n_iter=10, test_size=0.1, train_size=None, random_state=None)\n",
        "    cv_sets = ShuffleSplit(n_splits=10, test_size=0.2, train_size=0.2, random_state = 0)\n",
        "\n",
        "    # TODO: Create a decision tree regressor object\n",
        "    regressor = SVC()\n",
        "\n",
        "    # TODO: Create a dictionary for the parameter 'max_depth' with a range from 1 to 10\n",
        "    params = {'C': [0.1, 1, 10, 100, 1000],  \n",
        "              'gamma': [1, 0.1, 0.01, 0.001, 0.0001], \n",
        "              'kernel': ['rbf']}\n",
        "\n",
        "    # TODO: Transform 'performance_metric' into a scoring function using 'make_scorer' \n",
        "    scores = make_scorer(r2_score)\n",
        "\n",
        "\n",
        "    # TODO: Create the grid search cv object --> GridSearchCV()\n",
        "    # Make sure to include the right parameters in the object:\n",
        "    # (estimator, param_grid, scoring, cv) which have values 'regressor', 'params', 'scoring_fnc', and 'cv_sets' respectively.\n",
        "    grid = GridSearchCV(regressor, params, scores, cv=cv_sets)\n",
        "\n",
        "    # Fit the grid search object to the data to compute the optimal model\n",
        "    grid = grid.fit(X, y)\n",
        "\n",
        "\n",
        "    # Return the optimal model after fitting the data\n",
        "    return grid.best_estimator_"
      ],
      "execution_count": null,
      "outputs": []
    },
    {
      "cell_type": "code",
      "metadata": {
        "id": "cz_EYtc0W76P",
        "colab_type": "code",
        "colab": {
          "base_uri": "https://localhost:8080/",
          "height": 422
        },
        "outputId": "5a76608e-8790-4a0c-86ae-f5b53f05cee5"
      },
      "source": [
        "import time\n",
        "tic = time.time()\n",
        "#svc_model=fit_model(X_train_bal, y_train_bal)\n",
        "tok = time.time()\n",
        "\n",
        "print(\"time :\"+str((tok-tic)*1000))"
      ],
      "execution_count": null,
      "outputs": [
        {
          "output_type": "error",
          "ename": "KeyboardInterrupt",
          "evalue": "ignored",
          "traceback": [
            "\u001b[0;31m---------------------------------------------------------------------------\u001b[0m",
            "\u001b[0;31mKeyboardInterrupt\u001b[0m                         Traceback (most recent call last)",
            "\u001b[0;32m<ipython-input-80-5623ed427356>\u001b[0m in \u001b[0;36m<module>\u001b[0;34m()\u001b[0m\n\u001b[1;32m      1\u001b[0m \u001b[0;32mimport\u001b[0m \u001b[0mtime\u001b[0m\u001b[0;34m\u001b[0m\u001b[0;34m\u001b[0m\u001b[0m\n\u001b[1;32m      2\u001b[0m \u001b[0mtic\u001b[0m \u001b[0;34m=\u001b[0m \u001b[0mtime\u001b[0m\u001b[0;34m.\u001b[0m\u001b[0mtime\u001b[0m\u001b[0;34m(\u001b[0m\u001b[0;34m)\u001b[0m\u001b[0;34m\u001b[0m\u001b[0;34m\u001b[0m\u001b[0m\n\u001b[0;32m----> 3\u001b[0;31m \u001b[0msvc_model\u001b[0m\u001b[0;34m=\u001b[0m\u001b[0mfit_model\u001b[0m\u001b[0;34m(\u001b[0m\u001b[0mX_train_bal\u001b[0m\u001b[0;34m,\u001b[0m \u001b[0my_train_bal\u001b[0m\u001b[0;34m)\u001b[0m\u001b[0;34m\u001b[0m\u001b[0;34m\u001b[0m\u001b[0m\n\u001b[0m\u001b[1;32m      4\u001b[0m \u001b[0mtok\u001b[0m \u001b[0;34m=\u001b[0m \u001b[0mtime\u001b[0m\u001b[0;34m.\u001b[0m\u001b[0mtime\u001b[0m\u001b[0;34m(\u001b[0m\u001b[0;34m)\u001b[0m\u001b[0;34m\u001b[0m\u001b[0;34m\u001b[0m\u001b[0m\n\u001b[1;32m      5\u001b[0m \u001b[0;34m\u001b[0m\u001b[0m\n",
            "\u001b[0;32m<ipython-input-79-8be17e8789b6>\u001b[0m in \u001b[0;36mfit_model\u001b[0;34m(X, y)\u001b[0m\n\u001b[1;32m     30\u001b[0m \u001b[0;34m\u001b[0m\u001b[0m\n\u001b[1;32m     31\u001b[0m     \u001b[0;31m# Fit the grid search object to the data to compute the optimal model\u001b[0m\u001b[0;34m\u001b[0m\u001b[0;34m\u001b[0m\u001b[0;34m\u001b[0m\u001b[0m\n\u001b[0;32m---> 32\u001b[0;31m     \u001b[0mgrid\u001b[0m \u001b[0;34m=\u001b[0m \u001b[0mgrid\u001b[0m\u001b[0;34m.\u001b[0m\u001b[0mfit\u001b[0m\u001b[0;34m(\u001b[0m\u001b[0mX\u001b[0m\u001b[0;34m,\u001b[0m \u001b[0my\u001b[0m\u001b[0;34m)\u001b[0m\u001b[0;34m\u001b[0m\u001b[0;34m\u001b[0m\u001b[0m\n\u001b[0m\u001b[1;32m     33\u001b[0m \u001b[0;34m\u001b[0m\u001b[0m\n\u001b[1;32m     34\u001b[0m \u001b[0;34m\u001b[0m\u001b[0m\n",
            "\u001b[0;32m/usr/local/lib/python3.6/dist-packages/sklearn/model_selection/_search.py\u001b[0m in \u001b[0;36mfit\u001b[0;34m(self, X, y, groups, **fit_params)\u001b[0m\n\u001b[1;32m    708\u001b[0m                 \u001b[0;32mreturn\u001b[0m \u001b[0mresults\u001b[0m\u001b[0;34m\u001b[0m\u001b[0;34m\u001b[0m\u001b[0m\n\u001b[1;32m    709\u001b[0m \u001b[0;34m\u001b[0m\u001b[0m\n\u001b[0;32m--> 710\u001b[0;31m             \u001b[0mself\u001b[0m\u001b[0;34m.\u001b[0m\u001b[0m_run_search\u001b[0m\u001b[0;34m(\u001b[0m\u001b[0mevaluate_candidates\u001b[0m\u001b[0;34m)\u001b[0m\u001b[0;34m\u001b[0m\u001b[0;34m\u001b[0m\u001b[0m\n\u001b[0m\u001b[1;32m    711\u001b[0m \u001b[0;34m\u001b[0m\u001b[0m\n\u001b[1;32m    712\u001b[0m         \u001b[0;31m# For multi-metric evaluation, store the best_index_, best_params_ and\u001b[0m\u001b[0;34m\u001b[0m\u001b[0;34m\u001b[0m\u001b[0;34m\u001b[0m\u001b[0m\n",
            "\u001b[0;32m/usr/local/lib/python3.6/dist-packages/sklearn/model_selection/_search.py\u001b[0m in \u001b[0;36m_run_search\u001b[0;34m(self, evaluate_candidates)\u001b[0m\n\u001b[1;32m   1149\u001b[0m     \u001b[0;32mdef\u001b[0m \u001b[0m_run_search\u001b[0m\u001b[0;34m(\u001b[0m\u001b[0mself\u001b[0m\u001b[0;34m,\u001b[0m \u001b[0mevaluate_candidates\u001b[0m\u001b[0;34m)\u001b[0m\u001b[0;34m:\u001b[0m\u001b[0;34m\u001b[0m\u001b[0;34m\u001b[0m\u001b[0m\n\u001b[1;32m   1150\u001b[0m         \u001b[0;34m\"\"\"Search all candidates in param_grid\"\"\"\u001b[0m\u001b[0;34m\u001b[0m\u001b[0;34m\u001b[0m\u001b[0m\n\u001b[0;32m-> 1151\u001b[0;31m         \u001b[0mevaluate_candidates\u001b[0m\u001b[0;34m(\u001b[0m\u001b[0mParameterGrid\u001b[0m\u001b[0;34m(\u001b[0m\u001b[0mself\u001b[0m\u001b[0;34m.\u001b[0m\u001b[0mparam_grid\u001b[0m\u001b[0;34m)\u001b[0m\u001b[0;34m)\u001b[0m\u001b[0;34m\u001b[0m\u001b[0;34m\u001b[0m\u001b[0m\n\u001b[0m\u001b[1;32m   1152\u001b[0m \u001b[0;34m\u001b[0m\u001b[0m\n\u001b[1;32m   1153\u001b[0m \u001b[0;34m\u001b[0m\u001b[0m\n",
            "\u001b[0;32m/usr/local/lib/python3.6/dist-packages/sklearn/model_selection/_search.py\u001b[0m in \u001b[0;36mevaluate_candidates\u001b[0;34m(candidate_params)\u001b[0m\n\u001b[1;32m    687\u001b[0m                                \u001b[0;32mfor\u001b[0m \u001b[0mparameters\u001b[0m\u001b[0;34m,\u001b[0m \u001b[0;34m(\u001b[0m\u001b[0mtrain\u001b[0m\u001b[0;34m,\u001b[0m \u001b[0mtest\u001b[0m\u001b[0;34m)\u001b[0m\u001b[0;34m\u001b[0m\u001b[0;34m\u001b[0m\u001b[0m\n\u001b[1;32m    688\u001b[0m                                in product(candidate_params,\n\u001b[0;32m--> 689\u001b[0;31m                                           cv.split(X, y, groups)))\n\u001b[0m\u001b[1;32m    690\u001b[0m \u001b[0;34m\u001b[0m\u001b[0m\n\u001b[1;32m    691\u001b[0m                 \u001b[0;32mif\u001b[0m \u001b[0mlen\u001b[0m\u001b[0;34m(\u001b[0m\u001b[0mout\u001b[0m\u001b[0;34m)\u001b[0m \u001b[0;34m<\u001b[0m \u001b[0;36m1\u001b[0m\u001b[0;34m:\u001b[0m\u001b[0;34m\u001b[0m\u001b[0;34m\u001b[0m\u001b[0m\n",
            "\u001b[0;32m/usr/local/lib/python3.6/dist-packages/joblib/parallel.py\u001b[0m in \u001b[0;36m__call__\u001b[0;34m(self, iterable)\u001b[0m\n\u001b[1;32m   1030\u001b[0m                 \u001b[0mself\u001b[0m\u001b[0;34m.\u001b[0m\u001b[0m_iterating\u001b[0m \u001b[0;34m=\u001b[0m \u001b[0mself\u001b[0m\u001b[0;34m.\u001b[0m\u001b[0m_original_iterator\u001b[0m \u001b[0;32mis\u001b[0m \u001b[0;32mnot\u001b[0m \u001b[0;32mNone\u001b[0m\u001b[0;34m\u001b[0m\u001b[0;34m\u001b[0m\u001b[0m\n\u001b[1;32m   1031\u001b[0m \u001b[0;34m\u001b[0m\u001b[0m\n\u001b[0;32m-> 1032\u001b[0;31m             \u001b[0;32mwhile\u001b[0m \u001b[0mself\u001b[0m\u001b[0;34m.\u001b[0m\u001b[0mdispatch_one_batch\u001b[0m\u001b[0;34m(\u001b[0m\u001b[0miterator\u001b[0m\u001b[0;34m)\u001b[0m\u001b[0;34m:\u001b[0m\u001b[0;34m\u001b[0m\u001b[0;34m\u001b[0m\u001b[0m\n\u001b[0m\u001b[1;32m   1033\u001b[0m                 \u001b[0;32mpass\u001b[0m\u001b[0;34m\u001b[0m\u001b[0;34m\u001b[0m\u001b[0m\n\u001b[1;32m   1034\u001b[0m \u001b[0;34m\u001b[0m\u001b[0m\n",
            "\u001b[0;32m/usr/local/lib/python3.6/dist-packages/joblib/parallel.py\u001b[0m in \u001b[0;36mdispatch_one_batch\u001b[0;34m(self, iterator)\u001b[0m\n\u001b[1;32m    845\u001b[0m                 \u001b[0;32mreturn\u001b[0m \u001b[0;32mFalse\u001b[0m\u001b[0;34m\u001b[0m\u001b[0;34m\u001b[0m\u001b[0m\n\u001b[1;32m    846\u001b[0m             \u001b[0;32melse\u001b[0m\u001b[0;34m:\u001b[0m\u001b[0;34m\u001b[0m\u001b[0;34m\u001b[0m\u001b[0m\n\u001b[0;32m--> 847\u001b[0;31m                 \u001b[0mself\u001b[0m\u001b[0;34m.\u001b[0m\u001b[0m_dispatch\u001b[0m\u001b[0;34m(\u001b[0m\u001b[0mtasks\u001b[0m\u001b[0;34m)\u001b[0m\u001b[0;34m\u001b[0m\u001b[0;34m\u001b[0m\u001b[0m\n\u001b[0m\u001b[1;32m    848\u001b[0m                 \u001b[0;32mreturn\u001b[0m \u001b[0;32mTrue\u001b[0m\u001b[0;34m\u001b[0m\u001b[0;34m\u001b[0m\u001b[0m\n\u001b[1;32m    849\u001b[0m \u001b[0;34m\u001b[0m\u001b[0m\n",
            "\u001b[0;32m/usr/local/lib/python3.6/dist-packages/joblib/parallel.py\u001b[0m in \u001b[0;36m_dispatch\u001b[0;34m(self, batch)\u001b[0m\n\u001b[1;32m    763\u001b[0m         \u001b[0;32mwith\u001b[0m \u001b[0mself\u001b[0m\u001b[0;34m.\u001b[0m\u001b[0m_lock\u001b[0m\u001b[0;34m:\u001b[0m\u001b[0;34m\u001b[0m\u001b[0;34m\u001b[0m\u001b[0m\n\u001b[1;32m    764\u001b[0m             \u001b[0mjob_idx\u001b[0m \u001b[0;34m=\u001b[0m \u001b[0mlen\u001b[0m\u001b[0;34m(\u001b[0m\u001b[0mself\u001b[0m\u001b[0;34m.\u001b[0m\u001b[0m_jobs\u001b[0m\u001b[0;34m)\u001b[0m\u001b[0;34m\u001b[0m\u001b[0;34m\u001b[0m\u001b[0m\n\u001b[0;32m--> 765\u001b[0;31m             \u001b[0mjob\u001b[0m \u001b[0;34m=\u001b[0m \u001b[0mself\u001b[0m\u001b[0;34m.\u001b[0m\u001b[0m_backend\u001b[0m\u001b[0;34m.\u001b[0m\u001b[0mapply_async\u001b[0m\u001b[0;34m(\u001b[0m\u001b[0mbatch\u001b[0m\u001b[0;34m,\u001b[0m \u001b[0mcallback\u001b[0m\u001b[0;34m=\u001b[0m\u001b[0mcb\u001b[0m\u001b[0;34m)\u001b[0m\u001b[0;34m\u001b[0m\u001b[0;34m\u001b[0m\u001b[0m\n\u001b[0m\u001b[1;32m    766\u001b[0m             \u001b[0;31m# A job can complete so quickly than its callback is\u001b[0m\u001b[0;34m\u001b[0m\u001b[0;34m\u001b[0m\u001b[0;34m\u001b[0m\u001b[0m\n\u001b[1;32m    767\u001b[0m             \u001b[0;31m# called before we get here, causing self._jobs to\u001b[0m\u001b[0;34m\u001b[0m\u001b[0;34m\u001b[0m\u001b[0;34m\u001b[0m\u001b[0m\n",
            "\u001b[0;32m/usr/local/lib/python3.6/dist-packages/joblib/_parallel_backends.py\u001b[0m in \u001b[0;36mapply_async\u001b[0;34m(self, func, callback)\u001b[0m\n\u001b[1;32m    206\u001b[0m     \u001b[0;32mdef\u001b[0m \u001b[0mapply_async\u001b[0m\u001b[0;34m(\u001b[0m\u001b[0mself\u001b[0m\u001b[0;34m,\u001b[0m \u001b[0mfunc\u001b[0m\u001b[0;34m,\u001b[0m \u001b[0mcallback\u001b[0m\u001b[0;34m=\u001b[0m\u001b[0;32mNone\u001b[0m\u001b[0;34m)\u001b[0m\u001b[0;34m:\u001b[0m\u001b[0;34m\u001b[0m\u001b[0;34m\u001b[0m\u001b[0m\n\u001b[1;32m    207\u001b[0m         \u001b[0;34m\"\"\"Schedule a func to be run\"\"\"\u001b[0m\u001b[0;34m\u001b[0m\u001b[0;34m\u001b[0m\u001b[0m\n\u001b[0;32m--> 208\u001b[0;31m         \u001b[0mresult\u001b[0m \u001b[0;34m=\u001b[0m \u001b[0mImmediateResult\u001b[0m\u001b[0;34m(\u001b[0m\u001b[0mfunc\u001b[0m\u001b[0;34m)\u001b[0m\u001b[0;34m\u001b[0m\u001b[0;34m\u001b[0m\u001b[0m\n\u001b[0m\u001b[1;32m    209\u001b[0m         \u001b[0;32mif\u001b[0m \u001b[0mcallback\u001b[0m\u001b[0;34m:\u001b[0m\u001b[0;34m\u001b[0m\u001b[0;34m\u001b[0m\u001b[0m\n\u001b[1;32m    210\u001b[0m             \u001b[0mcallback\u001b[0m\u001b[0;34m(\u001b[0m\u001b[0mresult\u001b[0m\u001b[0;34m)\u001b[0m\u001b[0;34m\u001b[0m\u001b[0;34m\u001b[0m\u001b[0m\n",
            "\u001b[0;32m/usr/local/lib/python3.6/dist-packages/joblib/_parallel_backends.py\u001b[0m in \u001b[0;36m__init__\u001b[0;34m(self, batch)\u001b[0m\n\u001b[1;32m    570\u001b[0m         \u001b[0;31m# Don't delay the application, to avoid keeping the input\u001b[0m\u001b[0;34m\u001b[0m\u001b[0;34m\u001b[0m\u001b[0;34m\u001b[0m\u001b[0m\n\u001b[1;32m    571\u001b[0m         \u001b[0;31m# arguments in memory\u001b[0m\u001b[0;34m\u001b[0m\u001b[0;34m\u001b[0m\u001b[0;34m\u001b[0m\u001b[0m\n\u001b[0;32m--> 572\u001b[0;31m         \u001b[0mself\u001b[0m\u001b[0;34m.\u001b[0m\u001b[0mresults\u001b[0m \u001b[0;34m=\u001b[0m \u001b[0mbatch\u001b[0m\u001b[0;34m(\u001b[0m\u001b[0;34m)\u001b[0m\u001b[0;34m\u001b[0m\u001b[0;34m\u001b[0m\u001b[0m\n\u001b[0m\u001b[1;32m    573\u001b[0m \u001b[0;34m\u001b[0m\u001b[0m\n\u001b[1;32m    574\u001b[0m     \u001b[0;32mdef\u001b[0m \u001b[0mget\u001b[0m\u001b[0;34m(\u001b[0m\u001b[0mself\u001b[0m\u001b[0;34m)\u001b[0m\u001b[0;34m:\u001b[0m\u001b[0;34m\u001b[0m\u001b[0;34m\u001b[0m\u001b[0m\n",
            "\u001b[0;32m/usr/local/lib/python3.6/dist-packages/joblib/parallel.py\u001b[0m in \u001b[0;36m__call__\u001b[0;34m(self)\u001b[0m\n\u001b[1;32m    251\u001b[0m         \u001b[0;32mwith\u001b[0m \u001b[0mparallel_backend\u001b[0m\u001b[0;34m(\u001b[0m\u001b[0mself\u001b[0m\u001b[0;34m.\u001b[0m\u001b[0m_backend\u001b[0m\u001b[0;34m,\u001b[0m \u001b[0mn_jobs\u001b[0m\u001b[0;34m=\u001b[0m\u001b[0mself\u001b[0m\u001b[0;34m.\u001b[0m\u001b[0m_n_jobs\u001b[0m\u001b[0;34m)\u001b[0m\u001b[0;34m:\u001b[0m\u001b[0;34m\u001b[0m\u001b[0;34m\u001b[0m\u001b[0m\n\u001b[1;32m    252\u001b[0m             return [func(*args, **kwargs)\n\u001b[0;32m--> 253\u001b[0;31m                     for func, args, kwargs in self.items]\n\u001b[0m\u001b[1;32m    254\u001b[0m \u001b[0;34m\u001b[0m\u001b[0m\n\u001b[1;32m    255\u001b[0m     \u001b[0;32mdef\u001b[0m \u001b[0m__reduce__\u001b[0m\u001b[0;34m(\u001b[0m\u001b[0mself\u001b[0m\u001b[0;34m)\u001b[0m\u001b[0;34m:\u001b[0m\u001b[0;34m\u001b[0m\u001b[0;34m\u001b[0m\u001b[0m\n",
            "\u001b[0;32m/usr/local/lib/python3.6/dist-packages/joblib/parallel.py\u001b[0m in \u001b[0;36m<listcomp>\u001b[0;34m(.0)\u001b[0m\n\u001b[1;32m    251\u001b[0m         \u001b[0;32mwith\u001b[0m \u001b[0mparallel_backend\u001b[0m\u001b[0;34m(\u001b[0m\u001b[0mself\u001b[0m\u001b[0;34m.\u001b[0m\u001b[0m_backend\u001b[0m\u001b[0;34m,\u001b[0m \u001b[0mn_jobs\u001b[0m\u001b[0;34m=\u001b[0m\u001b[0mself\u001b[0m\u001b[0;34m.\u001b[0m\u001b[0m_n_jobs\u001b[0m\u001b[0;34m)\u001b[0m\u001b[0;34m:\u001b[0m\u001b[0;34m\u001b[0m\u001b[0;34m\u001b[0m\u001b[0m\n\u001b[1;32m    252\u001b[0m             return [func(*args, **kwargs)\n\u001b[0;32m--> 253\u001b[0;31m                     for func, args, kwargs in self.items]\n\u001b[0m\u001b[1;32m    254\u001b[0m \u001b[0;34m\u001b[0m\u001b[0m\n\u001b[1;32m    255\u001b[0m     \u001b[0;32mdef\u001b[0m \u001b[0m__reduce__\u001b[0m\u001b[0;34m(\u001b[0m\u001b[0mself\u001b[0m\u001b[0;34m)\u001b[0m\u001b[0;34m:\u001b[0m\u001b[0;34m\u001b[0m\u001b[0;34m\u001b[0m\u001b[0m\n",
            "\u001b[0;32m/usr/local/lib/python3.6/dist-packages/sklearn/model_selection/_validation.py\u001b[0m in \u001b[0;36m_fit_and_score\u001b[0;34m(estimator, X, y, scorer, train, test, verbose, parameters, fit_params, return_train_score, return_parameters, return_n_test_samples, return_times, return_estimator, error_score)\u001b[0m\n\u001b[1;32m    513\u001b[0m             \u001b[0mestimator\u001b[0m\u001b[0;34m.\u001b[0m\u001b[0mfit\u001b[0m\u001b[0;34m(\u001b[0m\u001b[0mX_train\u001b[0m\u001b[0;34m,\u001b[0m \u001b[0;34m**\u001b[0m\u001b[0mfit_params\u001b[0m\u001b[0;34m)\u001b[0m\u001b[0;34m\u001b[0m\u001b[0;34m\u001b[0m\u001b[0m\n\u001b[1;32m    514\u001b[0m         \u001b[0;32melse\u001b[0m\u001b[0;34m:\u001b[0m\u001b[0;34m\u001b[0m\u001b[0;34m\u001b[0m\u001b[0m\n\u001b[0;32m--> 515\u001b[0;31m             \u001b[0mestimator\u001b[0m\u001b[0;34m.\u001b[0m\u001b[0mfit\u001b[0m\u001b[0;34m(\u001b[0m\u001b[0mX_train\u001b[0m\u001b[0;34m,\u001b[0m \u001b[0my_train\u001b[0m\u001b[0;34m,\u001b[0m \u001b[0;34m**\u001b[0m\u001b[0mfit_params\u001b[0m\u001b[0;34m)\u001b[0m\u001b[0;34m\u001b[0m\u001b[0;34m\u001b[0m\u001b[0m\n\u001b[0m\u001b[1;32m    516\u001b[0m \u001b[0;34m\u001b[0m\u001b[0m\n\u001b[1;32m    517\u001b[0m     \u001b[0;32mexcept\u001b[0m \u001b[0mException\u001b[0m \u001b[0;32mas\u001b[0m \u001b[0me\u001b[0m\u001b[0;34m:\u001b[0m\u001b[0;34m\u001b[0m\u001b[0;34m\u001b[0m\u001b[0m\n",
            "\u001b[0;32m/usr/local/lib/python3.6/dist-packages/sklearn/svm/_base.py\u001b[0m in \u001b[0;36mfit\u001b[0;34m(self, X, y, sample_weight)\u001b[0m\n\u001b[1;32m    197\u001b[0m \u001b[0;34m\u001b[0m\u001b[0m\n\u001b[1;32m    198\u001b[0m         \u001b[0mseed\u001b[0m \u001b[0;34m=\u001b[0m \u001b[0mrnd\u001b[0m\u001b[0;34m.\u001b[0m\u001b[0mrandint\u001b[0m\u001b[0;34m(\u001b[0m\u001b[0mnp\u001b[0m\u001b[0;34m.\u001b[0m\u001b[0miinfo\u001b[0m\u001b[0;34m(\u001b[0m\u001b[0;34m'i'\u001b[0m\u001b[0;34m)\u001b[0m\u001b[0;34m.\u001b[0m\u001b[0mmax\u001b[0m\u001b[0;34m)\u001b[0m\u001b[0;34m\u001b[0m\u001b[0;34m\u001b[0m\u001b[0m\n\u001b[0;32m--> 199\u001b[0;31m         \u001b[0mfit\u001b[0m\u001b[0;34m(\u001b[0m\u001b[0mX\u001b[0m\u001b[0;34m,\u001b[0m \u001b[0my\u001b[0m\u001b[0;34m,\u001b[0m \u001b[0msample_weight\u001b[0m\u001b[0;34m,\u001b[0m \u001b[0msolver_type\u001b[0m\u001b[0;34m,\u001b[0m \u001b[0mkernel\u001b[0m\u001b[0;34m,\u001b[0m \u001b[0mrandom_seed\u001b[0m\u001b[0;34m=\u001b[0m\u001b[0mseed\u001b[0m\u001b[0;34m)\u001b[0m\u001b[0;34m\u001b[0m\u001b[0;34m\u001b[0m\u001b[0m\n\u001b[0m\u001b[1;32m    200\u001b[0m         \u001b[0;31m# see comment on the other call to np.iinfo in this file\u001b[0m\u001b[0;34m\u001b[0m\u001b[0;34m\u001b[0m\u001b[0;34m\u001b[0m\u001b[0m\n\u001b[1;32m    201\u001b[0m \u001b[0;34m\u001b[0m\u001b[0m\n",
            "\u001b[0;32m/usr/local/lib/python3.6/dist-packages/sklearn/svm/_base.py\u001b[0m in \u001b[0;36m_sparse_fit\u001b[0;34m(self, X, y, sample_weight, solver_type, kernel, random_seed)\u001b[0m\n\u001b[1;32m    278\u001b[0m                 \u001b[0msample_weight\u001b[0m\u001b[0;34m,\u001b[0m \u001b[0mself\u001b[0m\u001b[0;34m.\u001b[0m\u001b[0mnu\u001b[0m\u001b[0;34m,\u001b[0m \u001b[0mself\u001b[0m\u001b[0;34m.\u001b[0m\u001b[0mcache_size\u001b[0m\u001b[0;34m,\u001b[0m \u001b[0mself\u001b[0m\u001b[0;34m.\u001b[0m\u001b[0mepsilon\u001b[0m\u001b[0;34m,\u001b[0m\u001b[0;34m\u001b[0m\u001b[0;34m\u001b[0m\u001b[0m\n\u001b[1;32m    279\u001b[0m                 \u001b[0mint\u001b[0m\u001b[0;34m(\u001b[0m\u001b[0mself\u001b[0m\u001b[0;34m.\u001b[0m\u001b[0mshrinking\u001b[0m\u001b[0;34m)\u001b[0m\u001b[0;34m,\u001b[0m \u001b[0mint\u001b[0m\u001b[0;34m(\u001b[0m\u001b[0mself\u001b[0m\u001b[0;34m.\u001b[0m\u001b[0mprobability\u001b[0m\u001b[0;34m)\u001b[0m\u001b[0;34m,\u001b[0m \u001b[0mself\u001b[0m\u001b[0;34m.\u001b[0m\u001b[0mmax_iter\u001b[0m\u001b[0;34m,\u001b[0m\u001b[0;34m\u001b[0m\u001b[0;34m\u001b[0m\u001b[0m\n\u001b[0;32m--> 280\u001b[0;31m                 random_seed)\n\u001b[0m\u001b[1;32m    281\u001b[0m \u001b[0;34m\u001b[0m\u001b[0m\n\u001b[1;32m    282\u001b[0m         \u001b[0mself\u001b[0m\u001b[0;34m.\u001b[0m\u001b[0m_warn_from_fit_status\u001b[0m\u001b[0;34m(\u001b[0m\u001b[0;34m)\u001b[0m\u001b[0;34m\u001b[0m\u001b[0;34m\u001b[0m\u001b[0m\n",
            "\u001b[0;32msklearn/svm/_libsvm_sparse.pyx\u001b[0m in \u001b[0;36msklearn.svm._libsvm_sparse.libsvm_sparse_train\u001b[0;34m()\u001b[0m\n",
            "\u001b[0;32m/usr/local/lib/python3.6/dist-packages/scipy/sparse/compressed.py\u001b[0m in \u001b[0;36m__init__\u001b[0;34m(self, arg1, shape, dtype, copy)\u001b[0m\n\u001b[1;32m     28\u001b[0m     \u001b[0;34m\"\"\"base matrix class for compressed row and column oriented matrices\"\"\"\u001b[0m\u001b[0;34m\u001b[0m\u001b[0;34m\u001b[0m\u001b[0m\n\u001b[1;32m     29\u001b[0m \u001b[0;34m\u001b[0m\u001b[0m\n\u001b[0;32m---> 30\u001b[0;31m     \u001b[0;32mdef\u001b[0m \u001b[0m__init__\u001b[0m\u001b[0;34m(\u001b[0m\u001b[0mself\u001b[0m\u001b[0;34m,\u001b[0m \u001b[0marg1\u001b[0m\u001b[0;34m,\u001b[0m \u001b[0mshape\u001b[0m\u001b[0;34m=\u001b[0m\u001b[0;32mNone\u001b[0m\u001b[0;34m,\u001b[0m \u001b[0mdtype\u001b[0m\u001b[0;34m=\u001b[0m\u001b[0;32mNone\u001b[0m\u001b[0;34m,\u001b[0m \u001b[0mcopy\u001b[0m\u001b[0;34m=\u001b[0m\u001b[0;32mFalse\u001b[0m\u001b[0;34m)\u001b[0m\u001b[0;34m:\u001b[0m\u001b[0;34m\u001b[0m\u001b[0;34m\u001b[0m\u001b[0m\n\u001b[0m\u001b[1;32m     31\u001b[0m         \u001b[0m_data_matrix\u001b[0m\u001b[0;34m.\u001b[0m\u001b[0m__init__\u001b[0m\u001b[0;34m(\u001b[0m\u001b[0mself\u001b[0m\u001b[0;34m)\u001b[0m\u001b[0;34m\u001b[0m\u001b[0;34m\u001b[0m\u001b[0m\n\u001b[1;32m     32\u001b[0m \u001b[0;34m\u001b[0m\u001b[0m\n",
            "\u001b[0;31mKeyboardInterrupt\u001b[0m: "
          ]
        }
      ]
    },
    {
      "cell_type": "code",
      "metadata": {
        "id": "3nqYzrIClTeF",
        "colab_type": "code",
        "colab": {}
      },
      "source": [
        "print(\"time :\"+str((tok-tic)*1000))"
      ],
      "execution_count": null,
      "outputs": []
    },
    {
      "cell_type": "code",
      "metadata": {
        "id": "Z9SzYGINXaSe",
        "colab_type": "code",
        "colab": {}
      },
      "source": [
        "#print(svc_model)"
      ],
      "execution_count": null,
      "outputs": []
    },
    {
      "cell_type": "code",
      "metadata": {
        "id": "sfDkBopoldix",
        "colab_type": "code",
        "colab": {}
      },
      "source": [
        "#prediction=svc_model.predict(X_test_bal)"
      ],
      "execution_count": null,
      "outputs": []
    },
    {
      "cell_type": "code",
      "metadata": {
        "id": "vRjdRF8jllQ0",
        "colab_type": "code",
        "colab": {}
      },
      "source": [
        "#print(\"r2 score :\"+str(r2(y_test_bal, prediction)))"
      ],
      "execution_count": null,
      "outputs": []
    },
    {
      "cell_type": "code",
      "metadata": {
        "id": "ESBNdhdmlwOi",
        "colab_type": "code",
        "colab": {}
      },
      "source": [
        ""
      ],
      "execution_count": null,
      "outputs": []
    }
  ]
}