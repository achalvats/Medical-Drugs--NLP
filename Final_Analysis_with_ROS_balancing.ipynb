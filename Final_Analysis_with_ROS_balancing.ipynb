{
  "nbformat": 4,
  "nbformat_minor": 0,
  "metadata": {
    "kernelspec": {
      "name": "python3",
      "display_name": "Python 3"
    },
    "colab": {
      "name": "Final Analysis with ROS balancing.ipynb",
      "provenance": [],
      "collapsed_sections": [],
      "include_colab_link": true
    },
    "accelerator": "GPU"
  },
  "cells": [
    {
      "cell_type": "markdown",
      "metadata": {
        "id": "view-in-github",
        "colab_type": "text"
      },
      "source": [
        "<a href=\"https://colab.research.google.com/github/acvats/Medical-Drugs--NLP/blob/master/Final_Analysis_with_ROS_balancing.ipynb\" target=\"_parent\"><img src=\"https://colab.research.google.com/assets/colab-badge.svg\" alt=\"Open In Colab\"/></a>"
      ]
    },
    {
      "cell_type": "markdown",
      "metadata": {
        "id": "wGSZEPu7HxQy",
        "colab_type": "text"
      },
      "source": [
        "# Natural Language Processing - Sentiment Analysis"
      ]
    },
    {
      "cell_type": "markdown",
      "metadata": {
        "id": "qGQPG5dpH0XK",
        "colab_type": "text"
      },
      "source": [
        "####Connecting To kaggle and downloading dataset and also some important files"
      ]
    },
    {
      "cell_type": "code",
      "metadata": {
        "id": "BXuQ2mQbHzzW",
        "colab_type": "code",
        "colab": {}
      },
      "source": [
        "import os\n",
        "os.environ['KAGGLE_CONFIG_DIR'] = \"/content/.kaggle\""
      ],
      "execution_count": 1,
      "outputs": []
    },
    {
      "cell_type": "code",
      "metadata": {
        "id": "8qPiEUKyH4bB",
        "colab_type": "code",
        "colab": {
          "base_uri": "https://localhost:8080/",
          "height": 230
        },
        "outputId": "2bb06ef1-3d7a-45b8-fd36-9477880660f4"
      },
      "source": [
        "!pip install kaggle"
      ],
      "execution_count": 2,
      "outputs": [
        {
          "output_type": "stream",
          "text": [
            "Requirement already satisfied: kaggle in /usr/local/lib/python3.6/dist-packages (1.5.8)\n",
            "Requirement already satisfied: python-dateutil in /usr/local/lib/python3.6/dist-packages (from kaggle) (2.8.1)\n",
            "Requirement already satisfied: tqdm in /usr/local/lib/python3.6/dist-packages (from kaggle) (4.41.1)\n",
            "Requirement already satisfied: python-slugify in /usr/local/lib/python3.6/dist-packages (from kaggle) (4.0.1)\n",
            "Requirement already satisfied: slugify in /usr/local/lib/python3.6/dist-packages (from kaggle) (0.0.1)\n",
            "Requirement already satisfied: urllib3<1.25,>=1.21.1 in /usr/local/lib/python3.6/dist-packages (from kaggle) (1.24.3)\n",
            "Requirement already satisfied: six>=1.10 in /usr/local/lib/python3.6/dist-packages (from kaggle) (1.15.0)\n",
            "Requirement already satisfied: certifi in /usr/local/lib/python3.6/dist-packages (from kaggle) (2020.6.20)\n",
            "Requirement already satisfied: requests in /usr/local/lib/python3.6/dist-packages (from kaggle) (2.23.0)\n",
            "Requirement already satisfied: text-unidecode>=1.3 in /usr/local/lib/python3.6/dist-packages (from python-slugify->kaggle) (1.3)\n",
            "Requirement already satisfied: chardet<4,>=3.0.2 in /usr/local/lib/python3.6/dist-packages (from requests->kaggle) (3.0.4)\n",
            "Requirement already satisfied: idna<3,>=2.5 in /usr/local/lib/python3.6/dist-packages (from requests->kaggle) (2.10)\n"
          ],
          "name": "stdout"
        }
      ]
    },
    {
      "cell_type": "code",
      "metadata": {
        "id": "N_YAyIceH6GK",
        "colab_type": "code",
        "colab": {}
      },
      "source": [
        "!mkdir .kaggle"
      ],
      "execution_count": 3,
      "outputs": []
    },
    {
      "cell_type": "code",
      "metadata": {
        "id": "-sHDobaLH9YU",
        "colab_type": "code",
        "colab": {
          "base_uri": "https://localhost:8080/",
          "height": 35
        },
        "outputId": "95c05b21-4240-4be4-e5c2-c147dfd71ab3"
      },
      "source": [
        "from google.colab import drive\n",
        "drive.mount('/content/drive')"
      ],
      "execution_count": 4,
      "outputs": [
        {
          "output_type": "stream",
          "text": [
            "Mounted at /content/drive\n"
          ],
          "name": "stdout"
        }
      ]
    },
    {
      "cell_type": "code",
      "metadata": {
        "id": "-b3tnxdXH_x-",
        "colab_type": "code",
        "colab": {}
      },
      "source": [
        "cp '/content/drive/My Drive/kaggle auth key/kaggle.json' '/content/.kaggle/kaggle.json'"
      ],
      "execution_count": 5,
      "outputs": []
    },
    {
      "cell_type": "code",
      "metadata": {
        "id": "NyB7oZzBIGqg",
        "colab_type": "code",
        "colab": {}
      },
      "source": [
        "!chmod 600 /content/.kaggle/kaggle.json"
      ],
      "execution_count": 6,
      "outputs": []
    },
    {
      "cell_type": "code",
      "metadata": {
        "id": "HGOm9aD3IJQr",
        "colab_type": "code",
        "colab": {
          "base_uri": "https://localhost:8080/",
          "height": 35
        },
        "outputId": "6d46ef6b-c5d4-44de-85fb-5ba3bb5316f8"
      },
      "source": [
        "!kaggle config set -n path -v{/content}"
      ],
      "execution_count": 7,
      "outputs": [
        {
          "output_type": "stream",
          "text": [
            "- path is now set to: {/content}\n"
          ],
          "name": "stdout"
        }
      ]
    },
    {
      "cell_type": "code",
      "metadata": {
        "id": "Qe16VU68ILLP",
        "colab_type": "code",
        "colab": {
          "base_uri": "https://localhost:8080/",
          "height": 426
        },
        "outputId": "43884647-c6e6-437d-b0a6-b5335ae11f94"
      },
      "source": [
        "!kaggle datasets list"
      ],
      "execution_count": 8,
      "outputs": [
        {
          "output_type": "stream",
          "text": [
            "Warning: Looks like you're using an outdated API Version, please consider updating (server 1.5.6 / client 1.5.4)\n",
            "ref                                                    title                                              size  lastUpdated          downloadCount  \n",
            "-----------------------------------------------------  ------------------------------------------------  -----  -------------------  -------------  \n",
            "shivan118/healthcare-analytics                         AV : Healthcare Analytics                           2MB  2020-09-13 17:40:05           1635  \n",
            "datatattle/covid-19-nlp-text-classification            Coronavirus tweets NLP - Text Classification        4MB  2020-09-08 11:40:11           1005  \n",
            "anmolkumar/health-insurance-cross-sell-prediction      Health Insurance Cross Sell Prediction 🏠 🏥          6MB  2020-09-11 18:39:31           2076  \n",
            "Cornell-University/arxiv                               arXiv Dataset                                     888MB  2020-09-22 15:33:49           3040  \n",
            "nipunarora8/age-gender-and-ethnicity-face-data-csv     AGE, GENDER AND ETHNICITY (FACE DATA) CSV          63MB  2020-09-02 13:46:38            774  \n",
            "ramjidoolla/ipl-data-set                               IPL _Data_Set                                       1MB  2020-09-14 10:57:42           1331  \n",
            "yoannboyere/co2-ghg-emissionsdata                      CO2_GHG_emissions-data                            147KB  2020-09-14 09:59:25            716  \n",
            "anikannal/solar-power-generation-data                  Solar Power Generation Data                         2MB  2020-08-18 15:52:03           4294  \n",
            "nehaprabhavalkar/av-healthcare-analytics-ii            AV : Healthcare Analytics II                        7MB  2020-08-29 03:40:10           2046  \n",
            "imoore/60k-stack-overflow-questions-with-quality-rate  60k Stack Overflow Questions with Quality Rating   21MB  2020-09-19 20:53:26           1251  \n",
            "tunguz/us-elections-dataset                            US Elections Dataset                               16MB  2020-09-22 20:27:55           2651  \n",
            "jmmvutu/summer-products-and-sales-in-ecommerce-wish    Sales of summer clothes in E-commerce Wish        376KB  2020-08-23 15:16:46           6533  \n",
            "ruchi798/bookcrossing-dataset                          Book-Crossing: User review ratings                 25MB  2020-08-11 10:40:25           1175  \n",
            "google/tinyquickdraw                                   QuickDraw Sketches                                 11GB  2018-04-18 19:38:04           2321  \n",
            "agirlcoding/all-space-missions-from-1957               All Space Missions from 1957                      101KB  2020-08-13 16:18:58           3449  \n",
            "ihelon/lego-minifigures-classification                 LEGO Minifigures                                   19MB  2020-09-22 07:33:22           1192  \n",
            "datasnaek/youtube-new                                  Trending YouTube Video Statistics                 201MB  2019-06-03 00:56:47         105656  \n",
            "zynicide/wine-reviews                                  Wine Reviews                                       51MB  2017-11-27 17:08:04         113041  \n",
            "residentmario/ramen-ratings                            Ramen Ratings                                      40KB  2018-01-11 16:04:39          13811  \n",
            "datasnaek/chess                                        Chess Game Dataset (Lichess)                        3MB  2017-09-04 03:09:09           9061  \n"
          ],
          "name": "stdout"
        }
      ]
    },
    {
      "cell_type": "code",
      "metadata": {
        "id": "hXzi-kVyINCg",
        "colab_type": "code",
        "colab": {
          "base_uri": "https://localhost:8080/",
          "height": 70
        },
        "outputId": "81469153-d027-4676-e45c-3382e2b28486"
      },
      "source": [
        "!kaggle datasets download -d 'arbazkhan971/analyticvidhyadatasetsentiment'"
      ],
      "execution_count": 9,
      "outputs": [
        {
          "output_type": "stream",
          "text": [
            "Downloading analyticvidhyadatasetsentiment.zip to {/content}/datasets/arbazkhan971/analyticvidhyadatasetsentiment\n",
            "\r  0% 0.00/6.72M [00:00<?, ?B/s]\r 74% 5.00M/6.72M [00:00<00:00, 28.8MB/s]\n",
            "\r100% 6.72M/6.72M [00:00<00:00, 32.8MB/s]\n"
          ],
          "name": "stdout"
        }
      ]
    },
    {
      "cell_type": "code",
      "metadata": {
        "id": "lpoEYCQ7IPk4",
        "colab_type": "code",
        "colab": {
          "base_uri": "https://localhost:8080/",
          "height": 35
        },
        "outputId": "fd27b700-0ca0-4651-a9b3-28c5ac53f546"
      },
      "source": [
        "cd {/content}/datasets/"
      ],
      "execution_count": 10,
      "outputs": [
        {
          "output_type": "stream",
          "text": [
            "/content/{/content}/datasets\n"
          ],
          "name": "stdout"
        }
      ]
    },
    {
      "cell_type": "code",
      "metadata": {
        "id": "2mE4cRYCITiA",
        "colab_type": "code",
        "colab": {
          "base_uri": "https://localhost:8080/",
          "height": 35
        },
        "outputId": "c587d4eb-e1b8-444d-b3a7-a426a996e216"
      },
      "source": [
        "cd arbazkhan971/analyticvidhyadatasetsentiment"
      ],
      "execution_count": 11,
      "outputs": [
        {
          "output_type": "stream",
          "text": [
            "/content/{/content}/datasets/arbazkhan971/analyticvidhyadatasetsentiment\n"
          ],
          "name": "stdout"
        }
      ]
    },
    {
      "cell_type": "code",
      "metadata": {
        "id": "NQLCxA0fIVef",
        "colab_type": "code",
        "colab": {}
      },
      "source": [
        "!mkdir data"
      ],
      "execution_count": 12,
      "outputs": []
    },
    {
      "cell_type": "code",
      "metadata": {
        "id": "EUx5Ci2PIXpH",
        "colab_type": "code",
        "colab": {
          "base_uri": "https://localhost:8080/",
          "height": 88
        },
        "outputId": "b42774db-bae3-4d58-8ba2-c65a334c06a8"
      },
      "source": [
        "!unzip analyticvidhyadatasetsentiment.zip -d data"
      ],
      "execution_count": 13,
      "outputs": [
        {
          "output_type": "stream",
          "text": [
            "Archive:  analyticvidhyadatasetsentiment.zip\n",
            "  inflating: data/sample_submission_i5xnIZD-1.csv  \n",
            "  inflating: data/test_tOlRoBf.csv   \n",
            "  inflating: data/train_F3WbcTw.csv  \n"
          ],
          "name": "stdout"
        }
      ]
    },
    {
      "cell_type": "code",
      "metadata": {
        "id": "AuewUHS_IgAA",
        "colab_type": "code",
        "colab": {
          "base_uri": "https://localhost:8080/",
          "height": 35
        },
        "outputId": "94f75d69-d1d1-4451-c905-32dfb8568aa4"
      },
      "source": [
        "cd data"
      ],
      "execution_count": 14,
      "outputs": [
        {
          "output_type": "stream",
          "text": [
            "/content/{/content}/datasets/arbazkhan971/analyticvidhyadatasetsentiment/data\n"
          ],
          "name": "stdout"
        }
      ]
    },
    {
      "cell_type": "code",
      "metadata": {
        "id": "rDbYBcIrIkcA",
        "colab_type": "code",
        "colab": {}
      },
      "source": [
        "cp '/content/drive/My Drive/Colab Notebooks/NLP-contractions/contractions.py' ."
      ],
      "execution_count": 15,
      "outputs": []
    },
    {
      "cell_type": "code",
      "metadata": {
        "id": "HGjTNfDyImUW",
        "colab_type": "code",
        "colab": {
          "base_uri": "https://localhost:8080/",
          "height": 52
        },
        "outputId": "fa1df2ea-6eb8-4641-d82b-7ca1c52cb886"
      },
      "source": [
        "ls"
      ],
      "execution_count": 16,
      "outputs": [
        {
          "output_type": "stream",
          "text": [
            "contractions.py                  test_tOlRoBf.csv\n",
            "sample_submission_i5xnIZD-1.csv  train_F3WbcTw.csv\n"
          ],
          "name": "stdout"
        }
      ]
    },
    {
      "cell_type": "code",
      "metadata": {
        "id": "F0EsyWd8IOmD",
        "colab_type": "code",
        "colab": {}
      },
      "source": [
        ""
      ],
      "execution_count": 16,
      "outputs": []
    },
    {
      "cell_type": "markdown",
      "metadata": {
        "id": "5uWPhgWCHvES",
        "colab_type": "text"
      },
      "source": [
        "# Natural Language Processing - Sentiment Analysis"
      ]
    },
    {
      "cell_type": "markdown",
      "metadata": {
        "id": "ukJnjFWjHvET",
        "colab_type": "text"
      },
      "source": [
        "### High Level Steps - \n",
        "\n",
        "<h6>1. Import all necessary libraries <br></h6>\n",
        "2. Analyse the data<br>\n",
        "3. Text - Preprocessing<br>\n",
        "     a. Removing HTML tags<br>\n",
        "     b. Removing accented characters<br>\n",
        "     c. Resolving Contractions<br>\n",
        "     d. Removing Special Characters & Extra Spaces <br>\n",
        "     e. Changing the text data to lower case<br>\n",
        "     f. Stemming <br>\n",
        "     g. Lemmatization<br>\n",
        "     h. Stop Word Removal<br>\n",
        "    <br>\n",
        "4. Data Balancing (ROS, random over sampling)<br>\n",
        "5. Tokenization using TFIDF<br>\n",
        "5. Train/Test Split<br>\n",
        "6. Applying Models<br>\n",
        "     a. Logistic Regression (Baseline Model)<br>\n",
        "     b. Multinomial NB<br>\n",
        "     c. Support Vector Classifiers<br>\n",
        "7. Applying GRID SEARCH<br>\n",
        "8. Reapplying based on the results from GRID SEARCH"
      ]
    },
    {
      "cell_type": "markdown",
      "metadata": {
        "id": "I_iZ80gRHvET",
        "colab_type": "text"
      },
      "source": [
        "#### Downloading NLTK (Stopwords) "
      ]
    },
    {
      "cell_type": "code",
      "metadata": {
        "id": "j6prrdM6HvEU",
        "colab_type": "code",
        "colab": {
          "base_uri": "https://localhost:8080/",
          "height": 70
        },
        "outputId": "16ce1baa-d417-459d-9061-9fba2b7efe27"
      },
      "source": [
        "import nltk\n",
        "nltk.download('stopwords')"
      ],
      "execution_count": 17,
      "outputs": [
        {
          "output_type": "stream",
          "text": [
            "[nltk_data] Downloading package stopwords to /root/nltk_data...\n",
            "[nltk_data]   Unzipping corpora/stopwords.zip.\n"
          ],
          "name": "stdout"
        },
        {
          "output_type": "execute_result",
          "data": {
            "text/plain": [
              "True"
            ]
          },
          "metadata": {
            "tags": []
          },
          "execution_count": 17
        }
      ]
    },
    {
      "cell_type": "code",
      "metadata": {
        "id": "zkLE2vXbIr6l",
        "colab_type": "code",
        "colab": {
          "base_uri": "https://localhost:8080/",
          "height": 266
        },
        "outputId": "c8562285-ea6c-44ff-da22-8c369f325219"
      },
      "source": [
        "!pip install word2number\n",
        "!pip install unidecode"
      ],
      "execution_count": 18,
      "outputs": [
        {
          "output_type": "stream",
          "text": [
            "Collecting word2number\n",
            "  Downloading https://files.pythonhosted.org/packages/4a/29/a31940c848521f0725f0df6b25dca8917f13a2025b0e8fcbe5d0457e45e6/word2number-1.1.zip\n",
            "Building wheels for collected packages: word2number\n",
            "  Building wheel for word2number (setup.py) ... \u001b[?25l\u001b[?25hdone\n",
            "  Created wheel for word2number: filename=word2number-1.1-cp36-none-any.whl size=5588 sha256=ac5ba1ad76fd652adad8a55d89ae646d3424330784b0e52905d34ada58f4b735\n",
            "  Stored in directory: /root/.cache/pip/wheels/46/2f/53/5f5c1d275492f2fce1cdab9a9bb12d49286dead829a4078e0e\n",
            "Successfully built word2number\n",
            "Installing collected packages: word2number\n",
            "Successfully installed word2number-1.1\n",
            "Collecting unidecode\n",
            "\u001b[?25l  Downloading https://files.pythonhosted.org/packages/d0/42/d9edfed04228bacea2d824904cae367ee9efd05e6cce7ceaaedd0b0ad964/Unidecode-1.1.1-py2.py3-none-any.whl (238kB)\n",
            "\u001b[K     |████████████████████████████████| 245kB 4.5MB/s \n",
            "\u001b[?25hInstalling collected packages: unidecode\n",
            "Successfully installed unidecode-1.1.1\n"
          ],
          "name": "stdout"
        }
      ]
    },
    {
      "cell_type": "markdown",
      "metadata": {
        "id": "RaE2xEDeHvEY",
        "colab_type": "text"
      },
      "source": [
        "#### [1] Importing all the necessary Libraries"
      ]
    },
    {
      "cell_type": "code",
      "metadata": {
        "id": "ht8qAqqMHvEY",
        "colab_type": "code",
        "colab": {}
      },
      "source": [
        "import re\n",
        "import pandas as pd\n",
        "import numpy as np\n",
        "import matplotlib.pyplot as plt\n",
        "\n",
        "import nltk\n",
        "from sklearn.feature_extraction.text import CountVectorizer, TfidfVectorizer\n",
        "from nltk.corpus import stopwords\n",
        "from bs4 import BeautifulSoup\n",
        "from contractions import CONTRACTION_MAP\n",
        "from nltk.tokenize.toktok import ToktokTokenizer\n",
        "import spacy\n",
        "import unidecode\n",
        "from word2number import w2n\n",
        "import gensim.downloader as api \n",
        "\n",
        "from sklearn.model_selection import train_test_split\n",
        "from sklearn.feature_extraction.text import CountVectorizer, TfidfVectorizer\n",
        "from sklearn.metrics import accuracy_score, confusion_matrix\n",
        "\n",
        "# Loading the downloaded language model\n",
        "import en_core_web_sm \n",
        "\n",
        "%matplotlib inline"
      ],
      "execution_count": 19,
      "outputs": []
    },
    {
      "cell_type": "code",
      "metadata": {
        "id": "WD1x_jtdHvEc",
        "colab_type": "code",
        "colab": {}
      },
      "source": [
        "# Loading the languange models (Spacy - en_core_web_md-2.3.1)\n",
        "nlp = en_core_web_sm.load()\n",
        "\n",
        "# initializing the tokenizer, to use it later\n",
        "tokenizer = ToktokTokenizer()\n",
        "\n",
        "# removing no & not from STOPWORDS\n",
        "stopword_list = nltk.corpus.stopwords.words('english')\n",
        "stopword_list.remove('no')\n",
        "stopword_list.remove('not')"
      ],
      "execution_count": 20,
      "outputs": []
    },
    {
      "cell_type": "markdown",
      "metadata": {
        "id": "RZh1SXW3HvEg",
        "colab_type": "text"
      },
      "source": [
        "#### [2] Analyzing the data"
      ]
    },
    {
      "cell_type": "code",
      "metadata": {
        "id": "XoAu_fFbHvEh",
        "colab_type": "code",
        "colab": {}
      },
      "source": [
        "df = pd.read_csv('train_F3WbcTw.csv')"
      ],
      "execution_count": 21,
      "outputs": []
    },
    {
      "cell_type": "code",
      "metadata": {
        "id": "Rv6xvmM3HvEk",
        "colab_type": "code",
        "colab": {
          "base_uri": "https://localhost:8080/",
          "height": 352
        },
        "outputId": "0ea0e1a5-590d-4b6a-85a8-cbd9fcdeae06"
      },
      "source": [
        "df.head(10)"
      ],
      "execution_count": 22,
      "outputs": [
        {
          "output_type": "execute_result",
          "data": {
            "text/html": [
              "<div>\n",
              "<style scoped>\n",
              "    .dataframe tbody tr th:only-of-type {\n",
              "        vertical-align: middle;\n",
              "    }\n",
              "\n",
              "    .dataframe tbody tr th {\n",
              "        vertical-align: top;\n",
              "    }\n",
              "\n",
              "    .dataframe thead th {\n",
              "        text-align: right;\n",
              "    }\n",
              "</style>\n",
              "<table border=\"1\" class=\"dataframe\">\n",
              "  <thead>\n",
              "    <tr style=\"text-align: right;\">\n",
              "      <th></th>\n",
              "      <th>unique_hash</th>\n",
              "      <th>text</th>\n",
              "      <th>drug</th>\n",
              "      <th>sentiment</th>\n",
              "    </tr>\n",
              "  </thead>\n",
              "  <tbody>\n",
              "    <tr>\n",
              "      <th>0</th>\n",
              "      <td>2e180be4c9214c1f5ab51fd8cc32bc80c9f612e0</td>\n",
              "      <td>Autoimmune diseases tend to come in clusters. ...</td>\n",
              "      <td>gilenya</td>\n",
              "      <td>2</td>\n",
              "    </tr>\n",
              "    <tr>\n",
              "      <th>1</th>\n",
              "      <td>9eba8f80e7e20f3a2f48685530748fbfa95943e4</td>\n",
              "      <td>I can completely understand why you’d want to ...</td>\n",
              "      <td>gilenya</td>\n",
              "      <td>2</td>\n",
              "    </tr>\n",
              "    <tr>\n",
              "      <th>2</th>\n",
              "      <td>fe809672251f6bd0d986e00380f48d047c7e7b76</td>\n",
              "      <td>Interesting that it only targets S1P-1/5 recep...</td>\n",
              "      <td>fingolimod</td>\n",
              "      <td>2</td>\n",
              "    </tr>\n",
              "    <tr>\n",
              "      <th>3</th>\n",
              "      <td>bd22104dfa9ec80db4099523e03fae7a52735eb6</td>\n",
              "      <td>Very interesting, grand merci. Now I wonder wh...</td>\n",
              "      <td>ocrevus</td>\n",
              "      <td>2</td>\n",
              "    </tr>\n",
              "    <tr>\n",
              "      <th>4</th>\n",
              "      <td>b227688381f9b25e5b65109dd00f7f895e838249</td>\n",
              "      <td>Hi everybody, My latest MRI results for Brain ...</td>\n",
              "      <td>gilenya</td>\n",
              "      <td>1</td>\n",
              "    </tr>\n",
              "    <tr>\n",
              "      <th>5</th>\n",
              "      <td>a043780c757966243779bf3c0d11bf6eef721971</td>\n",
              "      <td>I can’t give you advice about Lemtrada because...</td>\n",
              "      <td>cladribine</td>\n",
              "      <td>2</td>\n",
              "    </tr>\n",
              "    <tr>\n",
              "      <th>6</th>\n",
              "      <td>be5a13376933a7f9bbf8e801c31691092f63260a</td>\n",
              "      <td>Reply posted for JessZidek. Hi Jess Sorry to r...</td>\n",
              "      <td>humira</td>\n",
              "      <td>0</td>\n",
              "    </tr>\n",
              "    <tr>\n",
              "      <th>7</th>\n",
              "      <td>08c3c0c702fc97d290204b37798ac62005da5626</td>\n",
              "      <td>Well as expected my Neurologist wants me to st...</td>\n",
              "      <td>gilenya</td>\n",
              "      <td>2</td>\n",
              "    </tr>\n",
              "    <tr>\n",
              "      <th>8</th>\n",
              "      <td>8fd3d7ad80791c9343e5cf8a83bd1adf6577d516</td>\n",
              "      <td>Why do you think that FIngolimod was such a mi...</td>\n",
              "      <td>fingolimod</td>\n",
              "      <td>1</td>\n",
              "    </tr>\n",
              "    <tr>\n",
              "      <th>9</th>\n",
              "      <td>793c5af7cc8332df17eb602247d886fbd1c80f89</td>\n",
              "      <td>Thank you so much…I’m learning a lot here at G...</td>\n",
              "      <td>tagrisso</td>\n",
              "      <td>2</td>\n",
              "    </tr>\n",
              "  </tbody>\n",
              "</table>\n",
              "</div>"
            ],
            "text/plain": [
              "                                unique_hash  ... sentiment\n",
              "0  2e180be4c9214c1f5ab51fd8cc32bc80c9f612e0  ...         2\n",
              "1  9eba8f80e7e20f3a2f48685530748fbfa95943e4  ...         2\n",
              "2  fe809672251f6bd0d986e00380f48d047c7e7b76  ...         2\n",
              "3  bd22104dfa9ec80db4099523e03fae7a52735eb6  ...         2\n",
              "4  b227688381f9b25e5b65109dd00f7f895e838249  ...         1\n",
              "5  a043780c757966243779bf3c0d11bf6eef721971  ...         2\n",
              "6  be5a13376933a7f9bbf8e801c31691092f63260a  ...         0\n",
              "7  08c3c0c702fc97d290204b37798ac62005da5626  ...         2\n",
              "8  8fd3d7ad80791c9343e5cf8a83bd1adf6577d516  ...         1\n",
              "9  793c5af7cc8332df17eb602247d886fbd1c80f89  ...         2\n",
              "\n",
              "[10 rows x 4 columns]"
            ]
          },
          "metadata": {
            "tags": []
          },
          "execution_count": 22
        }
      ]
    },
    {
      "cell_type": "code",
      "metadata": {
        "id": "pon34w8AHvEn",
        "colab_type": "code",
        "colab": {
          "base_uri": "https://localhost:8080/",
          "height": 35
        },
        "outputId": "a63ed1ed-b901-4af6-fd63-a560592929d1"
      },
      "source": [
        "df.shape"
      ],
      "execution_count": 23,
      "outputs": [
        {
          "output_type": "execute_result",
          "data": {
            "text/plain": [
              "(5279, 4)"
            ]
          },
          "metadata": {
            "tags": []
          },
          "execution_count": 23
        }
      ]
    },
    {
      "cell_type": "code",
      "metadata": {
        "id": "69XrZCjaHvEq",
        "colab_type": "code",
        "colab": {
          "base_uri": "https://localhost:8080/",
          "height": 35
        },
        "outputId": "d99a8504-5917-4d4e-8e84-5c8eee1e36f9"
      },
      "source": [
        "#Printing out all the columns in Dataset\n",
        "df.columns.values.tolist()"
      ],
      "execution_count": 24,
      "outputs": [
        {
          "output_type": "execute_result",
          "data": {
            "text/plain": [
              "['unique_hash', 'text', 'drug', 'sentiment']"
            ]
          },
          "metadata": {
            "tags": []
          },
          "execution_count": 24
        }
      ]
    },
    {
      "cell_type": "code",
      "metadata": {
        "id": "X0UzPadIHvEt",
        "colab_type": "code",
        "colab": {}
      },
      "source": [
        "# Getting rid of uniques hash values as they are no use to us\n",
        "df.drop('unique_hash', axis=1, inplace=True)"
      ],
      "execution_count": 25,
      "outputs": []
    },
    {
      "cell_type": "code",
      "metadata": {
        "id": "FnpbdXoeHvEw",
        "colab_type": "code",
        "colab": {
          "base_uri": "https://localhost:8080/",
          "height": 352
        },
        "outputId": "9d056b73-e8d8-43ce-f653-bd292dc80143"
      },
      "source": [
        "df.head(10)"
      ],
      "execution_count": 26,
      "outputs": [
        {
          "output_type": "execute_result",
          "data": {
            "text/html": [
              "<div>\n",
              "<style scoped>\n",
              "    .dataframe tbody tr th:only-of-type {\n",
              "        vertical-align: middle;\n",
              "    }\n",
              "\n",
              "    .dataframe tbody tr th {\n",
              "        vertical-align: top;\n",
              "    }\n",
              "\n",
              "    .dataframe thead th {\n",
              "        text-align: right;\n",
              "    }\n",
              "</style>\n",
              "<table border=\"1\" class=\"dataframe\">\n",
              "  <thead>\n",
              "    <tr style=\"text-align: right;\">\n",
              "      <th></th>\n",
              "      <th>text</th>\n",
              "      <th>drug</th>\n",
              "      <th>sentiment</th>\n",
              "    </tr>\n",
              "  </thead>\n",
              "  <tbody>\n",
              "    <tr>\n",
              "      <th>0</th>\n",
              "      <td>Autoimmune diseases tend to come in clusters. ...</td>\n",
              "      <td>gilenya</td>\n",
              "      <td>2</td>\n",
              "    </tr>\n",
              "    <tr>\n",
              "      <th>1</th>\n",
              "      <td>I can completely understand why you’d want to ...</td>\n",
              "      <td>gilenya</td>\n",
              "      <td>2</td>\n",
              "    </tr>\n",
              "    <tr>\n",
              "      <th>2</th>\n",
              "      <td>Interesting that it only targets S1P-1/5 recep...</td>\n",
              "      <td>fingolimod</td>\n",
              "      <td>2</td>\n",
              "    </tr>\n",
              "    <tr>\n",
              "      <th>3</th>\n",
              "      <td>Very interesting, grand merci. Now I wonder wh...</td>\n",
              "      <td>ocrevus</td>\n",
              "      <td>2</td>\n",
              "    </tr>\n",
              "    <tr>\n",
              "      <th>4</th>\n",
              "      <td>Hi everybody, My latest MRI results for Brain ...</td>\n",
              "      <td>gilenya</td>\n",
              "      <td>1</td>\n",
              "    </tr>\n",
              "    <tr>\n",
              "      <th>5</th>\n",
              "      <td>I can’t give you advice about Lemtrada because...</td>\n",
              "      <td>cladribine</td>\n",
              "      <td>2</td>\n",
              "    </tr>\n",
              "    <tr>\n",
              "      <th>6</th>\n",
              "      <td>Reply posted for JessZidek. Hi Jess Sorry to r...</td>\n",
              "      <td>humira</td>\n",
              "      <td>0</td>\n",
              "    </tr>\n",
              "    <tr>\n",
              "      <th>7</th>\n",
              "      <td>Well as expected my Neurologist wants me to st...</td>\n",
              "      <td>gilenya</td>\n",
              "      <td>2</td>\n",
              "    </tr>\n",
              "    <tr>\n",
              "      <th>8</th>\n",
              "      <td>Why do you think that FIngolimod was such a mi...</td>\n",
              "      <td>fingolimod</td>\n",
              "      <td>1</td>\n",
              "    </tr>\n",
              "    <tr>\n",
              "      <th>9</th>\n",
              "      <td>Thank you so much…I’m learning a lot here at G...</td>\n",
              "      <td>tagrisso</td>\n",
              "      <td>2</td>\n",
              "    </tr>\n",
              "  </tbody>\n",
              "</table>\n",
              "</div>"
            ],
            "text/plain": [
              "                                                text        drug  sentiment\n",
              "0  Autoimmune diseases tend to come in clusters. ...     gilenya          2\n",
              "1  I can completely understand why you’d want to ...     gilenya          2\n",
              "2  Interesting that it only targets S1P-1/5 recep...  fingolimod          2\n",
              "3  Very interesting, grand merci. Now I wonder wh...     ocrevus          2\n",
              "4  Hi everybody, My latest MRI results for Brain ...     gilenya          1\n",
              "5  I can’t give you advice about Lemtrada because...  cladribine          2\n",
              "6  Reply posted for JessZidek. Hi Jess Sorry to r...      humira          0\n",
              "7  Well as expected my Neurologist wants me to st...     gilenya          2\n",
              "8  Why do you think that FIngolimod was such a mi...  fingolimod          1\n",
              "9  Thank you so much…I’m learning a lot here at G...    tagrisso          2"
            ]
          },
          "metadata": {
            "tags": []
          },
          "execution_count": 26
        }
      ]
    },
    {
      "cell_type": "code",
      "metadata": {
        "id": "cUUvJ1k9HvEz",
        "colab_type": "code",
        "colab": {
          "base_uri": "https://localhost:8080/",
          "height": 35
        },
        "outputId": "5682c95d-a622-4ab2-c5a9-40937e2ae01e"
      },
      "source": [
        "df.shape"
      ],
      "execution_count": 27,
      "outputs": [
        {
          "output_type": "execute_result",
          "data": {
            "text/plain": [
              "(5279, 3)"
            ]
          },
          "metadata": {
            "tags": []
          },
          "execution_count": 27
        }
      ]
    },
    {
      "cell_type": "code",
      "metadata": {
        "id": "GHOj4w8sHvE1",
        "colab_type": "code",
        "colab": {
          "base_uri": "https://localhost:8080/",
          "height": 35
        },
        "outputId": "5a33a00a-845b-4198-ed4a-0348f999e119"
      },
      "source": [
        "#Let's check diff kinds of sentiments\n",
        "sentiment_list = list(df.sentiment.unique())\n",
        "print(sentiment_list)"
      ],
      "execution_count": 28,
      "outputs": [
        {
          "output_type": "stream",
          "text": [
            "[2, 1, 0]\n"
          ],
          "name": "stdout"
        }
      ]
    },
    {
      "cell_type": "code",
      "metadata": {
        "id": "tk71bZnJHvE4",
        "colab_type": "code",
        "colab": {
          "base_uri": "https://localhost:8080/",
          "height": 265
        },
        "outputId": "6318aaed-02ac-4b86-deb5-de13a39367f9"
      },
      "source": [
        "plt.figure(figsize=(10,4))\n",
        "df.sentiment.value_counts().plot(kind='bar');"
      ],
      "execution_count": 29,
      "outputs": [
        {
          "output_type": "display_data",
          "data": {
            "image/png": "[encoded data removed]",
            "text/plain": [
              "<Figure size 720x288 with 1 Axes>"
            ]
          },
          "metadata": {
            "tags": [],
            "needs_background": "light"
          }
        }
      ]
    },
    {
      "cell_type": "code",
      "metadata": {
        "id": "Dfr0RYyyHvFB",
        "colab_type": "code",
        "colab": {
          "base_uri": "https://localhost:8080/",
          "height": 90
        },
        "outputId": "b2ee8e58-0474-46b4-91a7-95c631b89dc1"
      },
      "source": [
        "def print_plot(index):\n",
        "    example = df[df.index == index][['text', 'drug','sentiment']].values[0]\n",
        "    if len(example) > 0:\n",
        "        print('Text:',example[0])\n",
        "        print('Drug:', example[1])\n",
        "        print('Sentiment:', example[2])\n",
        "\n",
        "print_plot(5)"
      ],
      "execution_count": 31,
      "outputs": [
        {
          "output_type": "stream",
          "text": [
            "Text: I can’t give you advice about Lemtrada because I chose Cladribine. Have you thought about this drug? The doctors at Barts are keen to give it to people with SPMS. You can read about it here: http://multiple-sclerosis-research.blogspot.com/2016/01/suppose-there-was-therapy-for-all.html\n",
            "Drug: cladribine\n",
            "Sentiment: 2\n"
          ],
          "name": "stdout"
        }
      ]
    },
    {
      "cell_type": "code",
      "metadata": {
        "id": "M8YGCxDgHvFE",
        "colab_type": "code",
        "colab": {
          "base_uri": "https://localhost:8080/",
          "height": 90
        },
        "outputId": "6cc6f0df-122c-4946-e035-0cb447945b40"
      },
      "source": [
        "print_plot(6)"
      ],
      "execution_count": 32,
      "outputs": [
        {
          "output_type": "stream",
          "text": [
            "Text: Reply posted for JessZidek. Hi Jess Sorry to read about the challenges you are having with your health. You mentioned a lot in your post. I just want to share some info on a few of the points. First, I know you said that you are scared of Humira. Humira and other biologics are very successful in reducing symptoms and inducing and maintain disease remission. To reduce your level of fear it can help to learn more about your treatment option. You can learn more about some of your treatment options. To learn more view our Understanding IBD Medication brochure at: http://www.crohnscolitisfoundation.org/assets/pdfs/understanding-ibd-meds-nov.pdf . If you would like to talk, contact the Help Center at 888-694-8872 or at info@crohnscolitisfoundation.org\n",
            "Drug: humira\n",
            "Sentiment: 0\n"
          ],
          "name": "stdout"
        }
      ]
    },
    {
      "cell_type": "markdown",
      "metadata": {
        "id": "rjR7BgADHvFH",
        "colab_type": "text"
      },
      "source": [
        "### Text-Preprocessing"
      ]
    },
    {
      "cell_type": "code",
      "metadata": {
        "id": "xLmfqSgIHvFH",
        "colab_type": "code",
        "colab": {}
      },
      "source": [
        "LINKS = re.compile('(www\\.[\\s]+)|(http?://[^\\s]+)')\n",
        "\n",
        "def clean_text(text):\n",
        "    text = LINKS.sub('', text)\n",
        "    text = ' '.join(word for word in text.split())\n",
        "    return text\n",
        "\n",
        "df['text'] = df['text'].apply(clean_text)   "
      ],
      "execution_count": 33,
      "outputs": []
    },
    {
      "cell_type": "code",
      "metadata": {
        "id": "TBUDKdiGHvFK",
        "colab_type": "code",
        "colab": {
          "base_uri": "https://localhost:8080/",
          "height": 90
        },
        "outputId": "dae07f38-efdb-490a-bf81-6c1fd541c603"
      },
      "source": [
        "print_plot(5)"
      ],
      "execution_count": 34,
      "outputs": [
        {
          "output_type": "stream",
          "text": [
            "Text: I can’t give you advice about Lemtrada because I chose Cladribine. Have you thought about this drug? The doctors at Barts are keen to give it to people with SPMS. You can read about it here:\n",
            "Drug: cladribine\n",
            "Sentiment: 2\n"
          ],
          "name": "stdout"
        }
      ]
    },
    {
      "cell_type": "code",
      "metadata": {
        "id": "2nRReFsGHvFN",
        "colab_type": "code",
        "colab": {
          "base_uri": "https://localhost:8080/",
          "height": 90
        },
        "outputId": "1f6e279a-fded-4a68-cc8a-a3616da2c3b1"
      },
      "source": [
        "print_plot(6)"
      ],
      "execution_count": 35,
      "outputs": [
        {
          "output_type": "stream",
          "text": [
            "Text: Reply posted for JessZidek. Hi Jess Sorry to read about the challenges you are having with your health. You mentioned a lot in your post. I just want to share some info on a few of the points. First, I know you said that you are scared of Humira. Humira and other biologics are very successful in reducing symptoms and inducing and maintain disease remission. To reduce your level of fear it can help to learn more about your treatment option. You can learn more about some of your treatment options. To learn more view our Understanding IBD Medication brochure at: . If you would like to talk, contact the Help Center at 888-694-8872 or at info@crohnscolitisfoundation.org\n",
            "Drug: humira\n",
            "Sentiment: 0\n"
          ],
          "name": "stdout"
        }
      ]
    },
    {
      "cell_type": "code",
      "metadata": {
        "id": "gPY7FGXgHvFQ",
        "colab_type": "code",
        "colab": {}
      },
      "source": [
        "def strip_html_tags(text):\n",
        "    soup = BeautifulSoup(text, \"html.parser\")\n",
        "    stripped_text = soup.get_text()\n",
        "    return stripped_text\n",
        "\n",
        "def remove_accented_chars(text):\n",
        "    text = unidecode.unidecode(text)\n",
        "    return text\n",
        "\n",
        "def expand_contractions(text, contraction_mapping=CONTRACTION_MAP):\n",
        "    \n",
        "    contractions_pattern = re.compile('({})'.format('|'.join(contraction_mapping.keys())), \n",
        "                                      flags=re.IGNORECASE|re.DOTALL)\n",
        "    def expand_match(contraction):\n",
        "        match = contraction.group(0)\n",
        "        first_char = match[0]\n",
        "        expanded_contraction = contraction_mapping.get(match)\\\n",
        "                                if contraction_mapping.get(match)\\\n",
        "                                else contraction_mapping.get(match.lower())                       \n",
        "        expanded_contraction = first_char+expanded_contraction[1:]\n",
        "        return expanded_contraction\n",
        "        \n",
        "    expanded_text = contractions_pattern.sub(expand_match, text)\n",
        "    expanded_text = re.sub(\"'\", \"\", expanded_text)\n",
        "    return expanded_text\n",
        "\n",
        "def remove_special_characters(text, remove_digits=False):\n",
        "    pattern = r'[^a-zA-z0-9\\s]' if not remove_digits else r'[^a-zA-z\\s]'\n",
        "    text = re.sub(pattern, '', text)\n",
        "    return text\n",
        "\n",
        "def simple_stemmer(text):\n",
        "    ps = nltk.porter.PorterStemmer()\n",
        "    text = ' '.join([ps.stem(word) for word in text.split()])\n",
        "    return text\n",
        "\n",
        "def lemmatize_text(text):\n",
        "    text = nlp(text)\n",
        "    text = ' '.join([word.lemma_ if word.lemma_ != '-PRON-' else word.text for word in text])\n",
        "    return text\n",
        "\n",
        "def remove_stopwords(text, is_lower_case=False):\n",
        "    tokens = tokenizer.tokenize(text)\n",
        "    tokens = [token.strip() for token in tokens]\n",
        "    if is_lower_case:\n",
        "        filtered_tokens = [token for token in tokens if token not in stopword_list]\n",
        "    else:\n",
        "        filtered_tokens = [token for token in tokens if token.lower() not in stopword_list]\n",
        "    filtered_text = ' '.join(filtered_tokens)    \n",
        "    return filtered_text"
      ],
      "execution_count": 36,
      "outputs": []
    },
    {
      "cell_type": "code",
      "metadata": {
        "id": "vA4FHUDnHvFT",
        "colab_type": "code",
        "colab": {}
      },
      "source": [
        "def normalize_corpus(corpus, html_stripping=True, contraction_expansion=True,\n",
        "                     accented_char_removal=True, text_lower_case=True, \n",
        "                     text_lemmatization=True, special_char_removal=True, \n",
        "                     stopword_removal=True, remove_digits=True):\n",
        "    normalized_corpus = []\n",
        "    # normalize each document in the corpus\n",
        "    for doc in corpus:\n",
        "            \n",
        "        # strip HTML\n",
        "        if html_stripping:\n",
        "            doc = strip_html_tags(doc)\n",
        "            \n",
        "        # remove accented characters\n",
        "        if accented_char_removal:\n",
        "            doc = remove_accented_chars(doc)\n",
        "            \n",
        "        # expand contractions    \n",
        "        if contraction_expansion:\n",
        "            doc = expand_contractions(doc)\n",
        "            \n",
        "        # lowercase the text    \n",
        "        if text_lower_case:\n",
        "            doc = doc.lower()\n",
        "            \n",
        "        # remove extra newlines\n",
        "        doc = re.sub(r'[\\r|\\n|\\r\\n]+', ' ',doc)\n",
        "        \n",
        "        # lemmatize text\n",
        "        if text_lemmatization:\n",
        "            doc = lemmatize_text(doc)\n",
        "            \n",
        "        # remove special characters and\\or digits    \n",
        "        if special_char_removal:\n",
        "            \n",
        "            # insert spaces between special characters to isolate them    \n",
        "            special_char_pattern = re.compile(r'([{.(-)!}])')\n",
        "            doc = special_char_pattern.sub(\" \\\\1 \", doc)\n",
        "            doc = remove_special_characters(doc, remove_digits=remove_digits) \n",
        "            \n",
        "        # remove extra whitespace\n",
        "        doc = re.sub(' +', ' ', doc)\n",
        "        \n",
        "        # remove stopwords\n",
        "        if stopword_removal:\n",
        "            doc = remove_stopwords(doc, is_lower_case=text_lower_case)\n",
        "            \n",
        "        normalized_corpus.append(doc)\n",
        "        \n",
        "    return normalized_corpus"
      ],
      "execution_count": 37,
      "outputs": []
    },
    {
      "cell_type": "code",
      "metadata": {
        "id": "LTnnNd9GHvFV",
        "colab_type": "code",
        "colab": {}
      },
      "source": [
        "# pre-process text and store the same\n",
        "df['text'] = normalize_corpus(df['text'])"
      ],
      "execution_count": 38,
      "outputs": []
    },
    {
      "cell_type": "code",
      "metadata": {
        "id": "OV2cdvRoHvFZ",
        "colab_type": "code",
        "colab": {
          "base_uri": "https://localhost:8080/",
          "height": 70
        },
        "outputId": "93343237-6052-412a-bb69-0cea533b853e"
      },
      "source": [
        "print_plot(5)"
      ],
      "execution_count": 39,
      "outputs": [
        {
          "output_type": "stream",
          "text": [
            "Text: not give advice lemtrada choose cladribine think drug doctor bart keen give people spms read\n",
            "Drug: cladribine\n",
            "Sentiment: 2\n"
          ],
          "name": "stdout"
        }
      ]
    },
    {
      "cell_type": "code",
      "metadata": {
        "id": "iFX3kEXsHvFc",
        "colab_type": "code",
        "colab": {
          "base_uri": "https://localhost:8080/",
          "height": 90
        },
        "outputId": "0113186b-f1a7-4395-966c-ca7da8277f4d"
      },
      "source": [
        "print_plot(6)"
      ],
      "execution_count": 40,
      "outputs": [
        {
          "output_type": "stream",
          "text": [
            "Text: reply post jesszidek hi jess sorry read challenge health mention lot post want share info point first know say scared humira humira biologic successful reduce symptom induce maintain disease remission reduce level fear help learn treatment option learn treatment option learn view understanding ibd medication brochure would like talk contact help center infocrohnscolitisfoundation org\n",
            "Drug: humira\n",
            "Sentiment: 0\n"
          ],
          "name": "stdout"
        }
      ]
    },
    {
      "cell_type": "code",
      "metadata": {
        "id": "GB_9dfV3HvFg",
        "colab_type": "code",
        "colab": {
          "base_uri": "https://localhost:8080/",
          "height": 35
        },
        "outputId": "a0b5ed46-057c-4598-8c95-9a186d4d9025"
      },
      "source": [
        "df['text'].apply(lambda x: len(x.split(' '))).sum()"
      ],
      "execution_count": 41,
      "outputs": [
        {
          "output_type": "execute_result",
          "data": {
            "text/plain": [
              "1038088"
            ]
          },
          "metadata": {
            "tags": []
          },
          "execution_count": 41
        }
      ]
    },
    {
      "cell_type": "code",
      "metadata": {
        "id": "6pJ_bEpHHvFi",
        "colab_type": "code",
        "colab": {
          "base_uri": "https://localhost:8080/",
          "height": 70
        },
        "outputId": "81ef1346-ade5-4ed2-ae4e-19699616eb4a"
      },
      "source": [
        "print(\"Unique Values: \" + str(len(df['text'].unique())))\n",
        "print(\"Overall Values: \" + str(len(df['text'])))\n",
        "print(\"Difference: \"+ str(len(df['text']) - len(df['text'].unique())))"
      ],
      "execution_count": 42,
      "outputs": [
        {
          "output_type": "stream",
          "text": [
            "Unique Values: 5176\n",
            "Overall Values: 5279\n",
            "Difference: 103\n"
          ],
          "name": "stdout"
        }
      ]
    },
    {
      "cell_type": "code",
      "metadata": {
        "id": "kPUVU4r-m5Es",
        "colab_type": "code",
        "colab": {
          "base_uri": "https://localhost:8080/",
          "height": 35
        },
        "outputId": "50bfebf2-d097-472e-8cfc-d736796c66b9"
      },
      "source": [
        "df.columns"
      ],
      "execution_count": 43,
      "outputs": [
        {
          "output_type": "execute_result",
          "data": {
            "text/plain": [
              "Index(['text', 'drug', 'sentiment'], dtype='object')"
            ]
          },
          "metadata": {
            "tags": []
          },
          "execution_count": 43
        }
      ]
    },
    {
      "cell_type": "markdown",
      "metadata": {
        "id": "KDWH9GJqHvFt",
        "colab_type": "text"
      },
      "source": [
        "### Balancing the Dataset (ROS)"
      ]
    },
    {
      "cell_type": "code",
      "metadata": {
        "id": "Z0UFaFAdHvFq",
        "colab_type": "code",
        "colab": {
          "base_uri": "https://localhost:8080/",
          "height": 363
        },
        "outputId": "cf5c8040-79ef-49c0-c800-5c6595ac5cdd"
      },
      "source": [
        "sentiment_count = df['sentiment'].value_counts()\n",
        "print('Class 0:', sentiment_count[0])\n",
        "print('Class 1:', sentiment_count[1])\n",
        "print('Class 2:', sentiment_count[2])\n",
        "sentiment_count.plot(kind='bar', title='Count (sentiment)');\n",
        "plt.xlabel('Review Sentiments')\n",
        "plt.ylabel('Number of Review')"
      ],
      "execution_count": 44,
      "outputs": [
        {
          "output_type": "stream",
          "text": [
            "Class 0: 617\n",
            "Class 1: 837\n",
            "Class 2: 3825\n"
          ],
          "name": "stdout"
        },
        {
          "output_type": "execute_result",
          "data": {
            "text/plain": [
              "Text(0, 0.5, 'Number of Review')"
            ]
          },
          "metadata": {
            "tags": []
          },
          "execution_count": 44
        },
        {
          "output_type": "display_data",
          "data": {
            "image/png": "[encoded data removed]",
            "text/plain": [
              "<Figure size 432x288 with 1 Axes>"
            ]
          },
          "metadata": {
            "tags": [],
            "needs_background": "light"
          }
        }
      ]
    },
    {
      "cell_type": "code",
      "metadata": {
        "id": "Uh2Lv1lnm9S9",
        "colab_type": "code",
        "colab": {}
      },
      "source": [
        "y= df['sentiment']"
      ],
      "execution_count": 45,
      "outputs": []
    },
    {
      "cell_type": "code",
      "metadata": {
        "id": "gPVckH0snKaP",
        "colab_type": "code",
        "colab": {}
      },
      "source": [
        "X= df.drop('sentiment', axis=1)\n",
        "X = df.drop('drug', axis=1)"
      ],
      "execution_count": 46,
      "outputs": []
    },
    {
      "cell_type": "code",
      "metadata": {
        "id": "q9ljOTDbHvFt",
        "colab_type": "code",
        "colab": {
          "base_uri": "https://localhost:8080/",
          "height": 144
        },
        "outputId": "60eaf5ce-ad77-4231-e366-28cf169aa4b0"
      },
      "source": [
        "from imblearn.over_sampling import RandomOverSampler\n",
        "\n",
        "ros = RandomOverSampler()\n",
        "x_ros,y_ros = ros.fit_sample(X,y)"
      ],
      "execution_count": 47,
      "outputs": [
        {
          "output_type": "stream",
          "text": [
            "/usr/local/lib/python3.6/dist-packages/sklearn/externals/six.py:31: FutureWarning: The module is deprecated in version 0.21 and will be removed in version 0.23 since we've dropped support for Python 2.7. Please rely on the official version of six (https://pypi.org/project/six/).\n",
            "  \"(https://pypi.org/project/six/).\", FutureWarning)\n",
            "/usr/local/lib/python3.6/dist-packages/sklearn/utils/deprecation.py:144: FutureWarning: The sklearn.neighbors.base module is  deprecated in version 0.22 and will be removed in version 0.24. The corresponding classes / functions should instead be imported from sklearn.neighbors. Anything that cannot be imported from sklearn.neighbors is now part of the private API.\n",
            "  warnings.warn(message, FutureWarning)\n",
            "/usr/local/lib/python3.6/dist-packages/sklearn/utils/deprecation.py:87: FutureWarning: Function safe_indexing is deprecated; safe_indexing is deprecated in version 0.22 and will be removed in version 0.24.\n",
            "  warnings.warn(msg, category=FutureWarning)\n"
          ],
          "name": "stderr"
        }
      ]
    },
    {
      "cell_type": "code",
      "metadata": {
        "id": "Uy-zH014HvFw",
        "colab_type": "code",
        "colab": {
          "base_uri": "https://localhost:8080/",
          "height": 35
        },
        "outputId": "43b9a3ec-ad8b-4e94-919e-842ed1912cc1"
      },
      "source": [
        "print(x_ros.shape)"
      ],
      "execution_count": 48,
      "outputs": [
        {
          "output_type": "stream",
          "text": [
            "(11475, 2)\n"
          ],
          "name": "stdout"
        }
      ]
    },
    {
      "cell_type": "code",
      "metadata": {
        "id": "C0x2TW9qHvF0",
        "colab_type": "code",
        "colab": {
          "base_uri": "https://localhost:8080/",
          "height": 35
        },
        "outputId": "96235b57-507f-4fb7-9d3a-3d47e870c00f"
      },
      "source": [
        "print(y_ros.shape)"
      ],
      "execution_count": 49,
      "outputs": [
        {
          "output_type": "stream",
          "text": [
            "(11475,)\n"
          ],
          "name": "stdout"
        }
      ]
    },
    {
      "cell_type": "code",
      "metadata": {
        "id": "LAV5zIpAnfPg",
        "colab_type": "code",
        "colab": {}
      },
      "source": [
        "y_ros_df= pd.DataFrame({'sentiments': y_ros})"
      ],
      "execution_count": 50,
      "outputs": []
    },
    {
      "cell_type": "code",
      "metadata": {
        "id": "-RY0BluopBxX",
        "colab_type": "code",
        "colab": {
          "base_uri": "https://localhost:8080/",
          "height": 35
        },
        "outputId": "dc5a4411-298d-4ee2-e20e-de1bf5edc2df"
      },
      "source": [
        "y_ros_df.shape"
      ],
      "execution_count": 51,
      "outputs": [
        {
          "output_type": "execute_result",
          "data": {
            "text/plain": [
              "(11475, 1)"
            ]
          },
          "metadata": {
            "tags": []
          },
          "execution_count": 51
        }
      ]
    },
    {
      "cell_type": "code",
      "metadata": {
        "id": "77pYjfrDoSkd",
        "colab_type": "code",
        "colab": {
          "base_uri": "https://localhost:8080/",
          "height": 268
        },
        "outputId": "9a75a132-f2e3-4ce6-b8d0-85f269075773"
      },
      "source": [
        "x_ros"
      ],
      "execution_count": 52,
      "outputs": [
        {
          "output_type": "execute_result",
          "data": {
            "text/plain": [
              "array([['autoimmune disease tend come cluster gilenya feel good not think not change anything waste time energy take tysabri feel amazing no symptom dodgy color vision since always not know not know last month year decade decide enjoy ride no point worry',\n",
              "        2],\n",
              "       ['completely understand would want try result report lecture not always stand scrutiny peer review publication much still convincing hope work really aware happy risk great think important present balanced way understand not move straight first show promise animal study use drug human still lot animal datum gather human datum gather anyone tell safe effective not tell many time animal study not follow human one major attrition point drug development unpredictability issue cladribine gilenya interaction not predict people try doctor see pattern work go clemastine metformin exciting give say current condition personal risk tolerance make sense try definitely would not everyone',\n",
              "        2],\n",
              "       ['interesting target sp receptor rather like fingolimod hope soon see aes sae yes not sure mean exactly quote nine patient report serious adverse event mg [ ] mg [ ] mg [ ] mg [ ] no serious adverse event report patient no new safety signal occur compare bold study patient report sae state no serious adverse event report patient maybe not read right maybe misprint pleased something develop spms encourage siponimod not linger long body',\n",
              "        2],\n",
              "       ...,\n",
              "       ['look dr gs treatment pyramid ms inflammation neurodegeneration remyelination neurorestoration ocrelizumab address treatment pyramid ms neurodegeneration suppose account reduction inflammation drug researcher either find cause prevent ms start combine drug address different level disease individual ms treatment bind fail example alemtuzumab tysabri crab bg aubagio gilenya ocrelizumab inflammation combine laquimod ibudilast antiseizure med ocrelizumab neurodegeneration anti lingo clemastine rhigm remyelination neuroprogenitor stem cell neurorestoration never happen lifetime multiple reason number one reason cost greed treat level disease independent one another currently ms patient continue worsen',\n",
              "        1],\n",
              "       ['hello everyone year year old year ago hemorrhage right eye require vitrectomy laser leave impaired vision eye well regular checkup left eye day ago advise new vessel develop consultant recommend laser vague drive implication need advise dvla treatment would not offer opinion dvla reaction continue drive short term long term driving essential job frightened future anybody tell likely happen tell dvla first session wait till course complete happen tell dvla licence revoke immediately wait see extent treatment need nee file test session long take get licence back revoke assume pass field test etc no scare story please frightened depressed need information thank rob',\n",
              "        1],\n",
              "       ['thank reply investigate drug bit follow meditation ease stress side effect read drug com commonly report side effect cladribine include infection anuria severe neutropenia neurotoxicity neutropenia thrombocytopenia fever acidosis renal insufficiency increase serum creatinine side effect include pruritus thank everyone',\n",
              "        1]], dtype=object)"
            ]
          },
          "metadata": {
            "tags": []
          },
          "execution_count": 52
        }
      ]
    },
    {
      "cell_type": "code",
      "metadata": {
        "id": "Gs-okKHuoI8Z",
        "colab_type": "code",
        "colab": {}
      },
      "source": [
        "X_ros_df = pd.DataFrame({'text': x_ros[:, 0]})"
      ],
      "execution_count": 53,
      "outputs": []
    },
    {
      "cell_type": "code",
      "metadata": {
        "id": "Io6ZBTVoo3Do",
        "colab_type": "code",
        "colab": {
          "base_uri": "https://localhost:8080/",
          "height": 266
        },
        "outputId": "dc04da81-e9e9-47c3-9ea4-89036038e026"
      },
      "source": [
        "X_ros_df.head"
      ],
      "execution_count": 54,
      "outputs": [
        {
          "output_type": "execute_result",
          "data": {
            "text/plain": [
              "<bound method NDFrame.head of                                                     text\n",
              "0      autoimmune disease tend come cluster gilenya f...\n",
              "1      completely understand would want try result re...\n",
              "2      interesting target sp receptor rather like fin...\n",
              "3      interesting grand merci wonder lemtrada ocrevu...\n",
              "4      hi everybody late mri result brain cervical co...\n",
              "...                                                  ...\n",
              "11470  interesting jihm year eylea one doctor tell no...\n",
              "11471  hate know not seem work long good month go fas...\n",
              "11472  look dr gs treatment pyramid ms inflammation n...\n",
              "11473  hello everyone year year old year ago hemorrha...\n",
              "11474  thank reply investigate drug bit follow medita...\n",
              "\n",
              "[11475 rows x 1 columns]>"
            ]
          },
          "metadata": {
            "tags": []
          },
          "execution_count": 54
        }
      ]
    },
    {
      "cell_type": "code",
      "metadata": {
        "id": "oKD1VtOEpAhD",
        "colab_type": "code",
        "colab": {
          "base_uri": "https://localhost:8080/",
          "height": 35
        },
        "outputId": "8e1eef2b-d5b2-4cf7-8f16-72f17e91e8ad"
      },
      "source": [
        "X_ros_df.shape"
      ],
      "execution_count": 55,
      "outputs": [
        {
          "output_type": "execute_result",
          "data": {
            "text/plain": [
              "(11475, 1)"
            ]
          },
          "metadata": {
            "tags": []
          },
          "execution_count": 55
        }
      ]
    },
    {
      "cell_type": "code",
      "metadata": {
        "id": "5VgGLBWkHvF3",
        "colab_type": "code",
        "colab": {
          "base_uri": "https://localhost:8080/",
          "height": 363
        },
        "outputId": "7c06defc-a85a-40fe-9e5e-72b724c65c95"
      },
      "source": [
        "resampled_sentiment_count = y_ros_df.sentiments.value_counts()\n",
        "\n",
        "print('Class 0:', resampled_sentiment_count[0])\n",
        "print('Class 1:', resampled_sentiment_count[1])\n",
        "print('Class 2:', resampled_sentiment_count[2])\n",
        "resampled_sentiment_count.plot(kind='bar', title='Count (Resampled Sentiment)');\n",
        "plt.xlabel('Review Sentiments')\n",
        "plt.ylabel('Number of Review')"
      ],
      "execution_count": 56,
      "outputs": [
        {
          "output_type": "stream",
          "text": [
            "Class 0: 3825\n",
            "Class 1: 3825\n",
            "Class 2: 3825\n"
          ],
          "name": "stdout"
        },
        {
          "output_type": "execute_result",
          "data": {
            "text/plain": [
              "Text(0, 0.5, 'Number of Review')"
            ]
          },
          "metadata": {
            "tags": []
          },
          "execution_count": 56
        },
        {
          "output_type": "display_data",
          "data": {
            "image/png": "[encoded data removed]",
            "text/plain": [
              "<Figure size 432x288 with 1 Axes>"
            ]
          },
          "metadata": {
            "tags": [],
            "needs_background": "light"
          }
        }
      ]
    },
    {
      "cell_type": "code",
      "metadata": {
        "id": "mC7Lh-0WHvFl",
        "colab_type": "code",
        "colab": {}
      },
      "source": [
        "tfidf = TfidfVectorizer()\n",
        "\n",
        "# Fitting TF-IDF to both training and test sets (semi-supervised learning)\n",
        "tfidf.fit(list(X_ros_df['text']))\n",
        "text_tfidf =  tfidf.transform(X_ros_df['text'])"
      ],
      "execution_count": 57,
      "outputs": []
    },
    {
      "cell_type": "code",
      "metadata": {
        "id": "5eG_ydLsHvF5",
        "colab_type": "code",
        "colab": {}
      },
      "source": [
        "from sklearn.model_selection import train_test_split\n",
        "(X_train_bal, X_test_bal, y_train_bal, y_test_bal) = train_test_split(text_tfidf, y_ros, test_size =.25, random_state =52)\n"
      ],
      "execution_count": 58,
      "outputs": []
    },
    {
      "cell_type": "code",
      "metadata": {
        "id": "b8abuFBoHvF8",
        "colab_type": "code",
        "colab": {
          "base_uri": "https://localhost:8080/",
          "height": 35
        },
        "outputId": "8fdbb3f7-ec52-41e1-b0fb-be68ed0bbf40"
      },
      "source": [
        "print(X_train_bal.shape, X_test_bal.shape, y_train_bal.shape, y_test_bal.shape)"
      ],
      "execution_count": 59,
      "outputs": [
        {
          "output_type": "stream",
          "text": [
            "(8606, 32234) (2869, 32234) (8606,) (2869,)\n"
          ],
          "name": "stdout"
        }
      ]
    },
    {
      "cell_type": "markdown",
      "metadata": {
        "id": "nTX0CRX7HvF-",
        "colab_type": "text"
      },
      "source": [
        "### Loss Metrics Functions"
      ]
    },
    {
      "cell_type": "code",
      "metadata": {
        "id": "d_UUbFWLHvF-",
        "colab_type": "code",
        "colab": {}
      },
      "source": [
        "def multiclass_logloss(actual, predicted, eps=1e-15):\n",
        "    \"\"\"Multi class version of Logarithmic Loss metric.\n",
        "    :param actual: Array containing the actual target classes\n",
        "    :param predicted: Matrix with class predictions, one probability per class\n",
        "    \"\"\"\n",
        "    # Convert 'actual' to a binary array if it's not already:\n",
        "    if len(actual.shape) == 1:\n",
        "        actual2 = np.zeros((actual.shape[0], predicted.shape[1]))\n",
        "        for i, val in enumerate(actual):\n",
        "            actual2[i, val] = 1\n",
        "        actual = actual2\n",
        "\n",
        "    clip = np.clip(predicted, eps, 1 - eps)\n",
        "    rows = actual.shape[0]\n",
        "    vsota = np.sum(actual * np.log(clip))\n",
        "    return -1.0 / rows * vsota"
      ],
      "execution_count": 60,
      "outputs": []
    },
    {
      "cell_type": "code",
      "metadata": {
        "id": "MZbpdsmnHvGA",
        "colab_type": "code",
        "colab": {}
      },
      "source": [
        "from sklearn.metrics import confusion_matrix \n",
        "\n",
        "def CN(ytest, ypred):\n",
        "  model_perforamnce = confusion_matrix(ytest, ypred)\n",
        "  return model_perforamnce"
      ],
      "execution_count": 61,
      "outputs": []
    },
    {
      "cell_type": "code",
      "metadata": {
        "id": "ujabQA8hHvGC",
        "colab_type": "code",
        "colab": {}
      },
      "source": [
        "from sklearn.metrics import classification_report \n",
        "\n",
        "def CR(ytest, ypred):\n",
        "  classification = classification_report(ytest, ypred)\n",
        "  return classification"
      ],
      "execution_count": 62,
      "outputs": []
    },
    {
      "cell_type": "code",
      "metadata": {
        "id": "3lFOF3mKHvGE",
        "colab_type": "code",
        "colab": {}
      },
      "source": [
        "from sklearn.metrics import accuracy_score\n",
        "\n",
        "def acc(ytest, ypred):\n",
        "  model_accuracy = accuracy_score(ytest, ypred)\n",
        "  return model_accuracy"
      ],
      "execution_count": 63,
      "outputs": []
    },
    {
      "cell_type": "code",
      "metadata": {
        "id": "Ll7jVcFeHvGG",
        "colab_type": "code",
        "colab": {}
      },
      "source": [
        "from sklearn.metrics import r2_score\n",
        "\n",
        "def r2(ytest, ypred):\n",
        "  r2s= r2_score(ytest, ypred)\n",
        "  return r2s"
      ],
      "execution_count": 64,
      "outputs": []
    },
    {
      "cell_type": "code",
      "metadata": {
        "id": "w-pHN1JKsVL-",
        "colab_type": "code",
        "colab": {
          "base_uri": "https://localhost:8080/",
          "height": 72
        },
        "outputId": "1d3a4a50-a2bd-4605-b264-34096db307a7"
      },
      "source": [
        "import seaborn as sns\n",
        "import numpy as np\n",
        "from sklearn.metrics import precision_recall_fscore_support\n",
        "import matplotlib.pyplot as plt\n",
        "\n",
        "y = np.random.randint(low=0, high=10, size=100)\n",
        "y_p = np.random.randint(low=0, high=10, size=100)\n",
        "\n",
        "def plot_classification_report(y_tru, y_prd, figsize=(10, 10), ax=None):\n",
        "\n",
        "    plt.figure(figsize=figsize)\n",
        "\n",
        "    xticks = ['precision', 'recall', 'f1-score', 'support']\n",
        "    yticks = list(np.unique(y_tru))\n",
        "    yticks += ['avg']\n",
        "\n",
        "    rep = np.array(precision_recall_fscore_support(y_tru, y_prd)).T\n",
        "    avg = np.mean(rep, axis=0)\n",
        "    avg[-1] = np.sum(rep[:, -1])\n",
        "    rep = np.insert(rep, rep.shape[0], avg, axis=0)\n",
        "\n",
        "    sns.heatmap(rep,\n",
        "                annot=True, \n",
        "                cbar=True, \n",
        "                xticklabels=xticks, \n",
        "                yticklabels=yticks,\n",
        "                ax=ax, cmap='coolwarm',vmin=0, vmax=1)"
      ],
      "execution_count": 65,
      "outputs": [
        {
          "output_type": "stream",
          "text": [
            "/usr/local/lib/python3.6/dist-packages/statsmodels/tools/_testing.py:19: FutureWarning: pandas.util.testing is deprecated. Use the functions in the public API at pandas.testing instead.\n",
            "  import pandas.util.testing as tm\n"
          ],
          "name": "stderr"
        }
      ]
    },
    {
      "cell_type": "markdown",
      "metadata": {
        "id": "YJbfUJNOHvGI",
        "colab_type": "text"
      },
      "source": [
        "### [0] Baseline Model (Logistic Regression)"
      ]
    },
    {
      "cell_type": "code",
      "metadata": {
        "id": "B-_-TWOlHvGI",
        "colab_type": "code",
        "colab": {
          "base_uri": "https://localhost:8080/",
          "height": 1000
        },
        "outputId": "92ccedb6-d5b3-43be-8406-967e0addf7f8"
      },
      "source": [
        "from sklearn.linear_model import LogisticRegression\n",
        "\n",
        "# Fitting a simple Logistic Regression on TFIDF\n",
        "clfLR = LogisticRegression(C=1.0)\n",
        "clfLR.fit(X_train_bal, y_train_bal)\n",
        "predictions = clfLR.predict(X_test_bal)\n",
        "\n",
        "print(\"confusion matrix :\"+str(CN(y_test_bal, predictions)))\n",
        "print(\"accuracy :\"+str(acc(y_test_bal, predictions)))\n",
        "print(\"classification report :\"+str(CR(y_test_bal, predictions)))\n",
        "print(\"r2 score :\"+str(r2(y_test_bal, predictions)))\n",
        "plot_classification_report(y_test_bal, predictions)"
      ],
      "execution_count": 66,
      "outputs": [
        {
          "output_type": "stream",
          "text": [
            "/usr/local/lib/python3.6/dist-packages/sklearn/linear_model/_logistic.py:940: ConvergenceWarning: lbfgs failed to converge (status=1):\n",
            "STOP: TOTAL NO. of ITERATIONS REACHED LIMIT.\n",
            "\n",
            "Increase the number of iterations (max_iter) or scale the data as shown in:\n",
            "    https://scikit-learn.org/stable/modules/preprocessing.html\n",
            "Please also refer to the documentation for alternative solver options:\n",
            "    https://scikit-learn.org/stable/modules/linear_model.html#logistic-regression\n",
            "  extra_warning_msg=_LOGISTIC_SOLVER_CONVERGENCE_MSG)\n"
          ],
          "name": "stderr"
        },
        {
          "output_type": "stream",
          "text": [
            "confusion matrix :[[942  10  26]\n",
            " [ 13 838  67]\n",
            " [150 137 686]]\n",
            "accuracy :0.85953293830603\n",
            "classification report :              precision    recall  f1-score   support\n",
            "\n",
            "           0       0.85      0.96      0.90       978\n",
            "           1       0.85      0.91      0.88       918\n",
            "           2       0.88      0.71      0.78       973\n",
            "\n",
            "    accuracy                           0.86      2869\n",
            "   macro avg       0.86      0.86      0.86      2869\n",
            "weighted avg       0.86      0.86      0.86      2869\n",
            "\n",
            "r2 score :0.5228066846821933\n"
          ],
          "name": "stdout"
        },
        {
          "output_type": "display_data",
          "data": {
            "image/png": "[encoded data removed]",
            "text/plain": [
              "<Figure size 720x720 with 2 Axes>"
            ]
          },
          "metadata": {
            "tags": [],
            "needs_background": "light"
          }
        }
      ]
    },
    {
      "cell_type": "code",
      "metadata": {
        "id": "n8iwW6IhHvGL",
        "colab_type": "code",
        "colab": {
          "base_uri": "https://localhost:8080/",
          "height": 177
        },
        "outputId": "fc6f47b0-559a-43d1-e500-53c5b8037904"
      },
      "source": [
        "predictionsLR = clfLR.predict_proba(X_test_bal)\n",
        "\n",
        "print (\"logloss: %0.3f \" % multiclass_logloss(y_test_bal, predictionsLR))\n",
        "print(predictionsLR.shape)\n",
        "predictionsLR"
      ],
      "execution_count": 67,
      "outputs": [
        {
          "output_type": "stream",
          "text": [
            "logloss: 0.539 \n",
            "(2869, 3)\n"
          ],
          "name": "stdout"
        },
        {
          "output_type": "execute_result",
          "data": {
            "text/plain": [
              "array([[0.06755251, 0.79137496, 0.14107254],\n",
              "       [0.14687182, 0.69783109, 0.15529708],\n",
              "       [0.70600491, 0.1406676 , 0.15332749],\n",
              "       ...,\n",
              "       [0.12119967, 0.68167238, 0.19712795],\n",
              "       [0.1224051 , 0.04074675, 0.83684815],\n",
              "       [0.18960309, 0.12513714, 0.68525977]])"
            ]
          },
          "metadata": {
            "tags": []
          },
          "execution_count": 67
        }
      ]
    },
    {
      "cell_type": "markdown",
      "metadata": {
        "id": "etmY3Z4fHvGO",
        "colab_type": "text"
      },
      "source": [
        "### [1] MultinomialNB"
      ]
    },
    {
      "cell_type": "code",
      "metadata": {
        "id": "QrCWLpi-HvGP",
        "colab_type": "code",
        "colab": {
          "base_uri": "https://localhost:8080/",
          "height": 863
        },
        "outputId": "92cdd6c5-8cda-408d-e1e7-eda214c98a44"
      },
      "source": [
        " from sklearn.naive_bayes import MultinomialNB\n",
        "\n",
        "clfMNB = MultinomialNB()\n",
        "clfMNB.fit(X_train_bal, y_train_bal)\n",
        "predictions = clfMNB.predict(X_test_bal)\n",
        "\n",
        "\n",
        "print(\"confusion matrix :\"+str(CN(y_test_bal, predictions)))\n",
        "print(\"accuracy :\"+str(acc(y_test_bal, predictions)))\n",
        "print(\"classification report :\"+str(CR(y_test_bal, predictions)))\n",
        "print(\"r2 score :\"+str(r2(y_test_bal, predictions)))\n",
        "plot_classification_report(y_test_bal, predictions)"
      ],
      "execution_count": 68,
      "outputs": [
        {
          "output_type": "stream",
          "text": [
            "confusion matrix :[[781 145  52]\n",
            " [ 52 800  66]\n",
            " [230 294 449]]\n",
            "accuracy :0.7075636110142907\n",
            "classification report :              precision    recall  f1-score   support\n",
            "\n",
            "           0       0.73      0.80      0.77       978\n",
            "           1       0.65      0.87      0.74       918\n",
            "           2       0.79      0.46      0.58       973\n",
            "\n",
            "    accuracy                           0.71      2869\n",
            "   macro avg       0.72      0.71      0.70      2869\n",
            "weighted avg       0.73      0.71      0.70      2869\n",
            "\n",
            "r2 score :0.13633648086949046\n"
          ],
          "name": "stdout"
        },
        {
          "output_type": "display_data",
          "data": {
            "image/png": "[encoded data removed]",
            "text/plain": [
              "<Figure size 720x720 with 2 Axes>"
            ]
          },
          "metadata": {
            "tags": [],
            "needs_background": "light"
          }
        }
      ]
    },
    {
      "cell_type": "code",
      "metadata": {
        "id": "nuPmbHzNHvGR",
        "colab_type": "code",
        "colab": {
          "base_uri": "https://localhost:8080/",
          "height": 177
        },
        "outputId": "e58180ba-b88e-4b7d-9f7d-a9b61e5acdfc"
      },
      "source": [
        "predictionsMNB = clfMNB.predict_proba(X_test_bal)\n",
        "print (\"logloss: %0.3f \" % multiclass_logloss(y_test_bal, predictionsMNB))\n",
        "print(predictionsMNB.shape)\n",
        "predictionsMNB"
      ],
      "execution_count": 69,
      "outputs": [
        {
          "output_type": "stream",
          "text": [
            "logloss: 0.704 \n",
            "(2869, 3)\n"
          ],
          "name": "stdout"
        },
        {
          "output_type": "execute_result",
          "data": {
            "text/plain": [
              "array([[0.02199323, 0.82693864, 0.15106813],\n",
              "       [0.08621324, 0.82464074, 0.08914603],\n",
              "       [0.38738667, 0.38100649, 0.23160684],\n",
              "       ...,\n",
              "       [0.39194492, 0.36937339, 0.23868169],\n",
              "       [0.01233358, 0.03536199, 0.95230443],\n",
              "       [0.27512009, 0.39364039, 0.33123952]])"
            ]
          },
          "metadata": {
            "tags": []
          },
          "execution_count": 69
        }
      ]
    },
    {
      "cell_type": "markdown",
      "metadata": {
        "id": "DyR8-yDNHvGU",
        "colab_type": "text"
      },
      "source": [
        "###  [2] Support Vector Classifier"
      ]
    },
    {
      "cell_type": "code",
      "metadata": {
        "id": "b0UlkcdVHvGV",
        "colab_type": "code",
        "colab": {
          "base_uri": "https://localhost:8080/",
          "height": 863
        },
        "outputId": "47e8ba94-be0f-415c-a6ee-f804a8d40ea0"
      },
      "source": [
        "from sklearn.svm import SVC\n",
        "# Fitting a simple SVM\n",
        "clfSVC = SVC(C=1.0, probability=True) # since we need probabilities\n",
        "clfSVC.fit(X_train_bal, y_train_bal)\n",
        "predictions = clfSVC.predict(X_test_bal)\n",
        "\n",
        "print(\"confusion matrix :\"+str(CN(y_test_bal, predictions)))\n",
        "print(\"accuracy :\"+str(acc(y_test_bal, predictions)))\n",
        "print(\"classification report :\"+str(CR(y_test_bal, predictions)))\n",
        "print(\"r2 score :\"+str(r2(y_test_bal, predictions)))\n",
        "plot_classification_report(y_test_bal, predictions)"
      ],
      "execution_count": 70,
      "outputs": [
        {
          "output_type": "stream",
          "text": [
            "confusion matrix :[[970   0   8]\n",
            " [  0 891  27]\n",
            " [ 26  45 902]]\n",
            "accuracy :0.9630533286859533\n",
            "classification report :              precision    recall  f1-score   support\n",
            "\n",
            "           0       0.97      0.99      0.98       978\n",
            "           1       0.95      0.97      0.96       918\n",
            "           2       0.96      0.93      0.94       973\n",
            "\n",
            "    accuracy                           0.96      2869\n",
            "   macro avg       0.96      0.96      0.96      2869\n",
            "weighted avg       0.96      0.96      0.96      2869\n",
            "\n",
            "r2 score :0.8933875299827027\n"
          ],
          "name": "stdout"
        },
        {
          "output_type": "display_data",
          "data": {
            "image/png": "[encoded data removed]",
            "text/plain": [
              "<Figure size 720x720 with 2 Axes>"
            ]
          },
          "metadata": {
            "tags": [],
            "needs_background": "light"
          }
        }
      ]
    },
    {
      "cell_type": "code",
      "metadata": {
        "id": "EbIXsFbXHvGX",
        "colab_type": "code",
        "colab": {
          "base_uri": "https://localhost:8080/",
          "height": 177
        },
        "outputId": "88c45267-2b0c-4dc6-d705-ebd1fc575019"
      },
      "source": [
        "predictionsSVC = clfSVC.predict_proba(X_test_bal)\n",
        "\n",
        "print (\"logloss: %0.3f \" % multiclass_logloss(y_test_bal, predictionsSVC))\n",
        "print(predictionsSVC.shape)\n",
        "predictionsSVC"
      ],
      "execution_count": 71,
      "outputs": [
        {
          "output_type": "stream",
          "text": [
            "logloss: 0.103 \n",
            "(2869, 3)\n"
          ],
          "name": "stdout"
        },
        {
          "output_type": "execute_result",
          "data": {
            "text/plain": [
              "array([[1.38548264e-04, 9.86805703e-01, 1.30557491e-02],\n",
              "       [1.46907220e-04, 9.86830303e-01, 1.30227895e-02],\n",
              "       [9.95762393e-01, 7.52557187e-04, 3.48504973e-03],\n",
              "       ...,\n",
              "       [1.38925191e-04, 9.86792102e-01, 1.30689726e-02],\n",
              "       [6.53629878e-06, 4.98207984e-06, 9.99988482e-01],\n",
              "       [4.95279216e-03, 1.57173505e-02, 9.79329857e-01]])"
            ]
          },
          "metadata": {
            "tags": []
          },
          "execution_count": 71
        }
      ]
    },
    {
      "cell_type": "markdown",
      "metadata": {
        "id": "RVbwIJUHHvGb",
        "colab_type": "text"
      },
      "source": [
        "### [2.1] Applying GRID SEARCH"
      ]
    },
    {
      "cell_type": "code",
      "metadata": {
        "id": "1eryWExIHvGc",
        "colab_type": "code",
        "colab": {}
      },
      "source": [
        "from sklearn.metrics import make_scorer\n",
        "from sklearn.model_selection import GridSearchCV\n",
        "from sklearn.model_selection import ShuffleSplit\n",
        "\n",
        "def fit_model(X, y):\n",
        "    \"\"\" Performs grid search over the 'max_depth' parameter for a \n",
        "        decision tree regressor trained on the input data [X, y]. \"\"\"\n",
        "    \n",
        "    # Create cross-validation sets from the training data\n",
        "    # sklearn version 0.18: ShuffleSplit(n_splits=10, test_size=0.1, train_size=None, random_state=None)\n",
        "    # sklearn versiin 0.17: ShuffleSplit(n, n_iter=10, test_size=0.1, train_size=None, random_state=None)\n",
        "    cv_sets = ShuffleSplit(n_splits=10, test_size=0.2, train_size=0.2, random_state = 0)\n",
        "\n",
        "    # TODO: Create a decision tree regressor object\n",
        "    regressor = SVC()\n",
        "\n",
        "    # TODO: Create a dictionary for the parameter 'max_depth' with a range from 1 to 10\n",
        "    params = {'C': [0.1, 1, 10, 100, 1000],  \n",
        "              'gamma': [1, 0.1, 0.01, 0.001, 0.0001], \n",
        "              'kernel': ['rbf']}\n",
        "\n",
        "    # TODO: Transform 'performance_metric' into a scoring function using 'make_scorer' \n",
        "    scores = make_scorer(r2_score)\n",
        "\n",
        "\n",
        "    # TODO: Create the grid search cv object --> GridSearchCV()\n",
        "    # Make sure to include the right parameters in the object:\n",
        "    # (estimator, param_grid, scoring, cv) which have values 'regressor', 'params', 'scoring_fnc', and 'cv_sets' respectively.\n",
        "    grid = GridSearchCV(regressor, params, scores, cv=cv_sets)\n",
        "\n",
        "    # Fit the grid search object to the data to compute the optimal model\n",
        "    grid = grid.fit(X, y)\n",
        "\n",
        "\n",
        "    # Return the optimal model after fitting the data\n",
        "    return grid.best_estimator_"
      ],
      "execution_count": 72,
      "outputs": []
    },
    {
      "cell_type": "code",
      "metadata": {
        "id": "jckhkRBWHvGe",
        "colab_type": "code",
        "colab": {
          "base_uri": "https://localhost:8080/",
          "height": 35
        },
        "outputId": "abdcdf61-a2cf-4c2f-90b6-de6c056bed1f"
      },
      "source": [
        "import time\n",
        "tic = time.time()\n",
        "svc_model=fit_model(X_train_bal, y_train_bal)\n",
        "tok = time.time()\n",
        "\n",
        "print(\"time :\"+str((tok-tic)*1000))"
      ],
      "execution_count": 73,
      "outputs": [
        {
          "output_type": "stream",
          "text": [
            "time :1302473.3905792236\n"
          ],
          "name": "stdout"
        }
      ]
    },
    {
      "cell_type": "code",
      "metadata": {
        "id": "1wAHd61aHvGg",
        "colab_type": "code",
        "colab": {
          "base_uri": "https://localhost:8080/",
          "height": 88
        },
        "outputId": "c3433846-e2de-4232-8d32-b731f7056c68"
      },
      "source": [
        "print(svc_model)"
      ],
      "execution_count": 75,
      "outputs": [
        {
          "output_type": "stream",
          "text": [
            "SVC(C=100, break_ties=False, cache_size=200, class_weight=None, coef0=0.0,\n",
            "    decision_function_shape='ovr', degree=3, gamma=1, kernel='rbf', max_iter=-1,\n",
            "    probability=False, random_state=None, shrinking=True, tol=0.001,\n",
            "    verbose=False)\n"
          ],
          "name": "stdout"
        }
      ]
    },
    {
      "cell_type": "markdown",
      "metadata": {
        "id": "yPLMXAbsHvGh",
        "colab_type": "text"
      },
      "source": [
        "#### Applying Grid Searh results to SVC"
      ]
    },
    {
      "cell_type": "code",
      "metadata": {
        "id": "ZjrABuI-HvGi",
        "colab_type": "code",
        "colab": {
          "base_uri": "https://localhost:8080/",
          "height": 284
        },
        "outputId": "4ca413a0-946d-4084-b3d9-5447ee1006fe"
      },
      "source": [
        "\n",
        "svc_model.fit(X_train_bal, y_train_bal)\n",
        "predictions = svc_model.predict(X_test_bal)\n",
        "\n",
        "print(\"confusion matrix :\"+str(CN(y_test_bal, predictions)))\n",
        "print(\"accuracy :\"+str(acc(y_test_bal, predictions)))\n",
        "print(\"classification report :\"+str(CR(y_test_bal, predictions)))\n",
        "print(\"r2 score :\"+str(r2(y_test_bal, predictions)))"
      ],
      "execution_count": 76,
      "outputs": [
        {
          "output_type": "stream",
          "text": [
            "confusion matrix :[[973   0   5]\n",
            " [  0 902  16]\n",
            " [ 20  36 917]]\n",
            "accuracy :0.9731613802718717\n",
            "classification report :              precision    recall  f1-score   support\n",
            "\n",
            "           0       0.98      0.99      0.99       978\n",
            "           1       0.96      0.98      0.97       918\n",
            "           2       0.98      0.94      0.96       973\n",
            "\n",
            "    accuracy                           0.97      2869\n",
            "   macro avg       0.97      0.97      0.97      2869\n",
            "weighted avg       0.97      0.97      0.97      2869\n",
            "\n",
            "r2 score :0.922090887295052\n"
          ],
          "name": "stdout"
        }
      ]
    },
    {
      "cell_type": "code",
      "metadata": {
        "id": "5-a3KdgFHvGl",
        "colab_type": "code",
        "colab": {
          "base_uri": "https://localhost:8080/",
          "height": 596
        },
        "outputId": "ef790bea-c790-444e-8227-28e6be59b957"
      },
      "source": [
        "plot_classification_report(y_test_bal, predictions)"
      ],
      "execution_count": 79,
      "outputs": [
        {
          "output_type": "display_data",
          "data": {
            "image/png": "[encoded data removed]",
            "text/plain": [
              "<Figure size 720x720 with 2 Axes>"
            ]
          },
          "metadata": {
            "tags": [],
            "needs_background": "light"
          }
        }
      ]
    },
    {
      "cell_type": "code",
      "metadata": {
        "id": "sM3oeQ2cHvGp",
        "colab_type": "code",
        "colab": {}
      },
      "source": [
        ""
      ],
      "execution_count": null,
      "outputs": []
    }
  ]
}